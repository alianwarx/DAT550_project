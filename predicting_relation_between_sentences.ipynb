{
  "cells": [
    {
      "cell_type": "code",
      "execution_count": 1,
      "metadata": {
        "colab": {
          "base_uri": "https://localhost:8080/"
        },
        "id": "AEXo4lbijR3V",
        "outputId": "3208e25b-52ef-42c4-8a34-3cba0b1342cf"
      },
      "outputs": [
        {
          "output_type": "stream",
          "name": "stdout",
          "text": [
            "Requirement already satisfied: kaggle in /usr/local/lib/python3.7/dist-packages (1.5.12)\n",
            "Requirement already satisfied: requests in /usr/local/lib/python3.7/dist-packages (from kaggle) (2.23.0)\n",
            "Requirement already satisfied: python-slugify in /usr/local/lib/python3.7/dist-packages (from kaggle) (6.1.2)\n",
            "Requirement already satisfied: urllib3 in /usr/local/lib/python3.7/dist-packages (from kaggle) (1.24.3)\n",
            "Requirement already satisfied: certifi in /usr/local/lib/python3.7/dist-packages (from kaggle) (2021.10.8)\n",
            "Requirement already satisfied: six>=1.10 in /usr/local/lib/python3.7/dist-packages (from kaggle) (1.15.0)\n",
            "Requirement already satisfied: tqdm in /usr/local/lib/python3.7/dist-packages (from kaggle) (4.64.0)\n",
            "Requirement already satisfied: python-dateutil in /usr/local/lib/python3.7/dist-packages (from kaggle) (2.8.2)\n",
            "Requirement already satisfied: text-unidecode>=1.3 in /usr/local/lib/python3.7/dist-packages (from python-slugify->kaggle) (1.3)\n",
            "Requirement already satisfied: chardet<4,>=3.0.2 in /usr/local/lib/python3.7/dist-packages (from requests->kaggle) (3.0.4)\n",
            "Requirement already satisfied: idna<3,>=2.5 in /usr/local/lib/python3.7/dist-packages (from requests->kaggle) (2.10)\n"
          ]
        }
      ],
      "source": [
        "!pip install kaggle"
      ]
    },
    {
      "cell_type": "code",
      "execution_count": 2,
      "metadata": {
        "colab": {
          "base_uri": "https://localhost:8080/"
        },
        "id": "EjvgIw84ofKg",
        "outputId": "69ad6076-d5c7-4f9d-d693-526a53112a37"
      },
      "outputs": [
        {
          "output_type": "stream",
          "name": "stdout",
          "text": [
            "Collecting shap\n",
            "  Downloading shap-0.40.0-cp37-cp37m-manylinux2010_x86_64.whl (564 kB)\n",
            "\u001b[K     |████████████████████████████████| 564 kB 4.3 MB/s \n",
            "\u001b[?25hRequirement already satisfied: numpy in /usr/local/lib/python3.7/dist-packages (from shap) (1.21.6)\n",
            "Requirement already satisfied: packaging>20.9 in /usr/local/lib/python3.7/dist-packages (from shap) (21.3)\n",
            "Requirement already satisfied: cloudpickle in /usr/local/lib/python3.7/dist-packages (from shap) (1.3.0)\n",
            "Requirement already satisfied: scipy in /usr/local/lib/python3.7/dist-packages (from shap) (1.4.1)\n",
            "Requirement already satisfied: scikit-learn in /usr/local/lib/python3.7/dist-packages (from shap) (1.0.2)\n",
            "Requirement already satisfied: numba in /usr/local/lib/python3.7/dist-packages (from shap) (0.51.2)\n",
            "Requirement already satisfied: tqdm>4.25.0 in /usr/local/lib/python3.7/dist-packages (from shap) (4.64.0)\n",
            "Collecting slicer==0.0.7\n",
            "  Downloading slicer-0.0.7-py3-none-any.whl (14 kB)\n",
            "Requirement already satisfied: pandas in /usr/local/lib/python3.7/dist-packages (from shap) (1.3.5)\n",
            "Requirement already satisfied: pyparsing!=3.0.5,>=2.0.2 in /usr/local/lib/python3.7/dist-packages (from packaging>20.9->shap) (3.0.8)\n",
            "Requirement already satisfied: llvmlite<0.35,>=0.34.0.dev0 in /usr/local/lib/python3.7/dist-packages (from numba->shap) (0.34.0)\n",
            "Requirement already satisfied: setuptools in /usr/local/lib/python3.7/dist-packages (from numba->shap) (57.4.0)\n",
            "Requirement already satisfied: python-dateutil>=2.7.3 in /usr/local/lib/python3.7/dist-packages (from pandas->shap) (2.8.2)\n",
            "Requirement already satisfied: pytz>=2017.3 in /usr/local/lib/python3.7/dist-packages (from pandas->shap) (2022.1)\n",
            "Requirement already satisfied: six>=1.5 in /usr/local/lib/python3.7/dist-packages (from python-dateutil>=2.7.3->pandas->shap) (1.15.0)\n",
            "Requirement already satisfied: threadpoolctl>=2.0.0 in /usr/local/lib/python3.7/dist-packages (from scikit-learn->shap) (3.1.0)\n",
            "Requirement already satisfied: joblib>=0.11 in /usr/local/lib/python3.7/dist-packages (from scikit-learn->shap) (1.1.0)\n",
            "Installing collected packages: slicer, shap\n",
            "Successfully installed shap-0.40.0 slicer-0.0.7\n"
          ]
        }
      ],
      "source": [
        "!pip install shap"
      ]
    },
    {
      "cell_type": "code",
      "execution_count": 3,
      "metadata": {
        "colab": {
          "base_uri": "https://localhost:8080/"
        },
        "id": "Y_dci6TXjjWC",
        "outputId": "037c90bb-44f0-4430-c473-6ed8117cb846"
      },
      "outputs": [
        {
          "output_type": "stream",
          "name": "stdout",
          "text": [
            "Collecting opendatasets\n",
            "  Downloading opendatasets-0.1.22-py3-none-any.whl (15 kB)\n",
            "Requirement already satisfied: tqdm in /usr/local/lib/python3.7/dist-packages (from opendatasets) (4.64.0)\n",
            "Requirement already satisfied: click in /usr/local/lib/python3.7/dist-packages (from opendatasets) (7.1.2)\n",
            "Requirement already satisfied: kaggle in /usr/local/lib/python3.7/dist-packages (from opendatasets) (1.5.12)\n",
            "Requirement already satisfied: six>=1.10 in /usr/local/lib/python3.7/dist-packages (from kaggle->opendatasets) (1.15.0)\n",
            "Requirement already satisfied: requests in /usr/local/lib/python3.7/dist-packages (from kaggle->opendatasets) (2.23.0)\n",
            "Requirement already satisfied: certifi in /usr/local/lib/python3.7/dist-packages (from kaggle->opendatasets) (2021.10.8)\n",
            "Requirement already satisfied: python-slugify in /usr/local/lib/python3.7/dist-packages (from kaggle->opendatasets) (6.1.2)\n",
            "Requirement already satisfied: python-dateutil in /usr/local/lib/python3.7/dist-packages (from kaggle->opendatasets) (2.8.2)\n",
            "Requirement already satisfied: urllib3 in /usr/local/lib/python3.7/dist-packages (from kaggle->opendatasets) (1.24.3)\n",
            "Requirement already satisfied: text-unidecode>=1.3 in /usr/local/lib/python3.7/dist-packages (from python-slugify->kaggle->opendatasets) (1.3)\n",
            "Requirement already satisfied: chardet<4,>=3.0.2 in /usr/local/lib/python3.7/dist-packages (from requests->kaggle->opendatasets) (3.0.4)\n",
            "Requirement already satisfied: idna<3,>=2.5 in /usr/local/lib/python3.7/dist-packages (from requests->kaggle->opendatasets) (2.10)\n",
            "Installing collected packages: opendatasets\n",
            "Successfully installed opendatasets-0.1.22\n"
          ]
        }
      ],
      "source": [
        "!pip install opendatasets"
      ]
    },
    {
      "cell_type": "code",
      "execution_count": 4,
      "metadata": {
        "id": "WxTZcE-tjva5"
      },
      "outputs": [],
      "source": [
        "import opendatasets as od"
      ]
    },
    {
      "cell_type": "code",
      "execution_count": 5,
      "metadata": {
        "id": "AC0f85NclLYl"
      },
      "outputs": [],
      "source": [
        "import os\n",
        "from PIL import Image, ImageDraw\n",
        "import torchvision.transforms as transforms\n",
        "import cv2\n",
        "import numpy as np\n",
        "import pandas as pd"
      ]
    },
    {
      "cell_type": "code",
      "execution_count": 6,
      "metadata": {
        "colab": {
          "base_uri": "https://localhost:8080/"
        },
        "id": "al_3kHaS-uGY",
        "outputId": "4cafc19b-7154-484d-ff15-ff11c1ea1dfe"
      },
      "outputs": [
        {
          "output_type": "stream",
          "name": "stdout",
          "text": [
            "Please provide your Kaggle credentials to download this dataset. Learn more: http://bit.ly/kaggle-creds\n",
            "Your Kaggle username: alirezatavakolian13\n",
            "Your Kaggle Key: ··········\n",
            "Downloading fake-news-pair-classification-challenge.zip to ./fake-news-pair-classification-challenge\n"
          ]
        },
        {
          "output_type": "stream",
          "name": "stderr",
          "text": [
            "100%|██████████| 34.6M/34.6M [00:01<00:00, 24.2MB/s]\n"
          ]
        },
        {
          "output_type": "stream",
          "name": "stdout",
          "text": [
            "\n",
            "Extracting archive ./fake-news-pair-classification-challenge/fake-news-pair-classification-challenge.zip to ./fake-news-pair-classification-challenge\n"
          ]
        }
      ],
      "source": [
        "od.download(\"https://www.kaggle.com/competitions/fake-news-pair-classification-challenge/data\")"
      ]
    },
    {
      "cell_type": "code",
      "execution_count": 7,
      "metadata": {
        "id": "v_zt2nrx_KLA"
      },
      "outputs": [],
      "source": [
        "train = pd.read_csv('/content/fake-news-pair-classification-challenge/train.csv',index_col='id')\n",
        "test = pd.read_csv('/content/fake-news-pair-classification-challenge/test.csv',index_col='id')"
      ]
    },
    {
      "cell_type": "code",
      "execution_count": 8,
      "metadata": {
        "colab": {
          "base_uri": "https://localhost:8080/"
        },
        "id": "AGOeTpkNA6CX",
        "outputId": "f1aca40a-0cbd-4869-977c-e957031d41b7"
      },
      "outputs": [
        {
          "output_type": "execute_result",
          "data": {
            "text/plain": [
              "Index(['tid1', 'tid2', 'title1_zh', 'title2_zh', 'title1_en', 'title2_en',\n",
              "       'label'],\n",
              "      dtype='object')"
            ]
          },
          "metadata": {},
          "execution_count": 8
        }
      ],
      "source": [
        "train.columns"
      ]
    },
    {
      "cell_type": "code",
      "source": [
        "train['tid1'].value_counts()"
      ],
      "metadata": {
        "colab": {
          "base_uri": "https://localhost:8080/"
        },
        "id": "lH3B48tOWbkI",
        "outputId": "743a7ba9-fa61-4867-a516-7ee3c1824773"
      },
      "execution_count": 9,
      "outputs": [
        {
          "output_type": "execute_result",
          "data": {
            "text/plain": [
              "113886    755\n",
              "45314     466\n",
              "153067    421\n",
              "82910     381\n",
              "19028     371\n",
              "         ... \n",
              "111043      1\n",
              "26729       1\n",
              "89454       1\n",
              "14932       1\n",
              "167563      1\n",
              "Name: tid1, Length: 69170, dtype: int64"
            ]
          },
          "metadata": {},
          "execution_count": 9
        }
      ]
    },
    {
      "cell_type": "code",
      "source": [
        "train['label'].value_counts()"
      ],
      "metadata": {
        "colab": {
          "base_uri": "https://localhost:8080/"
        },
        "id": "PBwCD7lzRonf",
        "outputId": "68bef914-0f45-4288-fa57-ce5c31096846"
      },
      "execution_count": 10,
      "outputs": [
        {
          "output_type": "execute_result",
          "data": {
            "text/plain": [
              "unrelated    219313\n",
              "agreed        92973\n",
              "disagreed      8266\n",
              "Name: label, dtype: int64"
            ]
          },
          "metadata": {},
          "execution_count": 10
        }
      ]
    },
    {
      "cell_type": "code",
      "execution_count": 11,
      "metadata": {
        "colab": {
          "base_uri": "https://localhost:8080/"
        },
        "id": "XD1klsTJ_fJI",
        "outputId": "9ecbc31e-d39d-4f3e-d1b3-c465be5de7d2"
      },
      "outputs": [
        {
          "output_type": "execute_result",
          "data": {
            "text/plain": [
              "Someone from the People's Hospital of Cengxi City jumped to his death.                                                         755\n",
              "An old rumor spread by the old rumour of \"multi-person infected with SK 5 virus\"                                               466\n",
              "Men in the wrong tent, \"unspeakable things\" to be beaten?                                                                      421\n",
              "Nanking Suing Fans Hung Suicides                                                                                               381\n",
              "He's a 90-year-old boy who bought BMW 3 years after he graduated, but few of his friends would ever look at him.               371\n",
              "                                                                                                                              ... \n",
              "Xuan Xuan to Gutian: Let's have children, netizen: together                                                                      1\n",
              "It's good to grow these plants indoors! Purify the air, absorb the harmful substances, and the family is healthier.              1\n",
              "What is the current market value of Xuanzuyuan (Dongsan)?                                                                        1\n",
              "What kinds of versions are there in the Xuanzuyuan Bao? Is there a collection value? How to distinguish the true and false?      1\n",
              "Will the United States wage war on Iraq without the destruction of Saddam Hussein?                                               1\n",
              "Name: title1_en, Length: 67869, dtype: int64"
            ]
          },
          "metadata": {},
          "execution_count": 11
        }
      ],
      "source": [
        "train['title1_en'].value_counts()"
      ]
    },
    {
      "cell_type": "code",
      "execution_count": 12,
      "metadata": {
        "colab": {
          "base_uri": "https://localhost:8080/"
        },
        "id": "Guu6Y2Xe_n1r",
        "outputId": "55828643-6f8d-45b1-df25-45189c6bbc10"
      },
      "outputs": [
        {
          "output_type": "execute_result",
          "data": {
            "text/plain": [
              "The world's first talking dog shocked 6 billion people.                                                                                          66\n",
              "Song Xiao Bo returned to class, Ma Yun sat down to listen carefully.                                                                             48\n",
              "Big Brother Zhu Zhu Wen is full of women! This time not only Mandarin but also another beautiful woman.                                          42\n",
              "Liu Qiangdong threatened to dump Ma Yun three streets, Ma, I have never put King Dongfang in the eye.                                            31\n",
              "Mr Ma's speech in 2018 will call for a total ban on rural construction. What about migrant workers?                                              24\n",
              "                                                                                                                                                 ..\n",
              "The central government has issued 2.56 billion farmers in the countryside, and the peasants who have received subsidies have no land to grow!     1\n",
              "The rural heating subsidy has been paid in two batches, so how can the farmers receive it?                                                        1\n",
              "These subsidies will be added to the rural areas in 2017, and there are four farmers who can receive them, you know?                              1\n",
              "Rural land collection, there are three types of subsidies, farmers, do you know? hgl                                                              1\n",
              "There are artificial wings on the market.                                                                                                         1\n",
              "Name: title2_en, Length: 136111, dtype: int64"
            ]
          },
          "metadata": {},
          "execution_count": 12
        }
      ],
      "source": [
        "train['title2_en'].value_counts()"
      ]
    },
    {
      "cell_type": "code",
      "execution_count": 13,
      "metadata": {
        "colab": {
          "base_uri": "https://localhost:8080/",
          "height": 175
        },
        "id": "MwuLX1zH_u68",
        "outputId": "39f043c5-8082-4687-a8d4-3b2339811b6c"
      },
      "outputs": [
        {
          "output_type": "execute_result",
          "data": {
            "text/plain": [
              "                                            title1_en  \\\n",
              "id                                                      \n",
              "0   There are two new old-age insurance benefits f...   \n",
              "3   \"If you do not come to Shenzhen, sooner or lat...   \n",
              "1   \"If you do not come to Shenzhen, sooner or lat...   \n",
              "\n",
              "                                            title2_en      label  \n",
              "id                                                                \n",
              "0   Police disprove \"bird's nest congress each per...  unrelated  \n",
              "3   Shenzhen's GDP outstrips Hong Kong? Shenzhen S...  unrelated  \n",
              "1   The GDP overtopped Hong Kong? Shenzhen clarifi...  unrelated  "
            ],
            "text/html": [
              "\n",
              "  <div id=\"df-19b3db8b-1cdd-4bbe-ac64-4ea5fc0bae07\">\n",
              "    <div class=\"colab-df-container\">\n",
              "      <div>\n",
              "<style scoped>\n",
              "    .dataframe tbody tr th:only-of-type {\n",
              "        vertical-align: middle;\n",
              "    }\n",
              "\n",
              "    .dataframe tbody tr th {\n",
              "        vertical-align: top;\n",
              "    }\n",
              "\n",
              "    .dataframe thead th {\n",
              "        text-align: right;\n",
              "    }\n",
              "</style>\n",
              "<table border=\"1\" class=\"dataframe\">\n",
              "  <thead>\n",
              "    <tr style=\"text-align: right;\">\n",
              "      <th></th>\n",
              "      <th>title1_en</th>\n",
              "      <th>title2_en</th>\n",
              "      <th>label</th>\n",
              "    </tr>\n",
              "    <tr>\n",
              "      <th>id</th>\n",
              "      <th></th>\n",
              "      <th></th>\n",
              "      <th></th>\n",
              "    </tr>\n",
              "  </thead>\n",
              "  <tbody>\n",
              "    <tr>\n",
              "      <th>0</th>\n",
              "      <td>There are two new old-age insurance benefits f...</td>\n",
              "      <td>Police disprove \"bird's nest congress each per...</td>\n",
              "      <td>unrelated</td>\n",
              "    </tr>\n",
              "    <tr>\n",
              "      <th>3</th>\n",
              "      <td>\"If you do not come to Shenzhen, sooner or lat...</td>\n",
              "      <td>Shenzhen's GDP outstrips Hong Kong? Shenzhen S...</td>\n",
              "      <td>unrelated</td>\n",
              "    </tr>\n",
              "    <tr>\n",
              "      <th>1</th>\n",
              "      <td>\"If you do not come to Shenzhen, sooner or lat...</td>\n",
              "      <td>The GDP overtopped Hong Kong? Shenzhen clarifi...</td>\n",
              "      <td>unrelated</td>\n",
              "    </tr>\n",
              "  </tbody>\n",
              "</table>\n",
              "</div>\n",
              "      <button class=\"colab-df-convert\" onclick=\"convertToInteractive('df-19b3db8b-1cdd-4bbe-ac64-4ea5fc0bae07')\"\n",
              "              title=\"Convert this dataframe to an interactive table.\"\n",
              "              style=\"display:none;\">\n",
              "        \n",
              "  <svg xmlns=\"http://www.w3.org/2000/svg\" height=\"24px\"viewBox=\"0 0 24 24\"\n",
              "       width=\"24px\">\n",
              "    <path d=\"M0 0h24v24H0V0z\" fill=\"none\"/>\n",
              "    <path d=\"M18.56 5.44l.94 2.06.94-2.06 2.06-.94-2.06-.94-.94-2.06-.94 2.06-2.06.94zm-11 1L8.5 8.5l.94-2.06 2.06-.94-2.06-.94L8.5 2.5l-.94 2.06-2.06.94zm10 10l.94 2.06.94-2.06 2.06-.94-2.06-.94-.94-2.06-.94 2.06-2.06.94z\"/><path d=\"M17.41 7.96l-1.37-1.37c-.4-.4-.92-.59-1.43-.59-.52 0-1.04.2-1.43.59L10.3 9.45l-7.72 7.72c-.78.78-.78 2.05 0 2.83L4 21.41c.39.39.9.59 1.41.59.51 0 1.02-.2 1.41-.59l7.78-7.78 2.81-2.81c.8-.78.8-2.07 0-2.86zM5.41 20L4 18.59l7.72-7.72 1.47 1.35L5.41 20z\"/>\n",
              "  </svg>\n",
              "      </button>\n",
              "      \n",
              "  <style>\n",
              "    .colab-df-container {\n",
              "      display:flex;\n",
              "      flex-wrap:wrap;\n",
              "      gap: 12px;\n",
              "    }\n",
              "\n",
              "    .colab-df-convert {\n",
              "      background-color: #E8F0FE;\n",
              "      border: none;\n",
              "      border-radius: 50%;\n",
              "      cursor: pointer;\n",
              "      display: none;\n",
              "      fill: #1967D2;\n",
              "      height: 32px;\n",
              "      padding: 0 0 0 0;\n",
              "      width: 32px;\n",
              "    }\n",
              "\n",
              "    .colab-df-convert:hover {\n",
              "      background-color: #E2EBFA;\n",
              "      box-shadow: 0px 1px 2px rgba(60, 64, 67, 0.3), 0px 1px 3px 1px rgba(60, 64, 67, 0.15);\n",
              "      fill: #174EA6;\n",
              "    }\n",
              "\n",
              "    [theme=dark] .colab-df-convert {\n",
              "      background-color: #3B4455;\n",
              "      fill: #D2E3FC;\n",
              "    }\n",
              "\n",
              "    [theme=dark] .colab-df-convert:hover {\n",
              "      background-color: #434B5C;\n",
              "      box-shadow: 0px 1px 3px 1px rgba(0, 0, 0, 0.15);\n",
              "      filter: drop-shadow(0px 1px 2px rgba(0, 0, 0, 0.3));\n",
              "      fill: #FFFFFF;\n",
              "    }\n",
              "  </style>\n",
              "\n",
              "      <script>\n",
              "        const buttonEl =\n",
              "          document.querySelector('#df-19b3db8b-1cdd-4bbe-ac64-4ea5fc0bae07 button.colab-df-convert');\n",
              "        buttonEl.style.display =\n",
              "          google.colab.kernel.accessAllowed ? 'block' : 'none';\n",
              "\n",
              "        async function convertToInteractive(key) {\n",
              "          const element = document.querySelector('#df-19b3db8b-1cdd-4bbe-ac64-4ea5fc0bae07');\n",
              "          const dataTable =\n",
              "            await google.colab.kernel.invokeFunction('convertToInteractive',\n",
              "                                                     [key], {});\n",
              "          if (!dataTable) return;\n",
              "\n",
              "          const docLinkHtml = 'Like what you see? Visit the ' +\n",
              "            '<a target=\"_blank\" href=https://colab.research.google.com/notebooks/data_table.ipynb>data table notebook</a>'\n",
              "            + ' to learn more about interactive tables.';\n",
              "          element.innerHTML = '';\n",
              "          dataTable['output_type'] = 'display_data';\n",
              "          await google.colab.output.renderOutput(dataTable, element);\n",
              "          const docLink = document.createElement('div');\n",
              "          docLink.innerHTML = docLinkHtml;\n",
              "          element.appendChild(docLink);\n",
              "        }\n",
              "      </script>\n",
              "    </div>\n",
              "  </div>\n",
              "  "
            ]
          },
          "metadata": {},
          "execution_count": 13
        }
      ],
      "source": [
        "cols = ['title1_en', 'title2_en', 'label']\n",
        "train = train.loc[:, cols]\n",
        "train.head(3)"
      ]
    },
    {
      "cell_type": "code",
      "execution_count": 14,
      "metadata": {
        "id": "R8zpr2YwBC4O"
      },
      "outputs": [],
      "source": [
        "import jieba.posseg as pseg\n",
        "import os\n",
        "import keras"
      ]
    },
    {
      "cell_type": "code",
      "execution_count": 15,
      "metadata": {
        "colab": {
          "base_uri": "https://localhost:8080/"
        },
        "id": "4eORI0-1BLMN",
        "outputId": "96cd4e42-a235-4e43-f70a-51a7e0802677"
      },
      "outputs": [
        {
          "output_type": "stream",
          "name": "stderr",
          "text": [
            "Building prefix dict from the default dictionary ...\n",
            "Dumping model to file cache /tmp/jieba.cache\n",
            "Loading model cost 0.875 seconds.\n",
            "Prefix dict has been built successfully.\n"
          ]
        },
        {
          "output_type": "execute_result",
          "data": {
            "text/plain": [
              "[pair('What', 'eng'),\n",
              " pair(' ', 'x'),\n",
              " pair('are', 'eng'),\n",
              " pair(' ', 'x'),\n",
              " pair('you', 'eng'),\n",
              " pair(' ', 'x'),\n",
              " pair('doing', 'eng'),\n",
              " pair(' ', 'x'),\n",
              " pair('here', 'eng'),\n",
              " pair('?', 'x')]"
            ]
          },
          "metadata": {},
          "execution_count": 15
        }
      ],
      "source": [
        "text = 'What are you doing here?'\n",
        "words = pseg.cut(text)\n",
        "[word for word in words]"
      ]
    },
    {
      "cell_type": "code",
      "execution_count": 16,
      "metadata": {
        "id": "Tsn67hZmBaBu"
      },
      "outputs": [],
      "source": [
        "def jieba_tokenizer(text):\n",
        "    words = pseg.cut(text)\n",
        "    return ' '.join([\n",
        "        word for word, flag in words if flag != 'x'])"
      ]
    },
    {
      "cell_type": "code",
      "execution_count": 17,
      "metadata": {
        "colab": {
          "base_uri": "https://localhost:8080/"
        },
        "id": "mCcJxZP4BizL",
        "outputId": "929699a0-9a1c-4e03-d568-bb2f0d2d1493"
      },
      "outputs": [
        {
          "output_type": "execute_result",
          "data": {
            "text/plain": [
              "title1_en    False\n",
              "title2_en    False\n",
              "label        False\n",
              "dtype: bool"
            ]
          },
          "metadata": {},
          "execution_count": 17
        }
      ],
      "source": [
        "train.isna().any()"
      ]
    },
    {
      "cell_type": "code",
      "execution_count": 18,
      "metadata": {
        "colab": {
          "base_uri": "https://localhost:8080/"
        },
        "id": "l01J40RuBlbP",
        "outputId": "e0db2fc0-698d-4e30-d6bf-bd7c7d5c6509"
      },
      "outputs": [
        {
          "output_type": "execute_result",
          "data": {
            "text/plain": [
              "title1_en    False\n",
              "title2_en    False\n",
              "label        False\n",
              "dtype: bool"
            ]
          },
          "metadata": {},
          "execution_count": 18
        }
      ],
      "source": [
        "train.title2_en.fillna('UNKNOWN', inplace=True)\n",
        "train.isna().any()"
      ]
    },
    {
      "cell_type": "code",
      "execution_count": 19,
      "metadata": {
        "colab": {
          "base_uri": "https://localhost:8080/"
        },
        "id": "U6OkwO8PBtIT",
        "outputId": "b7930825-dfcc-4ae9-bc7d-037d928e3567"
      },
      "outputs": [
        {
          "output_type": "stream",
          "name": "stderr",
          "text": [
            "<ipython-input-19-2085024a8821>:7: SyntaxWarning: assertion is always true, perhaps remove parentheses?\n",
            "  assert((data.index == res.index).all(), 'Something error when merge data')\n"
          ]
        }
      ],
      "source": [
        "def process(data):\n",
        "    res = data.apply(jieba_tokenizer)\n",
        "    return res\n",
        "\n",
        "\n",
        "def check_merge_idx(data, res):\n",
        "    assert((data.index == res.index).all(), 'Something error when merge data')\n",
        "\n",
        "def parallelize(data, func):\n",
        "    from multiprocessing import cpu_count, Pool\n",
        "    cores = partitions = cpu_count()\n",
        "    data_split = np.array_split(data, partitions)\n",
        "    pool = Pool(cores)\n",
        "    res = pd.concat(pool.map(func, data_split))\n",
        "    pool.close()\n",
        "    pool.join()\n",
        "    check_merge_idx(data, res)\n",
        "    return res"
      ]
    },
    {
      "cell_type": "code",
      "execution_count": 20,
      "metadata": {
        "colab": {
          "base_uri": "https://localhost:8080/"
        },
        "id": "xAsRMs1iB1Eu",
        "outputId": "4c744522-0c70-4794-feb9-2dcb6f2998ee"
      },
      "outputs": [
        {
          "output_type": "execute_result",
          "data": {
            "text/plain": [
              "True"
            ]
          },
          "metadata": {},
          "execution_count": 20
        }
      ],
      "source": [
        "np.all(train.index == train.title1_en.index)"
      ]
    },
    {
      "cell_type": "code",
      "execution_count": 21,
      "metadata": {
        "colab": {
          "base_uri": "https://localhost:8080/"
        },
        "id": "H49tCtUYCUKp",
        "outputId": "9373c093-9e91-403b-ca97-f52bda9bdf8a"
      },
      "outputs": [
        {
          "output_type": "stream",
          "name": "stdout",
          "text": [
            "start to training\n"
          ]
        }
      ],
      "source": [
        "print(\"start to training\")\n",
        "train['title1_tokenized'] = parallelize(train.loc[:, 'title1_en'], process)\n",
        "train['title2_tokenized'] = parallelize(train.loc[:, 'title2_en'], process)\n",
        "train.to_csv('tokenized_train.csv',index=True)"
      ]
    },
    {
      "cell_type": "code",
      "execution_count": 22,
      "metadata": {
        "colab": {
          "base_uri": "https://localhost:8080/",
          "height": 394
        },
        "id": "sgSokQUoCmVu",
        "outputId": "0c04dcb4-4266-4fc9-f3c7-384e1797e7cc"
      },
      "outputs": [
        {
          "output_type": "execute_result",
          "data": {
            "text/plain": [
              "                                            title1_en  \\\n",
              "id                                                      \n",
              "0   There are two new old-age insurance benefits f...   \n",
              "3   \"If you do not come to Shenzhen, sooner or lat...   \n",
              "1   \"If you do not come to Shenzhen, sooner or lat...   \n",
              "2   \"If you do not come to Shenzhen, sooner or lat...   \n",
              "9   \"How to discriminate oil from gutter oil by me...   \n",
              "4   \"If you do not come to Shenzhen, sooner or lat...   \n",
              "6   \"if you eat durian, you will kill yourself if ...   \n",
              "5   \"If you do not come to Shenzhen, sooner or lat...   \n",
              "7   \"Frog frog? It's a fertility test! Let's play\"...   \n",
              "8   \"How to discriminate oil from gutter oil by me...   \n",
              "\n",
              "                                     title1_tokenized  \n",
              "id                                                     \n",
              "0   There are two new old age insurance benefits f...  \n",
              "3   If you do not come to Shenzhen sooner or later...  \n",
              "1   If you do not come to Shenzhen sooner or later...  \n",
              "2   If you do not come to Shenzhen sooner or later...  \n",
              "9   How to discriminate oil from gutter oil by mea...  \n",
              "4   If you do not come to Shenzhen sooner or later...  \n",
              "6   if you eat durian you will kill yourself if yo...  \n",
              "5   If you do not come to Shenzhen sooner or later...  \n",
              "7          Frog frog It fertility test Let play Jewel  \n",
              "8   How to discriminate oil from gutter oil by mea...  "
            ],
            "text/html": [
              "\n",
              "  <div id=\"df-305551ca-036d-46d1-b991-875c114bb394\">\n",
              "    <div class=\"colab-df-container\">\n",
              "      <div>\n",
              "<style scoped>\n",
              "    .dataframe tbody tr th:only-of-type {\n",
              "        vertical-align: middle;\n",
              "    }\n",
              "\n",
              "    .dataframe tbody tr th {\n",
              "        vertical-align: top;\n",
              "    }\n",
              "\n",
              "    .dataframe thead th {\n",
              "        text-align: right;\n",
              "    }\n",
              "</style>\n",
              "<table border=\"1\" class=\"dataframe\">\n",
              "  <thead>\n",
              "    <tr style=\"text-align: right;\">\n",
              "      <th></th>\n",
              "      <th>title1_en</th>\n",
              "      <th>title1_tokenized</th>\n",
              "    </tr>\n",
              "    <tr>\n",
              "      <th>id</th>\n",
              "      <th></th>\n",
              "      <th></th>\n",
              "    </tr>\n",
              "  </thead>\n",
              "  <tbody>\n",
              "    <tr>\n",
              "      <th>0</th>\n",
              "      <td>There are two new old-age insurance benefits f...</td>\n",
              "      <td>There are two new old age insurance benefits f...</td>\n",
              "    </tr>\n",
              "    <tr>\n",
              "      <th>3</th>\n",
              "      <td>\"If you do not come to Shenzhen, sooner or lat...</td>\n",
              "      <td>If you do not come to Shenzhen sooner or later...</td>\n",
              "    </tr>\n",
              "    <tr>\n",
              "      <th>1</th>\n",
              "      <td>\"If you do not come to Shenzhen, sooner or lat...</td>\n",
              "      <td>If you do not come to Shenzhen sooner or later...</td>\n",
              "    </tr>\n",
              "    <tr>\n",
              "      <th>2</th>\n",
              "      <td>\"If you do not come to Shenzhen, sooner or lat...</td>\n",
              "      <td>If you do not come to Shenzhen sooner or later...</td>\n",
              "    </tr>\n",
              "    <tr>\n",
              "      <th>9</th>\n",
              "      <td>\"How to discriminate oil from gutter oil by me...</td>\n",
              "      <td>How to discriminate oil from gutter oil by mea...</td>\n",
              "    </tr>\n",
              "    <tr>\n",
              "      <th>4</th>\n",
              "      <td>\"If you do not come to Shenzhen, sooner or lat...</td>\n",
              "      <td>If you do not come to Shenzhen sooner or later...</td>\n",
              "    </tr>\n",
              "    <tr>\n",
              "      <th>6</th>\n",
              "      <td>\"if you eat durian, you will kill yourself if ...</td>\n",
              "      <td>if you eat durian you will kill yourself if yo...</td>\n",
              "    </tr>\n",
              "    <tr>\n",
              "      <th>5</th>\n",
              "      <td>\"If you do not come to Shenzhen, sooner or lat...</td>\n",
              "      <td>If you do not come to Shenzhen sooner or later...</td>\n",
              "    </tr>\n",
              "    <tr>\n",
              "      <th>7</th>\n",
              "      <td>\"Frog frog? It's a fertility test! Let's play\"...</td>\n",
              "      <td>Frog frog It fertility test Let play Jewel</td>\n",
              "    </tr>\n",
              "    <tr>\n",
              "      <th>8</th>\n",
              "      <td>\"How to discriminate oil from gutter oil by me...</td>\n",
              "      <td>How to discriminate oil from gutter oil by mea...</td>\n",
              "    </tr>\n",
              "  </tbody>\n",
              "</table>\n",
              "</div>\n",
              "      <button class=\"colab-df-convert\" onclick=\"convertToInteractive('df-305551ca-036d-46d1-b991-875c114bb394')\"\n",
              "              title=\"Convert this dataframe to an interactive table.\"\n",
              "              style=\"display:none;\">\n",
              "        \n",
              "  <svg xmlns=\"http://www.w3.org/2000/svg\" height=\"24px\"viewBox=\"0 0 24 24\"\n",
              "       width=\"24px\">\n",
              "    <path d=\"M0 0h24v24H0V0z\" fill=\"none\"/>\n",
              "    <path d=\"M18.56 5.44l.94 2.06.94-2.06 2.06-.94-2.06-.94-.94-2.06-.94 2.06-2.06.94zm-11 1L8.5 8.5l.94-2.06 2.06-.94-2.06-.94L8.5 2.5l-.94 2.06-2.06.94zm10 10l.94 2.06.94-2.06 2.06-.94-2.06-.94-.94-2.06-.94 2.06-2.06.94z\"/><path d=\"M17.41 7.96l-1.37-1.37c-.4-.4-.92-.59-1.43-.59-.52 0-1.04.2-1.43.59L10.3 9.45l-7.72 7.72c-.78.78-.78 2.05 0 2.83L4 21.41c.39.39.9.59 1.41.59.51 0 1.02-.2 1.41-.59l7.78-7.78 2.81-2.81c.8-.78.8-2.07 0-2.86zM5.41 20L4 18.59l7.72-7.72 1.47 1.35L5.41 20z\"/>\n",
              "  </svg>\n",
              "      </button>\n",
              "      \n",
              "  <style>\n",
              "    .colab-df-container {\n",
              "      display:flex;\n",
              "      flex-wrap:wrap;\n",
              "      gap: 12px;\n",
              "    }\n",
              "\n",
              "    .colab-df-convert {\n",
              "      background-color: #E8F0FE;\n",
              "      border: none;\n",
              "      border-radius: 50%;\n",
              "      cursor: pointer;\n",
              "      display: none;\n",
              "      fill: #1967D2;\n",
              "      height: 32px;\n",
              "      padding: 0 0 0 0;\n",
              "      width: 32px;\n",
              "    }\n",
              "\n",
              "    .colab-df-convert:hover {\n",
              "      background-color: #E2EBFA;\n",
              "      box-shadow: 0px 1px 2px rgba(60, 64, 67, 0.3), 0px 1px 3px 1px rgba(60, 64, 67, 0.15);\n",
              "      fill: #174EA6;\n",
              "    }\n",
              "\n",
              "    [theme=dark] .colab-df-convert {\n",
              "      background-color: #3B4455;\n",
              "      fill: #D2E3FC;\n",
              "    }\n",
              "\n",
              "    [theme=dark] .colab-df-convert:hover {\n",
              "      background-color: #434B5C;\n",
              "      box-shadow: 0px 1px 3px 1px rgba(0, 0, 0, 0.15);\n",
              "      filter: drop-shadow(0px 1px 2px rgba(0, 0, 0, 0.3));\n",
              "      fill: #FFFFFF;\n",
              "    }\n",
              "  </style>\n",
              "\n",
              "      <script>\n",
              "        const buttonEl =\n",
              "          document.querySelector('#df-305551ca-036d-46d1-b991-875c114bb394 button.colab-df-convert');\n",
              "        buttonEl.style.display =\n",
              "          google.colab.kernel.accessAllowed ? 'block' : 'none';\n",
              "\n",
              "        async function convertToInteractive(key) {\n",
              "          const element = document.querySelector('#df-305551ca-036d-46d1-b991-875c114bb394');\n",
              "          const dataTable =\n",
              "            await google.colab.kernel.invokeFunction('convertToInteractive',\n",
              "                                                     [key], {});\n",
              "          if (!dataTable) return;\n",
              "\n",
              "          const docLinkHtml = 'Like what you see? Visit the ' +\n",
              "            '<a target=\"_blank\" href=https://colab.research.google.com/notebooks/data_table.ipynb>data table notebook</a>'\n",
              "            + ' to learn more about interactive tables.';\n",
              "          element.innerHTML = '';\n",
              "          dataTable['output_type'] = 'display_data';\n",
              "          await google.colab.output.renderOutput(dataTable, element);\n",
              "          const docLink = document.createElement('div');\n",
              "          docLink.innerHTML = docLinkHtml;\n",
              "          element.appendChild(docLink);\n",
              "        }\n",
              "      </script>\n",
              "    </div>\n",
              "  </div>\n",
              "  "
            ]
          },
          "metadata": {},
          "execution_count": 22
        }
      ],
      "source": [
        "train.loc[:, [\"title1_en\", \"title1_tokenized\"]].head(10)"
      ]
    },
    {
      "cell_type": "code",
      "execution_count": 23,
      "metadata": {
        "colab": {
          "base_uri": "https://localhost:8080/",
          "height": 394
        },
        "id": "idsee0oKEyyx",
        "outputId": "700e88b6-e281-41de-8e36-a3ad8ecec62b"
      },
      "outputs": [
        {
          "output_type": "execute_result",
          "data": {
            "text/plain": [
              "                                            title2_en  \\\n",
              "id                                                      \n",
              "0   Police disprove \"bird's nest congress each per...   \n",
              "3   Shenzhen's GDP outstrips Hong Kong? Shenzhen S...   \n",
              "1   The GDP overtopped Hong Kong? Shenzhen clarifi...   \n",
              "2   Shenzhen's GDP topped Hong Kong last year? She...   \n",
              "9   It took 30 years of cooking oil to know that o...   \n",
              "4   Shenzhen's GDP overtakes Hong Kong? Bureau of ...   \n",
              "6   Durian can't eat with anything, it's the same ...   \n",
              "5   Shenzhen's GDP outpaces Hong Kong? Defending R...   \n",
              "7   A store in xianning contains \"cotton\"? A multi...   \n",
              "8   A single piece of garlic can spot gutter oil? ...   \n",
              "\n",
              "                                     title2_tokenized  \n",
              "id                                                     \n",
              "0   Police disprove bird nest congress each person...  \n",
              "3   Shenzhen GDP outstrips Hong Kong Shenzhen Stat...  \n",
              "1   The GDP overtopped Hong Kong Shenzhen clarifie...  \n",
              "2   Shenzhen GDP topped Hong Kong last year Shenzh...  \n",
              "9   It took 30 years of cooking oil to know that o...  \n",
              "4   Shenzhen GDP overtakes Hong Kong Bureau of Sta...  \n",
              "6   Durian can eat with anything it the same as co...  \n",
              "5   Shenzhen GDP outpaces Hong Kong Defending Rumo...  \n",
              "7   store in xianning contains cotton multi agency...  \n",
              "8   single piece of garlic can spot gutter oil Com...  "
            ],
            "text/html": [
              "\n",
              "  <div id=\"df-18ea6776-a615-42a5-9afe-52fd9aaaa46a\">\n",
              "    <div class=\"colab-df-container\">\n",
              "      <div>\n",
              "<style scoped>\n",
              "    .dataframe tbody tr th:only-of-type {\n",
              "        vertical-align: middle;\n",
              "    }\n",
              "\n",
              "    .dataframe tbody tr th {\n",
              "        vertical-align: top;\n",
              "    }\n",
              "\n",
              "    .dataframe thead th {\n",
              "        text-align: right;\n",
              "    }\n",
              "</style>\n",
              "<table border=\"1\" class=\"dataframe\">\n",
              "  <thead>\n",
              "    <tr style=\"text-align: right;\">\n",
              "      <th></th>\n",
              "      <th>title2_en</th>\n",
              "      <th>title2_tokenized</th>\n",
              "    </tr>\n",
              "    <tr>\n",
              "      <th>id</th>\n",
              "      <th></th>\n",
              "      <th></th>\n",
              "    </tr>\n",
              "  </thead>\n",
              "  <tbody>\n",
              "    <tr>\n",
              "      <th>0</th>\n",
              "      <td>Police disprove \"bird's nest congress each per...</td>\n",
              "      <td>Police disprove bird nest congress each person...</td>\n",
              "    </tr>\n",
              "    <tr>\n",
              "      <th>3</th>\n",
              "      <td>Shenzhen's GDP outstrips Hong Kong? Shenzhen S...</td>\n",
              "      <td>Shenzhen GDP outstrips Hong Kong Shenzhen Stat...</td>\n",
              "    </tr>\n",
              "    <tr>\n",
              "      <th>1</th>\n",
              "      <td>The GDP overtopped Hong Kong? Shenzhen clarifi...</td>\n",
              "      <td>The GDP overtopped Hong Kong Shenzhen clarifie...</td>\n",
              "    </tr>\n",
              "    <tr>\n",
              "      <th>2</th>\n",
              "      <td>Shenzhen's GDP topped Hong Kong last year? She...</td>\n",
              "      <td>Shenzhen GDP topped Hong Kong last year Shenzh...</td>\n",
              "    </tr>\n",
              "    <tr>\n",
              "      <th>9</th>\n",
              "      <td>It took 30 years of cooking oil to know that o...</td>\n",
              "      <td>It took 30 years of cooking oil to know that o...</td>\n",
              "    </tr>\n",
              "    <tr>\n",
              "      <th>4</th>\n",
              "      <td>Shenzhen's GDP overtakes Hong Kong? Bureau of ...</td>\n",
              "      <td>Shenzhen GDP overtakes Hong Kong Bureau of Sta...</td>\n",
              "    </tr>\n",
              "    <tr>\n",
              "      <th>6</th>\n",
              "      <td>Durian can't eat with anything, it's the same ...</td>\n",
              "      <td>Durian can eat with anything it the same as co...</td>\n",
              "    </tr>\n",
              "    <tr>\n",
              "      <th>5</th>\n",
              "      <td>Shenzhen's GDP outpaces Hong Kong? Defending R...</td>\n",
              "      <td>Shenzhen GDP outpaces Hong Kong Defending Rumo...</td>\n",
              "    </tr>\n",
              "    <tr>\n",
              "      <th>7</th>\n",
              "      <td>A store in xianning contains \"cotton\"? A multi...</td>\n",
              "      <td>store in xianning contains cotton multi agency...</td>\n",
              "    </tr>\n",
              "    <tr>\n",
              "      <th>8</th>\n",
              "      <td>A single piece of garlic can spot gutter oil? ...</td>\n",
              "      <td>single piece of garlic can spot gutter oil Com...</td>\n",
              "    </tr>\n",
              "  </tbody>\n",
              "</table>\n",
              "</div>\n",
              "      <button class=\"colab-df-convert\" onclick=\"convertToInteractive('df-18ea6776-a615-42a5-9afe-52fd9aaaa46a')\"\n",
              "              title=\"Convert this dataframe to an interactive table.\"\n",
              "              style=\"display:none;\">\n",
              "        \n",
              "  <svg xmlns=\"http://www.w3.org/2000/svg\" height=\"24px\"viewBox=\"0 0 24 24\"\n",
              "       width=\"24px\">\n",
              "    <path d=\"M0 0h24v24H0V0z\" fill=\"none\"/>\n",
              "    <path d=\"M18.56 5.44l.94 2.06.94-2.06 2.06-.94-2.06-.94-.94-2.06-.94 2.06-2.06.94zm-11 1L8.5 8.5l.94-2.06 2.06-.94-2.06-.94L8.5 2.5l-.94 2.06-2.06.94zm10 10l.94 2.06.94-2.06 2.06-.94-2.06-.94-.94-2.06-.94 2.06-2.06.94z\"/><path d=\"M17.41 7.96l-1.37-1.37c-.4-.4-.92-.59-1.43-.59-.52 0-1.04.2-1.43.59L10.3 9.45l-7.72 7.72c-.78.78-.78 2.05 0 2.83L4 21.41c.39.39.9.59 1.41.59.51 0 1.02-.2 1.41-.59l7.78-7.78 2.81-2.81c.8-.78.8-2.07 0-2.86zM5.41 20L4 18.59l7.72-7.72 1.47 1.35L5.41 20z\"/>\n",
              "  </svg>\n",
              "      </button>\n",
              "      \n",
              "  <style>\n",
              "    .colab-df-container {\n",
              "      display:flex;\n",
              "      flex-wrap:wrap;\n",
              "      gap: 12px;\n",
              "    }\n",
              "\n",
              "    .colab-df-convert {\n",
              "      background-color: #E8F0FE;\n",
              "      border: none;\n",
              "      border-radius: 50%;\n",
              "      cursor: pointer;\n",
              "      display: none;\n",
              "      fill: #1967D2;\n",
              "      height: 32px;\n",
              "      padding: 0 0 0 0;\n",
              "      width: 32px;\n",
              "    }\n",
              "\n",
              "    .colab-df-convert:hover {\n",
              "      background-color: #E2EBFA;\n",
              "      box-shadow: 0px 1px 2px rgba(60, 64, 67, 0.3), 0px 1px 3px 1px rgba(60, 64, 67, 0.15);\n",
              "      fill: #174EA6;\n",
              "    }\n",
              "\n",
              "    [theme=dark] .colab-df-convert {\n",
              "      background-color: #3B4455;\n",
              "      fill: #D2E3FC;\n",
              "    }\n",
              "\n",
              "    [theme=dark] .colab-df-convert:hover {\n",
              "      background-color: #434B5C;\n",
              "      box-shadow: 0px 1px 3px 1px rgba(0, 0, 0, 0.15);\n",
              "      filter: drop-shadow(0px 1px 2px rgba(0, 0, 0, 0.3));\n",
              "      fill: #FFFFFF;\n",
              "    }\n",
              "  </style>\n",
              "\n",
              "      <script>\n",
              "        const buttonEl =\n",
              "          document.querySelector('#df-18ea6776-a615-42a5-9afe-52fd9aaaa46a button.colab-df-convert');\n",
              "        buttonEl.style.display =\n",
              "          google.colab.kernel.accessAllowed ? 'block' : 'none';\n",
              "\n",
              "        async function convertToInteractive(key) {\n",
              "          const element = document.querySelector('#df-18ea6776-a615-42a5-9afe-52fd9aaaa46a');\n",
              "          const dataTable =\n",
              "            await google.colab.kernel.invokeFunction('convertToInteractive',\n",
              "                                                     [key], {});\n",
              "          if (!dataTable) return;\n",
              "\n",
              "          const docLinkHtml = 'Like what you see? Visit the ' +\n",
              "            '<a target=\"_blank\" href=https://colab.research.google.com/notebooks/data_table.ipynb>data table notebook</a>'\n",
              "            + ' to learn more about interactive tables.';\n",
              "          element.innerHTML = '';\n",
              "          dataTable['output_type'] = 'display_data';\n",
              "          await google.colab.output.renderOutput(dataTable, element);\n",
              "          const docLink = document.createElement('div');\n",
              "          docLink.innerHTML = docLinkHtml;\n",
              "          element.appendChild(docLink);\n",
              "        }\n",
              "      </script>\n",
              "    </div>\n",
              "  </div>\n",
              "  "
            ]
          },
          "metadata": {},
          "execution_count": 23
        }
      ],
      "source": [
        "train.loc[:, [\"title2_en\", \"title2_tokenized\"]].head(10)"
      ]
    },
    {
      "cell_type": "code",
      "execution_count": 24,
      "metadata": {
        "id": "Zz55hTbeE6eH"
      },
      "outputs": [],
      "source": [
        "train.fillna('UNKNOWN', inplace=True)"
      ]
    },
    {
      "cell_type": "code",
      "execution_count": 25,
      "metadata": {
        "id": "5khRqvz_E-3W"
      },
      "outputs": [],
      "source": [
        "MAX_NUM_WORDS = 10000\n",
        "tokenizer = keras.preprocessing.text.Tokenizer(num_words=MAX_NUM_WORDS)"
      ]
    },
    {
      "cell_type": "code",
      "execution_count": 26,
      "metadata": {
        "colab": {
          "base_uri": "https://localhost:8080/"
        },
        "id": "Lkge99eeFH8v",
        "outputId": "ce411539-7388-45bd-fa9f-961067d19ea7"
      },
      "outputs": [
        {
          "output_type": "execute_result",
          "data": {
            "text/plain": [
              "(641104,)"
            ]
          },
          "metadata": {},
          "execution_count": 26
        }
      ],
      "source": [
        "corpus_x1 = train.title1_tokenized\n",
        "corpus_x2 = train.title2_tokenized\n",
        "corpus = pd.concat([\n",
        "    corpus_x1, corpus_x2])\n",
        "corpus.shape"
      ]
    },
    {
      "cell_type": "code",
      "execution_count": 27,
      "metadata": {
        "colab": {
          "base_uri": "https://localhost:8080/",
          "height": 238
        },
        "id": "8NWSYqhYFLzY",
        "outputId": "426ebb08-6420-4fd4-c28e-ba8a647631f4"
      },
      "outputs": [
        {
          "output_type": "execute_result",
          "data": {
            "text/plain": [
              "                                                title\n",
              "id                                                   \n",
              "0   There are two new old age insurance benefits f...\n",
              "3   If you do not come to Shenzhen sooner or later...\n",
              "1   If you do not come to Shenzhen sooner or later...\n",
              "2   If you do not come to Shenzhen sooner or later...\n",
              "9   How to discriminate oil from gutter oil by mea..."
            ],
            "text/html": [
              "\n",
              "  <div id=\"df-0873101d-8044-4ed2-8284-6b0e4733c08f\">\n",
              "    <div class=\"colab-df-container\">\n",
              "      <div>\n",
              "<style scoped>\n",
              "    .dataframe tbody tr th:only-of-type {\n",
              "        vertical-align: middle;\n",
              "    }\n",
              "\n",
              "    .dataframe tbody tr th {\n",
              "        vertical-align: top;\n",
              "    }\n",
              "\n",
              "    .dataframe thead th {\n",
              "        text-align: right;\n",
              "    }\n",
              "</style>\n",
              "<table border=\"1\" class=\"dataframe\">\n",
              "  <thead>\n",
              "    <tr style=\"text-align: right;\">\n",
              "      <th></th>\n",
              "      <th>title</th>\n",
              "    </tr>\n",
              "    <tr>\n",
              "      <th>id</th>\n",
              "      <th></th>\n",
              "    </tr>\n",
              "  </thead>\n",
              "  <tbody>\n",
              "    <tr>\n",
              "      <th>0</th>\n",
              "      <td>There are two new old age insurance benefits f...</td>\n",
              "    </tr>\n",
              "    <tr>\n",
              "      <th>3</th>\n",
              "      <td>If you do not come to Shenzhen sooner or later...</td>\n",
              "    </tr>\n",
              "    <tr>\n",
              "      <th>1</th>\n",
              "      <td>If you do not come to Shenzhen sooner or later...</td>\n",
              "    </tr>\n",
              "    <tr>\n",
              "      <th>2</th>\n",
              "      <td>If you do not come to Shenzhen sooner or later...</td>\n",
              "    </tr>\n",
              "    <tr>\n",
              "      <th>9</th>\n",
              "      <td>How to discriminate oil from gutter oil by mea...</td>\n",
              "    </tr>\n",
              "  </tbody>\n",
              "</table>\n",
              "</div>\n",
              "      <button class=\"colab-df-convert\" onclick=\"convertToInteractive('df-0873101d-8044-4ed2-8284-6b0e4733c08f')\"\n",
              "              title=\"Convert this dataframe to an interactive table.\"\n",
              "              style=\"display:none;\">\n",
              "        \n",
              "  <svg xmlns=\"http://www.w3.org/2000/svg\" height=\"24px\"viewBox=\"0 0 24 24\"\n",
              "       width=\"24px\">\n",
              "    <path d=\"M0 0h24v24H0V0z\" fill=\"none\"/>\n",
              "    <path d=\"M18.56 5.44l.94 2.06.94-2.06 2.06-.94-2.06-.94-.94-2.06-.94 2.06-2.06.94zm-11 1L8.5 8.5l.94-2.06 2.06-.94-2.06-.94L8.5 2.5l-.94 2.06-2.06.94zm10 10l.94 2.06.94-2.06 2.06-.94-2.06-.94-.94-2.06-.94 2.06-2.06.94z\"/><path d=\"M17.41 7.96l-1.37-1.37c-.4-.4-.92-.59-1.43-.59-.52 0-1.04.2-1.43.59L10.3 9.45l-7.72 7.72c-.78.78-.78 2.05 0 2.83L4 21.41c.39.39.9.59 1.41.59.51 0 1.02-.2 1.41-.59l7.78-7.78 2.81-2.81c.8-.78.8-2.07 0-2.86zM5.41 20L4 18.59l7.72-7.72 1.47 1.35L5.41 20z\"/>\n",
              "  </svg>\n",
              "      </button>\n",
              "      \n",
              "  <style>\n",
              "    .colab-df-container {\n",
              "      display:flex;\n",
              "      flex-wrap:wrap;\n",
              "      gap: 12px;\n",
              "    }\n",
              "\n",
              "    .colab-df-convert {\n",
              "      background-color: #E8F0FE;\n",
              "      border: none;\n",
              "      border-radius: 50%;\n",
              "      cursor: pointer;\n",
              "      display: none;\n",
              "      fill: #1967D2;\n",
              "      height: 32px;\n",
              "      padding: 0 0 0 0;\n",
              "      width: 32px;\n",
              "    }\n",
              "\n",
              "    .colab-df-convert:hover {\n",
              "      background-color: #E2EBFA;\n",
              "      box-shadow: 0px 1px 2px rgba(60, 64, 67, 0.3), 0px 1px 3px 1px rgba(60, 64, 67, 0.15);\n",
              "      fill: #174EA6;\n",
              "    }\n",
              "\n",
              "    [theme=dark] .colab-df-convert {\n",
              "      background-color: #3B4455;\n",
              "      fill: #D2E3FC;\n",
              "    }\n",
              "\n",
              "    [theme=dark] .colab-df-convert:hover {\n",
              "      background-color: #434B5C;\n",
              "      box-shadow: 0px 1px 3px 1px rgba(0, 0, 0, 0.15);\n",
              "      filter: drop-shadow(0px 1px 2px rgba(0, 0, 0, 0.3));\n",
              "      fill: #FFFFFF;\n",
              "    }\n",
              "  </style>\n",
              "\n",
              "      <script>\n",
              "        const buttonEl =\n",
              "          document.querySelector('#df-0873101d-8044-4ed2-8284-6b0e4733c08f button.colab-df-convert');\n",
              "        buttonEl.style.display =\n",
              "          google.colab.kernel.accessAllowed ? 'block' : 'none';\n",
              "\n",
              "        async function convertToInteractive(key) {\n",
              "          const element = document.querySelector('#df-0873101d-8044-4ed2-8284-6b0e4733c08f');\n",
              "          const dataTable =\n",
              "            await google.colab.kernel.invokeFunction('convertToInteractive',\n",
              "                                                     [key], {});\n",
              "          if (!dataTable) return;\n",
              "\n",
              "          const docLinkHtml = 'Like what you see? Visit the ' +\n",
              "            '<a target=\"_blank\" href=https://colab.research.google.com/notebooks/data_table.ipynb>data table notebook</a>'\n",
              "            + ' to learn more about interactive tables.';\n",
              "          element.innerHTML = '';\n",
              "          dataTable['output_type'] = 'display_data';\n",
              "          await google.colab.output.renderOutput(dataTable, element);\n",
              "          const docLink = document.createElement('div');\n",
              "          docLink.innerHTML = docLinkHtml;\n",
              "          element.appendChild(docLink);\n",
              "        }\n",
              "      </script>\n",
              "    </div>\n",
              "  </div>\n",
              "  "
            ]
          },
          "metadata": {},
          "execution_count": 27
        }
      ],
      "source": [
        "pd.DataFrame(corpus.iloc[:5],columns=['title'])"
      ]
    },
    {
      "cell_type": "code",
      "execution_count": 28,
      "metadata": {
        "colab": {
          "base_uri": "https://localhost:8080/"
        },
        "id": "rdbMeO6xFREn",
        "outputId": "42511694-3fdb-44ed-c763-8bde83f6e59c"
      },
      "outputs": [
        {
          "output_type": "execute_result",
          "data": {
            "text/plain": [
              "False"
            ]
          },
          "metadata": {},
          "execution_count": 28
        }
      ],
      "source": [
        "corpus.isna().any()"
      ]
    },
    {
      "cell_type": "code",
      "execution_count": 29,
      "metadata": {
        "id": "0mOBDENQFTPp"
      },
      "outputs": [],
      "source": [
        "tokenizer.fit_on_texts(corpus)\n",
        "x1_train = tokenizer.texts_to_sequences(corpus_x1)\n",
        "x2_train = tokenizer.texts_to_sequences(corpus_x2)"
      ]
    },
    {
      "cell_type": "code",
      "execution_count": 30,
      "metadata": {
        "colab": {
          "base_uri": "https://localhost:8080/"
        },
        "id": "e-K-AqPqFaOk",
        "outputId": "bfed501c-3bce-4e86-d132-6abe9f7a7d20"
      },
      "outputs": [
        {
          "output_type": "execute_result",
          "data": {
            "text/plain": [
              "320552"
            ]
          },
          "metadata": {},
          "execution_count": 30
        }
      ],
      "source": [
        "len(x1_train)"
      ]
    },
    {
      "cell_type": "code",
      "execution_count": 31,
      "metadata": {
        "colab": {
          "base_uri": "https://localhost:8080/"
        },
        "id": "tos6HjzJFdIt",
        "outputId": "a63b2ffe-beaf-400a-d4ca-034a9f5087d6"
      },
      "outputs": [
        {
          "output_type": "execute_result",
          "data": {
            "text/plain": [
              "[[65, 16, 57, 28, 23, 255, 569, 808, 11, 23, 29, 6, 88, 446, 19, 8, 428, 175]]"
            ]
          },
          "metadata": {},
          "execution_count": 31
        }
      ],
      "source": [
        "x1_train[:1]"
      ]
    },
    {
      "cell_type": "code",
      "execution_count": 32,
      "metadata": {
        "colab": {
          "base_uri": "https://localhost:8080/"
        },
        "id": "O9d9aGtBFdtb",
        "outputId": "d228db4a-6d01-464e-e409-183100dfda2f"
      },
      "outputs": [
        {
          "output_type": "stream",
          "name": "stdout",
          "text": [
            "['there', 'are', 'two', 'new', 'old', 'age', 'insurance', 'benefits', 'for', 'old', 'people', 'in', 'rural', 'areas', 'have', 'you', 'got', 'them']\n"
          ]
        }
      ],
      "source": [
        "for seq in x1_train[:1]:\n",
        "    print([tokenizer.index_word[idx] for idx in seq])"
      ]
    },
    {
      "cell_type": "code",
      "execution_count": 33,
      "metadata": {
        "id": "8a3UIECdFduV"
      },
      "outputs": [],
      "source": [
        "MAX_SEQUENCE_LENGTH = 20\n",
        "x1_train = keras.preprocessing.sequence.pad_sequences(x1_train, maxlen=MAX_SEQUENCE_LENGTH)\n",
        "\n",
        "x2_train = keras.preprocessing.sequence.pad_sequences(x2_train, maxlen=MAX_SEQUENCE_LENGTH)"
      ]
    },
    {
      "cell_type": "code",
      "execution_count": 34,
      "metadata": {
        "colab": {
          "base_uri": "https://localhost:8080/"
        },
        "id": "4M8cN_ZlFxRX",
        "outputId": "1908050f-5849-4eb8-a9f6-5ab648867698"
      },
      "outputs": [
        {
          "output_type": "execute_result",
          "data": {
            "text/plain": [
              "array([  0,   0,  65,  16,  57,  28,  23, 255, 569, 808,  11,  23,  29,\n",
              "         6,  88, 446,  19,   8, 428, 175], dtype=int32)"
            ]
          },
          "metadata": {},
          "execution_count": 34
        }
      ],
      "source": [
        "x1_train[0]"
      ]
    },
    {
      "cell_type": "code",
      "execution_count": 35,
      "metadata": {
        "id": "oMSkq5fEF2Y9"
      },
      "outputs": [],
      "source": [
        "for seq in x1_train + x2_train:\n",
        "    assert len(seq) == 20"
      ]
    },
    {
      "cell_type": "code",
      "execution_count": 36,
      "metadata": {
        "colab": {
          "base_uri": "https://localhost:8080/"
        },
        "id": "3RRo_oLKF5si",
        "outputId": "4f7e8998-8619-4c8b-e459-46830f320dc1"
      },
      "outputs": [
        {
          "output_type": "execute_result",
          "data": {
            "text/plain": [
              "id\n",
              "0    unrelated\n",
              "3    unrelated\n",
              "1    unrelated\n",
              "2    unrelated\n",
              "9       agreed\n",
              "Name: label, dtype: object"
            ]
          },
          "metadata": {},
          "execution_count": 36
        }
      ],
      "source": [
        "train.label[:5]"
      ]
    },
    {
      "cell_type": "code",
      "execution_count": 37,
      "metadata": {
        "colab": {
          "base_uri": "https://localhost:8080/"
        },
        "id": "-0yaLaWqF8bK",
        "outputId": "b375e9e8-8124-4d83-b0d7-dd771d069da5"
      },
      "outputs": [
        {
          "output_type": "execute_result",
          "data": {
            "text/plain": [
              "array([0., 0., 0., 0., 1.], dtype=float32)"
            ]
          },
          "metadata": {},
          "execution_count": 37
        }
      ],
      "source": [
        "import numpy as np \n",
        "\n",
        "label_to_index = {\n",
        "    'unrelated': 0, \n",
        "    'agreed': 1, \n",
        "    'disagreed': 2\n",
        "}\n",
        "\n",
        "y_train = train.label.apply(\n",
        "    lambda x: label_to_index[x])\n",
        "\n",
        "y_train = np.asarray(y_train) \\\n",
        "            .astype('float32')\n",
        "\n",
        "y_train[:5]"
      ]
    },
    {
      "cell_type": "code",
      "execution_count": 38,
      "metadata": {
        "id": "mW4nxyxwGJrA"
      },
      "outputs": [],
      "source": [
        "NUM_CLASSES = 3\n",
        "\n",
        "MAX_NUM_WORDS = 10000\n",
        "\n",
        "MAX_SEQUENCE_LENGTH = 20\n",
        "\n",
        "NUM_EMBEDDING_DIM = 256\n",
        "\n",
        "NUM_LSTM_UNITS = 128"
      ]
    },
    {
      "cell_type": "code",
      "execution_count": 39,
      "metadata": {
        "colab": {
          "base_uri": "https://localhost:8080/"
        },
        "id": "_V4YHlW5F8cN",
        "outputId": "e5efa9a9-46e8-4713-b7e0-3221393f105b"
      },
      "outputs": [
        {
          "output_type": "execute_result",
          "data": {
            "text/plain": [
              "array([[   0,    0,   65,   16,   57,   28,   23,  255,  569,  808,   11,\n",
              "          23,   29,    6,   88,  446,   19,    8,  428,  175],\n",
              "       [ 141,  833,   38,  196,   13,   90,  199,    6,  386,   74,   78,\n",
              "          35,  746,  586, 5402, 2834,   13, 5161,  523,  620],\n",
              "       [ 141,  833,   38,  196,   13,   90,  199,    6,  386,   74,   78,\n",
              "          35,  746,  586, 5402, 2834,   13, 5161,  523,  620],\n",
              "       [ 141,  833,   38,  196,   13,   90,  199,    6,  386,   74,   78,\n",
              "          35,  746,  586, 5402, 2834,   13, 5161,  523,  620],\n",
              "       [   0,    0,    0,    0,    0,    0,    0,    0,    0,   33,    2,\n",
              "        4287,  375,   45, 3768,  375,   32, 2529,    3,  406]],\n",
              "      dtype=int32)"
            ]
          },
          "metadata": {},
          "execution_count": 39
        }
      ],
      "source": [
        "x1_train[:5]"
      ]
    },
    {
      "cell_type": "code",
      "execution_count": 40,
      "metadata": {
        "colab": {
          "base_uri": "https://localhost:8080/"
        },
        "id": "i6LslyUGGVQW",
        "outputId": "3e9e8fb8-f945-4dcc-ad0e-e05053e01162"
      },
      "outputs": [
        {
          "output_type": "execute_result",
          "data": {
            "text/plain": [
              "id\n",
              "0    unrelated\n",
              "3    unrelated\n",
              "1    unrelated\n",
              "2    unrelated\n",
              "9       agreed\n",
              "Name: label, dtype: object"
            ]
          },
          "metadata": {},
          "execution_count": 40
        }
      ],
      "source": [
        "train.label[:5]"
      ]
    },
    {
      "cell_type": "code",
      "execution_count": 41,
      "metadata": {
        "id": "N2zgDipBGtlX"
      },
      "outputs": [],
      "source": [
        "from keras.utils import np_utils"
      ]
    },
    {
      "cell_type": "code",
      "execution_count": 42,
      "metadata": {
        "colab": {
          "base_uri": "https://localhost:8080/"
        },
        "id": "B7L2YoBBGYd_",
        "outputId": "de0d9f68-01c4-42b0-8075-d94218c6427e"
      },
      "outputs": [
        {
          "output_type": "execute_result",
          "data": {
            "text/plain": [
              "array([[1., 0., 0.],\n",
              "       [1., 0., 0.],\n",
              "       [1., 0., 0.],\n",
              "       [1., 0., 0.],\n",
              "       [0., 1., 0.]], dtype=float32)"
            ]
          },
          "metadata": {},
          "execution_count": 42
        }
      ],
      "source": [
        "y_train = keras.utils.np_utils.to_categorical(y_train)\n",
        "\n",
        "y_train[:5]"
      ]
    },
    {
      "cell_type": "code",
      "execution_count": 43,
      "metadata": {
        "id": "ypXr40spGxzP"
      },
      "outputs": [],
      "source": [
        "from sklearn.model_selection \\\n",
        "    import train_test_split\n",
        "\n",
        "VALIDATION_RATIO = 0.1\n",
        "RANDOM_STATE = 9527\n",
        "\n",
        "x1_train, x1_val, \\\n",
        "x2_train, x2_val, \\\n",
        "y_train, y_val = \\\n",
        "    train_test_split(\n",
        "        x1_train, x2_train, y_train, \n",
        "        test_size=VALIDATION_RATIO, \n",
        "        random_state=RANDOM_STATE\n",
        ")"
      ]
    },
    {
      "cell_type": "code",
      "execution_count": 44,
      "metadata": {
        "colab": {
          "base_uri": "https://localhost:8080/"
        },
        "id": "74JgOPSeHRSg",
        "outputId": "64eb462d-0bbc-44c1-9ecb-ac345f52ce50"
      },
      "outputs": [
        {
          "output_type": "stream",
          "name": "stdout",
          "text": [
            "Training Set\n",
            "----------\n",
            "x1_train: (288496, 20)\n",
            "x2_train: (288496, 20)\n",
            "y_train : (288496, 3)\n",
            "----------\n",
            "x1_val:   (32056, 20)\n",
            "x2_val:   (32056, 20)\n",
            "y_val :   (32056, 3)\n",
            "----------\n",
            "Test Set\n"
          ]
        }
      ],
      "source": [
        "print(\"Training Set\")\n",
        "print(\"-\" * 10)\n",
        "print(f\"x1_train: {x1_train.shape}\")\n",
        "print(f\"x2_train: {x2_train.shape}\")\n",
        "print(f\"y_train : {y_train.shape}\")\n",
        "\n",
        "print(\"-\" * 10)\n",
        "print(f\"x1_val:   {x1_val.shape}\")\n",
        "print(f\"x2_val:   {x2_val.shape}\")\n",
        "print(f\"y_val :   {y_val.shape}\")\n",
        "print(\"-\" * 10)\n",
        "print(\"Test Set\")"
      ]
    },
    {
      "cell_type": "code",
      "execution_count": 88,
      "metadata": {
        "colab": {
          "base_uri": "https://localhost:8080/"
        },
        "id": "DIhpQ0wlHVA-",
        "outputId": "454716b2-e477-4672-95ca-451d858b1ec5"
      },
      "outputs": [
        {
          "output_type": "stream",
          "name": "stdout",
          "text": [
            "Model: \"model_3\"\n",
            "__________________________________________________________________________________________________\n",
            " Layer (type)                   Output Shape         Param #     Connected to                     \n",
            "==================================================================================================\n",
            " input_7 (InputLayer)           [(None, 20)]         0           []                               \n",
            "                                                                                                  \n",
            " input_8 (InputLayer)           [(None, 20)]         0           []                               \n",
            "                                                                                                  \n",
            " embedding_3 (Embedding)        (None, 20, 256)      2560000     ['input_7[0][0]',                \n",
            "                                                                  'input_8[0][0]']                \n",
            "                                                                                                  \n",
            " lstm_2 (LSTM)                  (None, 128)          197120      ['embedding_3[0][0]',            \n",
            "                                                                  'embedding_3[1][0]']            \n",
            "                                                                                                  \n",
            " concatenate_3 (Concatenate)    (None, 256)          0           ['lstm_2[0][0]',                 \n",
            "                                                                  'lstm_2[1][0]']                 \n",
            "                                                                                                  \n",
            " dense_3 (Dense)                (None, 3)            771         ['concatenate_3[0][0]']          \n",
            "                                                                                                  \n",
            "==================================================================================================\n",
            "Total params: 2,757,891\n",
            "Trainable params: 2,757,891\n",
            "Non-trainable params: 0\n",
            "__________________________________________________________________________________________________\n"
          ]
        }
      ],
      "source": [
        "\n",
        "from keras import Input\n",
        "from keras.layers import Embedding,LSTM, concatenate, Dense\n",
        "from keras.models import Model\n",
        "\n",
        "top_input = Input(\n",
        "    shape=(MAX_SEQUENCE_LENGTH, ), \n",
        "    dtype='int32')\n",
        "bm_input = Input(\n",
        "    shape=(MAX_SEQUENCE_LENGTH, ), \n",
        "    dtype='int32')\n",
        "\n",
        "embedding_layer = Embedding(\n",
        "    MAX_NUM_WORDS, NUM_EMBEDDING_DIM)\n",
        "top_embedded = embedding_layer(\n",
        "    top_input)\n",
        "bm_embedded = embedding_layer(\n",
        "    bm_input)\n",
        "\n",
        "shared_lstm = LSTM(NUM_LSTM_UNITS)\n",
        "top_output = shared_lstm(top_embedded)\n",
        "bm_output = shared_lstm(bm_embedded)\n",
        "\n",
        "merged = concatenate(\n",
        "    [top_output, bm_output], \n",
        "    axis=-1)\n",
        "\n",
        "dense =  Dense(\n",
        "    units=NUM_CLASSES, \n",
        "    activation='softmax')\n",
        "predictions = dense(merged)\n",
        "\n",
        "model = Model(\n",
        "    inputs=[top_input, bm_input], \n",
        "    outputs=predictions)\n",
        "\n",
        "model.summary()"
      ]
    },
    {
      "cell_type": "code",
      "execution_count": 77,
      "metadata": {
        "colab": {
          "base_uri": "https://localhost:8080/",
          "height": 399
        },
        "id": "nRIepIteHAX7",
        "outputId": "1633dd25-82f2-48ac-d423-0ab18b5f0848"
      },
      "outputs": [
        {
          "output_type": "execute_result",
          "data": {
            "text/plain": [
              "<IPython.core.display.SVG object>"
            ],
            "image/svg+xml": "<svg height=\"283pt\" viewBox=\"0.00 0.00 762.00 212.00\" width=\"1016pt\" xmlns=\"http://www.w3.org/2000/svg\" xmlns:xlink=\"http://www.w3.org/1999/xlink\">\n<g class=\"graph\" id=\"graph0\" transform=\"scale(1.3333 1.3333) rotate(0) translate(4 208)\">\n<title>G</title>\n<polygon fill=\"#ffffff\" points=\"-4,4 -4,-208 758,-208 758,4 -4,4\" stroke=\"transparent\"/>\n<!-- 139639324360528 -->\n<g class=\"node\" id=\"node1\">\n<title>139639324360528</title>\n<polygon fill=\"none\" points=\"0,-111.5 0,-203.5 108,-203.5 108,-111.5 0,-111.5\" stroke=\"#000000\"/>\n<text fill=\"#000000\" font-family=\"Times,serif\" font-size=\"14.00\" text-anchor=\"middle\" x=\"54\" y=\"-188.3\">InputLayer</text>\n<polyline fill=\"none\" points=\"0,-180.5 108,-180.5 \" stroke=\"#000000\"/>\n<text fill=\"#000000\" font-family=\"Times,serif\" font-size=\"14.00\" text-anchor=\"middle\" x=\"25\" y=\"-165.3\">input:</text>\n<polyline fill=\"none\" points=\"50,-157.5 50,-180.5 \" stroke=\"#000000\"/>\n<text fill=\"#000000\" font-family=\"Times,serif\" font-size=\"14.00\" text-anchor=\"middle\" x=\"79\" y=\"-165.3\">output:</text>\n<polyline fill=\"none\" points=\"0,-157.5 108,-157.5 \" stroke=\"#000000\"/>\n<text fill=\"#000000\" font-family=\"Times,serif\" font-size=\"14.00\" text-anchor=\"middle\" x=\"54\" y=\"-142.3\">[(None, 20)]</text>\n<polyline fill=\"none\" points=\"0,-134.5 108,-134.5 \" stroke=\"#000000\"/>\n<text fill=\"#000000\" font-family=\"Times,serif\" font-size=\"14.00\" text-anchor=\"middle\" x=\"54\" y=\"-119.3\">[(None, 20)]</text>\n</g>\n<!-- 139639324458896 -->\n<g class=\"node\" id=\"node3\">\n<title>139639324458896</title>\n<polygon fill=\"none\" points=\"144,-55.5 144,-147.5 254,-147.5 254,-55.5 144,-55.5\" stroke=\"#000000\"/>\n<text fill=\"#000000\" font-family=\"Times,serif\" font-size=\"14.00\" text-anchor=\"middle\" x=\"199\" y=\"-132.3\">Embedding</text>\n<polyline fill=\"none\" points=\"144,-124.5 254,-124.5 \" stroke=\"#000000\"/>\n<text fill=\"#000000\" font-family=\"Times,serif\" font-size=\"14.00\" text-anchor=\"middle\" x=\"169.5\" y=\"-109.3\">input:</text>\n<polyline fill=\"none\" points=\"195,-101.5 195,-124.5 \" stroke=\"#000000\"/>\n<text fill=\"#000000\" font-family=\"Times,serif\" font-size=\"14.00\" text-anchor=\"middle\" x=\"224.5\" y=\"-109.3\">output:</text>\n<polyline fill=\"none\" points=\"144,-101.5 254,-101.5 \" stroke=\"#000000\"/>\n<text fill=\"#000000\" font-family=\"Times,serif\" font-size=\"14.00\" text-anchor=\"middle\" x=\"199\" y=\"-86.3\">(None, 20)</text>\n<polyline fill=\"none\" points=\"144,-78.5 254,-78.5 \" stroke=\"#000000\"/>\n<text fill=\"#000000\" font-family=\"Times,serif\" font-size=\"14.00\" text-anchor=\"middle\" x=\"199\" y=\"-63.3\">(None, 20, 256)</text>\n</g>\n<!-- 139639324360528&#45;&gt;139639324458896 -->\n<g class=\"edge\" id=\"edge1\">\n<title>139639324360528-&gt;139639324458896</title>\n<path d=\"M108.4052,-136.4883C116.9033,-133.2063 125.7557,-129.7875 134.4535,-126.4283\" fill=\"none\" stroke=\"#000000\"/>\n<polygon fill=\"#000000\" points=\"135.7394,-129.6837 143.8069,-122.816 133.2174,-123.1538 135.7394,-129.6837\" stroke=\"#000000\"/>\n</g>\n<!-- 139639324336272 -->\n<g class=\"node\" id=\"node2\">\n<title>139639324336272</title>\n<polygon fill=\"none\" points=\"0,-.5 0,-92.5 108,-92.5 108,-.5 0,-.5\" stroke=\"#000000\"/>\n<text fill=\"#000000\" font-family=\"Times,serif\" font-size=\"14.00\" text-anchor=\"middle\" x=\"54\" y=\"-77.3\">InputLayer</text>\n<polyline fill=\"none\" points=\"0,-69.5 108,-69.5 \" stroke=\"#000000\"/>\n<text fill=\"#000000\" font-family=\"Times,serif\" font-size=\"14.00\" text-anchor=\"middle\" x=\"25\" y=\"-54.3\">input:</text>\n<polyline fill=\"none\" points=\"50,-46.5 50,-69.5 \" stroke=\"#000000\"/>\n<text fill=\"#000000\" font-family=\"Times,serif\" font-size=\"14.00\" text-anchor=\"middle\" x=\"79\" y=\"-54.3\">output:</text>\n<polyline fill=\"none\" points=\"0,-46.5 108,-46.5 \" stroke=\"#000000\"/>\n<text fill=\"#000000\" font-family=\"Times,serif\" font-size=\"14.00\" text-anchor=\"middle\" x=\"54\" y=\"-31.3\">[(None, 20)]</text>\n<polyline fill=\"none\" points=\"0,-23.5 108,-23.5 \" stroke=\"#000000\"/>\n<text fill=\"#000000\" font-family=\"Times,serif\" font-size=\"14.00\" text-anchor=\"middle\" x=\"54\" y=\"-8.3\">[(None, 20)]</text>\n</g>\n<!-- 139639324336272&#45;&gt;139639324458896 -->\n<g class=\"edge\" id=\"edge2\">\n<title>139639324336272-&gt;139639324458896</title>\n<path d=\"M108.4052,-67.1365C116.9033,-70.3599 125.7557,-73.7177 134.4535,-77.0169\" fill=\"none\" stroke=\"#000000\"/>\n<polygon fill=\"#000000\" points=\"133.2156,-80.2906 143.8069,-80.5647 135.6982,-73.7456 133.2156,-80.2906\" stroke=\"#000000\"/>\n</g>\n<!-- 139639363645200 -->\n<g class=\"node\" id=\"node4\">\n<title>139639363645200</title>\n<polygon fill=\"none\" points=\"290,-55.5 290,-147.5 400,-147.5 400,-55.5 290,-55.5\" stroke=\"#000000\"/>\n<text fill=\"#000000\" font-family=\"Times,serif\" font-size=\"14.00\" text-anchor=\"middle\" x=\"345\" y=\"-132.3\">LSTM</text>\n<polyline fill=\"none\" points=\"290,-124.5 400,-124.5 \" stroke=\"#000000\"/>\n<text fill=\"#000000\" font-family=\"Times,serif\" font-size=\"14.00\" text-anchor=\"middle\" x=\"315.5\" y=\"-109.3\">input:</text>\n<polyline fill=\"none\" points=\"341,-101.5 341,-124.5 \" stroke=\"#000000\"/>\n<text fill=\"#000000\" font-family=\"Times,serif\" font-size=\"14.00\" text-anchor=\"middle\" x=\"370.5\" y=\"-109.3\">output:</text>\n<polyline fill=\"none\" points=\"290,-101.5 400,-101.5 \" stroke=\"#000000\"/>\n<text fill=\"#000000\" font-family=\"Times,serif\" font-size=\"14.00\" text-anchor=\"middle\" x=\"345\" y=\"-86.3\">(None, 20, 256)</text>\n<polyline fill=\"none\" points=\"290,-78.5 400,-78.5 \" stroke=\"#000000\"/>\n<text fill=\"#000000\" font-family=\"Times,serif\" font-size=\"14.00\" text-anchor=\"middle\" x=\"345\" y=\"-63.3\">(None, 128)</text>\n</g>\n<!-- 139639324458896&#45;&gt;139639363645200 -->\n<g class=\"edge\" id=\"edge3\">\n<title>139639324458896-&gt;139639363645200</title>\n<path d=\"M254.1963,-101.5C262.4633,-101.5 271.0546,-101.5 279.5101,-101.5\" fill=\"none\" stroke=\"#000000\"/>\n<polygon fill=\"#000000\" points=\"279.7256,-105.0001 289.7256,-101.5 279.7256,-98.0001 279.7256,-105.0001\" stroke=\"#000000\"/>\n</g>\n<!-- 139639375365392 -->\n<g class=\"node\" id=\"node5\">\n<title>139639375365392</title>\n<polygon fill=\"none\" points=\"436,-55.5 436,-147.5 610,-147.5 610,-55.5 436,-55.5\" stroke=\"#000000\"/>\n<text fill=\"#000000\" font-family=\"Times,serif\" font-size=\"14.00\" text-anchor=\"middle\" x=\"523\" y=\"-132.3\">Concatenate</text>\n<polyline fill=\"none\" points=\"436,-124.5 610,-124.5 \" stroke=\"#000000\"/>\n<text fill=\"#000000\" font-family=\"Times,serif\" font-size=\"14.00\" text-anchor=\"middle\" x=\"477.5\" y=\"-109.3\">input:</text>\n<polyline fill=\"none\" points=\"519,-101.5 519,-124.5 \" stroke=\"#000000\"/>\n<text fill=\"#000000\" font-family=\"Times,serif\" font-size=\"14.00\" text-anchor=\"middle\" x=\"564.5\" y=\"-109.3\">output:</text>\n<polyline fill=\"none\" points=\"436,-101.5 610,-101.5 \" stroke=\"#000000\"/>\n<text fill=\"#000000\" font-family=\"Times,serif\" font-size=\"14.00\" text-anchor=\"middle\" x=\"523\" y=\"-86.3\">[(None, 128), (None, 128)]</text>\n<polyline fill=\"none\" points=\"436,-78.5 610,-78.5 \" stroke=\"#000000\"/>\n<text fill=\"#000000\" font-family=\"Times,serif\" font-size=\"14.00\" text-anchor=\"middle\" x=\"523\" y=\"-63.3\">(None, 256)</text>\n</g>\n<!-- 139639363645200&#45;&gt;139639375365392 -->\n<g class=\"edge\" id=\"edge4\">\n<title>139639363645200-&gt;139639375365392</title>\n<path d=\"M400.3446,-101.5C408.4867,-101.5 417.0695,-101.5 425.758,-101.5\" fill=\"none\" stroke=\"#000000\"/>\n<polygon fill=\"#000000\" points=\"425.986,-105.0001 435.986,-101.5 425.9859,-98.0001 425.986,-105.0001\" stroke=\"#000000\"/>\n</g>\n<!-- 139639375366224 -->\n<g class=\"node\" id=\"node6\">\n<title>139639375366224</title>\n<polygon fill=\"none\" points=\"646,-55.5 646,-147.5 754,-147.5 754,-55.5 646,-55.5\" stroke=\"#000000\"/>\n<text fill=\"#000000\" font-family=\"Times,serif\" font-size=\"14.00\" text-anchor=\"middle\" x=\"700\" y=\"-132.3\">Dense</text>\n<polyline fill=\"none\" points=\"646,-124.5 754,-124.5 \" stroke=\"#000000\"/>\n<text fill=\"#000000\" font-family=\"Times,serif\" font-size=\"14.00\" text-anchor=\"middle\" x=\"671\" y=\"-109.3\">input:</text>\n<polyline fill=\"none\" points=\"696,-101.5 696,-124.5 \" stroke=\"#000000\"/>\n<text fill=\"#000000\" font-family=\"Times,serif\" font-size=\"14.00\" text-anchor=\"middle\" x=\"725\" y=\"-109.3\">output:</text>\n<polyline fill=\"none\" points=\"646,-101.5 754,-101.5 \" stroke=\"#000000\"/>\n<text fill=\"#000000\" font-family=\"Times,serif\" font-size=\"14.00\" text-anchor=\"middle\" x=\"700\" y=\"-86.3\">(None, 256)</text>\n<polyline fill=\"none\" points=\"646,-78.5 754,-78.5 \" stroke=\"#000000\"/>\n<text fill=\"#000000\" font-family=\"Times,serif\" font-size=\"14.00\" text-anchor=\"middle\" x=\"700\" y=\"-63.3\">(None, 3)</text>\n</g>\n<!-- 139639375365392&#45;&gt;139639375366224 -->\n<g class=\"edge\" id=\"edge5\">\n<title>139639375365392-&gt;139639375366224</title>\n<path d=\"M610.2037,-101.5C618.6707,-101.5 627.1537,-101.5 635.3423,-101.5\" fill=\"none\" stroke=\"#000000\"/>\n<polygon fill=\"#000000\" points=\"635.5339,-105.0001 645.5338,-101.5 635.5338,-98.0001 635.5339,-105.0001\" stroke=\"#000000\"/>\n</g>\n</g>\n</svg>"
          },
          "metadata": {},
          "execution_count": 77
        }
      ],
      "source": [
        "from keras.utils.vis_utils import plot_model\n",
        "import matplotlib.pyplot as plt\n",
        "plot_model(\n",
        "    model, \n",
        "    to_file='model.png', \n",
        "    show_shapes=True, \n",
        "    show_layer_names=False, \n",
        "    rankdir='LR')\n",
        "\n",
        "from IPython.display import SVG\n",
        "from keras.utils.vis_utils import model_to_dot\n",
        "SVG(model_to_dot(model, rankdir='LR', show_shapes=True, show_layer_names=False,).create(prog='dot', format='svg'))"
      ]
    },
    {
      "cell_type": "code",
      "execution_count": 89,
      "metadata": {
        "colab": {
          "base_uri": "https://localhost:8080/"
        },
        "id": "3il7ou8aGyCg",
        "outputId": "f22abcfe-4595-4dd8-9ebf-a2f60e1a6d07"
      },
      "outputs": [
        {
          "output_type": "stream",
          "name": "stderr",
          "text": [
            "/usr/local/lib/python3.7/dist-packages/keras/optimizer_v2/adam.py:105: UserWarning: The `lr` argument is deprecated, use `learning_rate` instead.\n",
            "  super(Adam, self).__init__(name, **kwargs)\n"
          ]
        }
      ],
      "source": [
        "from tensorflow.keras.optimizers import Adam\n",
        "lr = 3e-1\n",
        "opt = Adam(lr=lr, decay=lr)\n",
        "model.compile(\n",
        "    optimizer=opt,\n",
        "    loss='categorical_crossentropy',\n",
        "    metrics=['accuracy'])"
      ]
    },
    {
      "cell_type": "code",
      "execution_count": 90,
      "metadata": {
        "colab": {
          "base_uri": "https://localhost:8080/"
        },
        "id": "ZcAQvxE0IFAr",
        "outputId": "0bef1df3-33f7-4ea6-a9e2-5a168dae2043"
      },
      "outputs": [
        {
          "output_type": "execute_result",
          "data": {
            "text/plain": [
              "(9527, 20)"
            ]
          },
          "metadata": {},
          "execution_count": 90
        }
      ],
      "source": [
        "x1_train[:9527].shape"
      ]
    },
    {
      "cell_type": "code",
      "execution_count": null,
      "metadata": {
        "colab": {
          "base_uri": "https://localhost:8080/"
        },
        "id": "3fR-sGvJGe4U",
        "outputId": "865b25a2-ded4-4f13-fdd4-8532f0fe29ba"
      },
      "outputs": [
        {
          "output_type": "stream",
          "name": "stdout",
          "text": [
            "Epoch 1/50\n",
            "564/564 [==============================] - 11s 14ms/step - loss: 0.7511 - accuracy: 0.6901 - val_loss: 0.6253 - val_accuracy: 0.7118\n",
            "Epoch 2/50\n",
            "564/564 [==============================] - 7s 13ms/step - loss: 0.6045 - accuracy: 0.7256 - val_loss: 0.6081 - val_accuracy: 0.7227\n",
            "Epoch 3/50\n",
            "564/564 [==============================] - 7s 13ms/step - loss: 0.5860 - accuracy: 0.7355 - val_loss: 0.6002 - val_accuracy: 0.7269\n",
            "Epoch 4/50\n",
            "564/564 [==============================] - 7s 13ms/step - loss: 0.5752 - accuracy: 0.7412 - val_loss: 0.5949 - val_accuracy: 0.7302\n",
            "Epoch 5/50\n",
            "564/564 [==============================] - 7s 13ms/step - loss: 0.5683 - accuracy: 0.7446 - val_loss: 0.5926 - val_accuracy: 0.7307\n",
            "Epoch 6/50\n",
            "564/564 [==============================] - 7s 13ms/step - loss: 0.5632 - accuracy: 0.7475 - val_loss: 0.5887 - val_accuracy: 0.7322\n",
            "Epoch 7/50\n",
            "564/564 [==============================] - 8s 13ms/step - loss: 0.5588 - accuracy: 0.7495 - val_loss: 0.5865 - val_accuracy: 0.7338\n",
            "Epoch 8/50\n",
            "564/564 [==============================] - 8s 13ms/step - loss: 0.5554 - accuracy: 0.7513 - val_loss: 0.5847 - val_accuracy: 0.7342\n",
            "Epoch 9/50\n",
            "564/564 [==============================] - 8s 13ms/step - loss: 0.5521 - accuracy: 0.7525 - val_loss: 0.5831 - val_accuracy: 0.7362\n",
            "Epoch 10/50\n",
            "564/564 [==============================] - 8s 13ms/step - loss: 0.5495 - accuracy: 0.7539 - val_loss: 0.5814 - val_accuracy: 0.7366\n",
            "Epoch 11/50\n",
            "564/564 [==============================] - 8s 13ms/step - loss: 0.5473 - accuracy: 0.7548 - val_loss: 0.5808 - val_accuracy: 0.7356\n",
            "Epoch 12/50\n",
            "564/564 [==============================] - 8s 13ms/step - loss: 0.5452 - accuracy: 0.7559 - val_loss: 0.5797 - val_accuracy: 0.7367\n",
            "Epoch 13/50\n",
            "564/564 [==============================] - 8s 13ms/step - loss: 0.5434 - accuracy: 0.7571 - val_loss: 0.5787 - val_accuracy: 0.7383\n",
            "Epoch 14/50\n",
            "564/564 [==============================] - 8s 14ms/step - loss: 0.5418 - accuracy: 0.7576 - val_loss: 0.5781 - val_accuracy: 0.7374\n",
            "Epoch 15/50\n",
            "564/564 [==============================] - 8s 14ms/step - loss: 0.5402 - accuracy: 0.7587 - val_loss: 0.5769 - val_accuracy: 0.7384\n",
            "Epoch 16/50\n",
            "564/564 [==============================] - 8s 14ms/step - loss: 0.5388 - accuracy: 0.7592 - val_loss: 0.5762 - val_accuracy: 0.7388\n",
            "Epoch 17/50\n",
            "564/564 [==============================] - 8s 14ms/step - loss: 0.5376 - accuracy: 0.7599 - val_loss: 0.5758 - val_accuracy: 0.7392\n",
            "Epoch 18/50\n",
            "564/564 [==============================] - 8s 14ms/step - loss: 0.5364 - accuracy: 0.7603 - val_loss: 0.5750 - val_accuracy: 0.7395\n",
            "Epoch 19/50\n",
            "564/564 [==============================] - 8s 14ms/step - loss: 0.5352 - accuracy: 0.7610 - val_loss: 0.5744 - val_accuracy: 0.7393\n",
            "Epoch 20/50\n",
            "564/564 [==============================] - 8s 14ms/step - loss: 0.5342 - accuracy: 0.7613 - val_loss: 0.5737 - val_accuracy: 0.7398\n",
            "Epoch 21/50\n",
            "564/564 [==============================] - 8s 14ms/step - loss: 0.5332 - accuracy: 0.7618 - val_loss: 0.5731 - val_accuracy: 0.7400\n",
            "Epoch 22/50\n",
            "564/564 [==============================] - 8s 14ms/step - loss: 0.5323 - accuracy: 0.7621 - val_loss: 0.5727 - val_accuracy: 0.7405\n",
            "Epoch 23/50\n",
            "564/564 [==============================] - 8s 14ms/step - loss: 0.5314 - accuracy: 0.7625 - val_loss: 0.5723 - val_accuracy: 0.7412\n",
            "Epoch 24/50\n",
            "564/564 [==============================] - 8s 14ms/step - loss: 0.5306 - accuracy: 0.7628 - val_loss: 0.5719 - val_accuracy: 0.7413\n",
            "Epoch 25/50\n",
            "564/564 [==============================] - 8s 14ms/step - loss: 0.5299 - accuracy: 0.7635 - val_loss: 0.5716 - val_accuracy: 0.7415\n",
            "Epoch 26/50\n",
            "564/564 [==============================] - 8s 14ms/step - loss: 0.5292 - accuracy: 0.7636 - val_loss: 0.5710 - val_accuracy: 0.7419\n",
            "Epoch 27/50\n",
            "185/564 [========>.....................] - ETA: 5s - loss: 0.5278 - accuracy: 0.7651"
          ]
        }
      ],
      "source": [
        "BATCH_SIZE = 512\n",
        "\n",
        "NUM_EPOCHS = 50\n",
        "\n",
        "history = model.fit(\n",
        "    x=[x1_train, x2_train], \n",
        "    y=y_train,\n",
        "    batch_size=BATCH_SIZE,\n",
        "    epochs=NUM_EPOCHS,\n",
        "    validation_data=(\n",
        "        [x1_val, x2_val], \n",
        "        y_val\n",
        "    ),\n",
        "    shuffle=True\n",
        ")"
      ]
    },
    {
      "cell_type": "code",
      "source": [
        "pd.DataFrame(history.history).plot(figsize=(12, 12))\n",
        "plt.grid(True) # set the vertical range to [0-1]\n",
        "plt.xlabel('number of epochs', fontsize=14)\n",
        "plt.ylabel('accuracy and loss', fontsize=14)\n",
        "plt.title('Classiifcation result with RNN',fontsize=16)\n",
        "plt.show()"
      ],
      "metadata": {
        "colab": {
          "base_uri": "https://localhost:8080/",
          "height": 736
        },
        "id": "q-oOZ5odiM4m",
        "outputId": "56c26e39-b2c7-4c27-ce79-4e73e094adbd"
      },
      "execution_count": 84,
      "outputs": [
        {
          "output_type": "display_data",
          "data": {
            "text/plain": [
              "<Figure size 864x864 with 1 Axes>"
            ],
            "image/png": "[encoded data removed]"
          },
          "metadata": {
            "needs_background": "light"
          }
        }
      ]
    },
    {
      "cell_type": "code",
      "source": [
        "y_val0 = []\n",
        "for x in y_val:\n",
        "  y_val0.append(np.argmax(x))\n",
        "y_val0 = np.array(y_val0)"
      ],
      "metadata": {
        "id": "vehEpFM1ijh3"
      },
      "execution_count": 85,
      "outputs": []
    },
    {
      "cell_type": "code",
      "source": [
        "pred = model.predict([x1_val, x2_val])\n",
        "pred1 =[]\n",
        "for x in pred:\n",
        "  pred1.append(np.argmax(x))\n",
        "pred1 = np.array(pred1)  "
      ],
      "metadata": {
        "id": "6ayhpdtAmgp1"
      },
      "execution_count": 86,
      "outputs": []
    },
    {
      "cell_type": "code",
      "source": [
        "from sklearn.metrics import classification_report\n",
        "target_names = ['class 0', 'class 1', 'class 2']\n",
        "print(classification_report(y_val0,  pred1, target_names=target_names))"
      ],
      "metadata": {
        "colab": {
          "base_uri": "https://localhost:8080/"
        },
        "id": "GfoxfLLHiTjK",
        "outputId": "58f1d8aa-def1-4d1b-b733-7ae1430d86de"
      },
      "execution_count": 87,
      "outputs": [
        {
          "output_type": "stream",
          "name": "stdout",
          "text": [
            "              precision    recall  f1-score   support\n",
            "\n",
            "     class 0       0.84      0.89      0.87     21925\n",
            "     class 1       0.73      0.67      0.70      9326\n",
            "     class 2       0.69      0.26      0.38       805\n",
            "\n",
            "    accuracy                           0.81     32056\n",
            "   macro avg       0.75      0.61      0.65     32056\n",
            "weighted avg       0.81      0.81      0.81     32056\n",
            "\n"
          ]
        }
      ]
    },
    {
      "cell_type": "code",
      "source": [
        "!pip install scikit-plot"
      ],
      "metadata": {
        "id": "ogTSgmARqYUg"
      },
      "execution_count": null,
      "outputs": []
    },
    {
      "cell_type": "code",
      "source": [
        "import scikitplot as skplt\n",
        "import matplotlib.pyplot as plt"
      ],
      "metadata": {
        "id": "EMcZGrYaqcwo"
      },
      "execution_count": 68,
      "outputs": []
    },
    {
      "cell_type": "code",
      "source": [
        "skplt.metrics.plot_roc_curve(y_val0,pred,title=\"ROC Curves with LSTM\", cmap='Blues', figsize=[7,7])\n",
        "plt.show()"
      ],
      "metadata": {
        "colab": {
          "base_uri": "https://localhost:8080/",
          "height": 513
        },
        "id": "S3kxmdBDqdoj",
        "outputId": "8b5cf4a5-077f-4382-a9e2-3212cd6b9183"
      },
      "execution_count": 76,
      "outputs": [
        {
          "output_type": "stream",
          "name": "stderr",
          "text": [
            "/usr/local/lib/python3.7/dist-packages/sklearn/utils/deprecation.py:87: FutureWarning: Function plot_roc_curve is deprecated; This will be removed in v0.5.0. Please use scikitplot.metrics.plot_roc instead.\n",
            "  warnings.warn(msg, category=FutureWarning)\n"
          ]
        },
        {
          "output_type": "display_data",
          "data": {
            "text/plain": [
              "<Figure size 504x504 with 1 Axes>"
            ],
            "image/png": "[encoded data removed]"
          },
          "metadata": {
            "needs_background": "light"
          }
        }
      ]
    },
    {
      "cell_type": "code",
      "source": [
        ""
      ],
      "metadata": {
        "id": "t_qS6hEqqoEn"
      },
      "execution_count": null,
      "outputs": []
    },
    {
      "cell_type": "code",
      "execution_count": 60,
      "metadata": {
        "colab": {
          "base_uri": "https://localhost:8080/"
        },
        "id": "UVXhrbFcGe5O",
        "outputId": "3d9c0686-a740-4f7d-fe21-dfd09c27415f"
      },
      "outputs": [
        {
          "output_type": "stream",
          "name": "stdout",
          "text": [
            "Model: \"model_1\"\n",
            "__________________________________________________________________________________________________\n",
            " Layer (type)                   Output Shape         Param #     Connected to                     \n",
            "==================================================================================================\n",
            " input_3 (InputLayer)           [(None, 20)]         0           []                               \n",
            "                                                                                                  \n",
            " input_4 (InputLayer)           [(None, 20)]         0           []                               \n",
            "                                                                                                  \n",
            " embedding_1 (Embedding)        (None, 20, 256)      2560000     ['input_3[0][0]',                \n",
            "                                                                  'input_4[0][0]']                \n",
            "                                                                                                  \n",
            " conv1d (Conv1D)                (None, 20, 256)      196864      ['embedding_1[0][0]',            \n",
            "                                                                  'embedding_1[1][0]']            \n",
            "                                                                                                  \n",
            " concatenate_1 (Concatenate)    (None, 20, 512)      0           ['conv1d[0][0]',                 \n",
            "                                                                  'conv1d[1][0]']                 \n",
            "                                                                                                  \n",
            " flatten (Flatten)              (None, 10240)        0           ['concatenate_1[0][0]']          \n",
            "                                                                                                  \n",
            " dense_1 (Dense)                (None, 3)            30723       ['flatten[0][0]']                \n",
            "                                                                                                  \n",
            "==================================================================================================\n",
            "Total params: 2,787,587\n",
            "Trainable params: 2,787,587\n",
            "Non-trainable params: 0\n",
            "__________________________________________________________________________________________________\n"
          ]
        }
      ],
      "source": [
        "\n",
        "from keras import Input\n",
        "from keras.layers import Embedding,LSTM, concatenate, Dense, Conv1D, Flatten\n",
        "from keras.models import Model\n",
        "\n",
        "top_input = Input(\n",
        "    shape=(MAX_SEQUENCE_LENGTH, ), \n",
        "    dtype='int32')\n",
        "bm_input = Input(\n",
        "    shape=(MAX_SEQUENCE_LENGTH, ), \n",
        "    dtype='int32')\n",
        "\n",
        "embedding_layer = Embedding(\n",
        "    MAX_NUM_WORDS, NUM_EMBEDDING_DIM)\n",
        "top_embedded = embedding_layer(\n",
        "    top_input)\n",
        "bm_embedded = embedding_layer(\n",
        "    bm_input)\n",
        "\n",
        "shared_lstm = Conv1D(kernel_size=3,padding='same',filters=256,activation='relu')\n",
        "top_output = shared_lstm(top_embedded)\n",
        "bm_output = shared_lstm(bm_embedded)\n",
        "\n",
        "merged = concatenate(\n",
        "    [top_output, bm_output], \n",
        "    axis=-1)\n",
        "\n",
        "dense =  Dense(\n",
        "    units=NUM_CLASSES, \n",
        "    activation='softmax')\n",
        "merged = Flatten()(merged)\n",
        "predictions = dense(merged)\n",
        "\n",
        "model1 = Model(\n",
        "    inputs=[top_input, bm_input], \n",
        "    outputs=predictions)\n",
        "\n",
        "model1.summary()"
      ]
    },
    {
      "cell_type": "code",
      "execution_count": 61,
      "metadata": {
        "colab": {
          "base_uri": "https://localhost:8080/",
          "height": 419
        },
        "id": "xC_3q31rGYfA",
        "outputId": "61ced848-d6be-4099-c32c-23856aebd696"
      },
      "outputs": [
        {
          "output_type": "execute_result",
          "data": {
            "text/plain": [
              "<IPython.core.display.SVG object>"
            ],
            "image/svg+xml": "<svg height=\"283pt\" viewBox=\"0.00 0.00 953.00 212.00\" width=\"1271pt\" xmlns=\"http://www.w3.org/2000/svg\" xmlns:xlink=\"http://www.w3.org/1999/xlink\">\n<g class=\"graph\" id=\"graph0\" transform=\"scale(1.3333 1.3333) rotate(0) translate(4 208)\">\n<title>G</title>\n<polygon fill=\"#ffffff\" points=\"-4,4 -4,-208 949,-208 949,4 -4,4\" stroke=\"transparent\"/>\n<!-- 139639384949392 -->\n<g class=\"node\" id=\"node1\">\n<title>139639384949392</title>\n<polygon fill=\"none\" points=\"0,-111.5 0,-203.5 108,-203.5 108,-111.5 0,-111.5\" stroke=\"#000000\"/>\n<text fill=\"#000000\" font-family=\"Times,serif\" font-size=\"14.00\" text-anchor=\"middle\" x=\"54\" y=\"-188.3\">InputLayer</text>\n<polyline fill=\"none\" points=\"0,-180.5 108,-180.5 \" stroke=\"#000000\"/>\n<text fill=\"#000000\" font-family=\"Times,serif\" font-size=\"14.00\" text-anchor=\"middle\" x=\"25\" y=\"-165.3\">input:</text>\n<polyline fill=\"none\" points=\"50,-157.5 50,-180.5 \" stroke=\"#000000\"/>\n<text fill=\"#000000\" font-family=\"Times,serif\" font-size=\"14.00\" text-anchor=\"middle\" x=\"79\" y=\"-165.3\">output:</text>\n<polyline fill=\"none\" points=\"0,-157.5 108,-157.5 \" stroke=\"#000000\"/>\n<text fill=\"#000000\" font-family=\"Times,serif\" font-size=\"14.00\" text-anchor=\"middle\" x=\"54\" y=\"-142.3\">[(None, 20)]</text>\n<polyline fill=\"none\" points=\"0,-134.5 108,-134.5 \" stroke=\"#000000\"/>\n<text fill=\"#000000\" font-family=\"Times,serif\" font-size=\"14.00\" text-anchor=\"middle\" x=\"54\" y=\"-119.3\">[(None, 20)]</text>\n</g>\n<!-- 139639385143824 -->\n<g class=\"node\" id=\"node3\">\n<title>139639385143824</title>\n<polygon fill=\"none\" points=\"144,-55.5 144,-147.5 254,-147.5 254,-55.5 144,-55.5\" stroke=\"#000000\"/>\n<text fill=\"#000000\" font-family=\"Times,serif\" font-size=\"14.00\" text-anchor=\"middle\" x=\"199\" y=\"-132.3\">Embedding</text>\n<polyline fill=\"none\" points=\"144,-124.5 254,-124.5 \" stroke=\"#000000\"/>\n<text fill=\"#000000\" font-family=\"Times,serif\" font-size=\"14.00\" text-anchor=\"middle\" x=\"169.5\" y=\"-109.3\">input:</text>\n<polyline fill=\"none\" points=\"195,-101.5 195,-124.5 \" stroke=\"#000000\"/>\n<text fill=\"#000000\" font-family=\"Times,serif\" font-size=\"14.00\" text-anchor=\"middle\" x=\"224.5\" y=\"-109.3\">output:</text>\n<polyline fill=\"none\" points=\"144,-101.5 254,-101.5 \" stroke=\"#000000\"/>\n<text fill=\"#000000\" font-family=\"Times,serif\" font-size=\"14.00\" text-anchor=\"middle\" x=\"199\" y=\"-86.3\">(None, 20)</text>\n<polyline fill=\"none\" points=\"144,-78.5 254,-78.5 \" stroke=\"#000000\"/>\n<text fill=\"#000000\" font-family=\"Times,serif\" font-size=\"14.00\" text-anchor=\"middle\" x=\"199\" y=\"-63.3\">(None, 20, 256)</text>\n</g>\n<!-- 139639384949392&#45;&gt;139639385143824 -->\n<g class=\"edge\" id=\"edge1\">\n<title>139639384949392-&gt;139639385143824</title>\n<path d=\"M108.4052,-136.4883C116.9033,-133.2063 125.7557,-129.7875 134.4535,-126.4283\" fill=\"none\" stroke=\"#000000\"/>\n<polygon fill=\"#000000\" points=\"135.7394,-129.6837 143.8069,-122.816 133.2174,-123.1538 135.7394,-129.6837\" stroke=\"#000000\"/>\n</g>\n<!-- 139639384951824 -->\n<g class=\"node\" id=\"node2\">\n<title>139639384951824</title>\n<polygon fill=\"none\" points=\"0,-.5 0,-92.5 108,-92.5 108,-.5 0,-.5\" stroke=\"#000000\"/>\n<text fill=\"#000000\" font-family=\"Times,serif\" font-size=\"14.00\" text-anchor=\"middle\" x=\"54\" y=\"-77.3\">InputLayer</text>\n<polyline fill=\"none\" points=\"0,-69.5 108,-69.5 \" stroke=\"#000000\"/>\n<text fill=\"#000000\" font-family=\"Times,serif\" font-size=\"14.00\" text-anchor=\"middle\" x=\"25\" y=\"-54.3\">input:</text>\n<polyline fill=\"none\" points=\"50,-46.5 50,-69.5 \" stroke=\"#000000\"/>\n<text fill=\"#000000\" font-family=\"Times,serif\" font-size=\"14.00\" text-anchor=\"middle\" x=\"79\" y=\"-54.3\">output:</text>\n<polyline fill=\"none\" points=\"0,-46.5 108,-46.5 \" stroke=\"#000000\"/>\n<text fill=\"#000000\" font-family=\"Times,serif\" font-size=\"14.00\" text-anchor=\"middle\" x=\"54\" y=\"-31.3\">[(None, 20)]</text>\n<polyline fill=\"none\" points=\"0,-23.5 108,-23.5 \" stroke=\"#000000\"/>\n<text fill=\"#000000\" font-family=\"Times,serif\" font-size=\"14.00\" text-anchor=\"middle\" x=\"54\" y=\"-8.3\">[(None, 20)]</text>\n</g>\n<!-- 139639384951824&#45;&gt;139639385143824 -->\n<g class=\"edge\" id=\"edge2\">\n<title>139639384951824-&gt;139639385143824</title>\n<path d=\"M108.4052,-67.1365C116.9033,-70.3599 125.7557,-73.7177 134.4535,-77.0169\" fill=\"none\" stroke=\"#000000\"/>\n<polygon fill=\"#000000\" points=\"133.2156,-80.2906 143.8069,-80.5647 135.6982,-73.7456 133.2156,-80.2906\" stroke=\"#000000\"/>\n</g>\n<!-- 139639385550544 -->\n<g class=\"node\" id=\"node4\">\n<title>139639385550544</title>\n<polygon fill=\"none\" points=\"290,-55.5 290,-147.5 400,-147.5 400,-55.5 290,-55.5\" stroke=\"#000000\"/>\n<text fill=\"#000000\" font-family=\"Times,serif\" font-size=\"14.00\" text-anchor=\"middle\" x=\"345\" y=\"-132.3\">Conv1D</text>\n<polyline fill=\"none\" points=\"290,-124.5 400,-124.5 \" stroke=\"#000000\"/>\n<text fill=\"#000000\" font-family=\"Times,serif\" font-size=\"14.00\" text-anchor=\"middle\" x=\"315.5\" y=\"-109.3\">input:</text>\n<polyline fill=\"none\" points=\"341,-101.5 341,-124.5 \" stroke=\"#000000\"/>\n<text fill=\"#000000\" font-family=\"Times,serif\" font-size=\"14.00\" text-anchor=\"middle\" x=\"370.5\" y=\"-109.3\">output:</text>\n<polyline fill=\"none\" points=\"290,-101.5 400,-101.5 \" stroke=\"#000000\"/>\n<text fill=\"#000000\" font-family=\"Times,serif\" font-size=\"14.00\" text-anchor=\"middle\" x=\"345\" y=\"-86.3\">(None, 20, 256)</text>\n<polyline fill=\"none\" points=\"290,-78.5 400,-78.5 \" stroke=\"#000000\"/>\n<text fill=\"#000000\" font-family=\"Times,serif\" font-size=\"14.00\" text-anchor=\"middle\" x=\"345\" y=\"-63.3\">(None, 20, 256)</text>\n</g>\n<!-- 139639385143824&#45;&gt;139639385550544 -->\n<g class=\"edge\" id=\"edge3\">\n<title>139639385143824-&gt;139639385550544</title>\n<path d=\"M254.1963,-101.5C262.4633,-101.5 271.0546,-101.5 279.5101,-101.5\" fill=\"none\" stroke=\"#000000\"/>\n<polygon fill=\"#000000\" points=\"279.7256,-105.0001 289.7256,-101.5 279.7256,-98.0001 279.7256,-105.0001\" stroke=\"#000000\"/>\n</g>\n<!-- 139639403378960 -->\n<g class=\"node\" id=\"node5\">\n<title>139639403378960</title>\n<polygon fill=\"none\" points=\"436,-55.5 436,-147.5 655,-147.5 655,-55.5 436,-55.5\" stroke=\"#000000\"/>\n<text fill=\"#000000\" font-family=\"Times,serif\" font-size=\"14.00\" text-anchor=\"middle\" x=\"545.5\" y=\"-132.3\">Concatenate</text>\n<polyline fill=\"none\" points=\"436,-124.5 655,-124.5 \" stroke=\"#000000\"/>\n<text fill=\"#000000\" font-family=\"Times,serif\" font-size=\"14.00\" text-anchor=\"middle\" x=\"488.5\" y=\"-109.3\">input:</text>\n<polyline fill=\"none\" points=\"541,-101.5 541,-124.5 \" stroke=\"#000000\"/>\n<text fill=\"#000000\" font-family=\"Times,serif\" font-size=\"14.00\" text-anchor=\"middle\" x=\"598\" y=\"-109.3\">output:</text>\n<polyline fill=\"none\" points=\"436,-101.5 655,-101.5 \" stroke=\"#000000\"/>\n<text fill=\"#000000\" font-family=\"Times,serif\" font-size=\"14.00\" text-anchor=\"middle\" x=\"545.5\" y=\"-86.3\">[(None, 20, 256), (None, 20, 256)]</text>\n<polyline fill=\"none\" points=\"436,-78.5 655,-78.5 \" stroke=\"#000000\"/>\n<text fill=\"#000000\" font-family=\"Times,serif\" font-size=\"14.00\" text-anchor=\"middle\" x=\"545.5\" y=\"-63.3\">(None, 20, 512)</text>\n</g>\n<!-- 139639385550544&#45;&gt;139639403378960 -->\n<g class=\"edge\" id=\"edge4\">\n<title>139639385550544-&gt;139639403378960</title>\n<path d=\"M400.0527,-101.5C408.223,-101.5 416.8999,-101.5 425.7891,-101.5\" fill=\"none\" stroke=\"#000000\"/>\n<polygon fill=\"#000000\" points=\"425.8998,-105.0001 435.8998,-101.5 425.8998,-98.0001 425.8998,-105.0001\" stroke=\"#000000\"/>\n</g>\n<!-- 139639388236112 -->\n<g class=\"node\" id=\"node6\">\n<title>139639388236112</title>\n<polygon fill=\"none\" points=\"691,-55.5 691,-147.5 801,-147.5 801,-55.5 691,-55.5\" stroke=\"#000000\"/>\n<text fill=\"#000000\" font-family=\"Times,serif\" font-size=\"14.00\" text-anchor=\"middle\" x=\"746\" y=\"-132.3\">Flatten</text>\n<polyline fill=\"none\" points=\"691,-124.5 801,-124.5 \" stroke=\"#000000\"/>\n<text fill=\"#000000\" font-family=\"Times,serif\" font-size=\"14.00\" text-anchor=\"middle\" x=\"716.5\" y=\"-109.3\">input:</text>\n<polyline fill=\"none\" points=\"742,-101.5 742,-124.5 \" stroke=\"#000000\"/>\n<text fill=\"#000000\" font-family=\"Times,serif\" font-size=\"14.00\" text-anchor=\"middle\" x=\"771.5\" y=\"-109.3\">output:</text>\n<polyline fill=\"none\" points=\"691,-101.5 801,-101.5 \" stroke=\"#000000\"/>\n<text fill=\"#000000\" font-family=\"Times,serif\" font-size=\"14.00\" text-anchor=\"middle\" x=\"746\" y=\"-86.3\">(None, 20, 512)</text>\n<polyline fill=\"none\" points=\"691,-78.5 801,-78.5 \" stroke=\"#000000\"/>\n<text fill=\"#000000\" font-family=\"Times,serif\" font-size=\"14.00\" text-anchor=\"middle\" x=\"746\" y=\"-63.3\">(None, 10240)</text>\n</g>\n<!-- 139639403378960&#45;&gt;139639388236112 -->\n<g class=\"edge\" id=\"edge5\">\n<title>139639403378960-&gt;139639388236112</title>\n<path d=\"M655.1362,-101.5C663.75,-101.5 672.2705,-101.5 680.4404,-101.5\" fill=\"none\" stroke=\"#000000\"/>\n<polygon fill=\"#000000\" points=\"680.5821,-105.0001 690.5821,-101.5 680.582,-98.0001 680.5821,-105.0001\" stroke=\"#000000\"/>\n</g>\n<!-- 139639300110352 -->\n<g class=\"node\" id=\"node7\">\n<title>139639300110352</title>\n<polygon fill=\"none\" points=\"837,-55.5 837,-147.5 945,-147.5 945,-55.5 837,-55.5\" stroke=\"#000000\"/>\n<text fill=\"#000000\" font-family=\"Times,serif\" font-size=\"14.00\" text-anchor=\"middle\" x=\"891\" y=\"-132.3\">Dense</text>\n<polyline fill=\"none\" points=\"837,-124.5 945,-124.5 \" stroke=\"#000000\"/>\n<text fill=\"#000000\" font-family=\"Times,serif\" font-size=\"14.00\" text-anchor=\"middle\" x=\"862\" y=\"-109.3\">input:</text>\n<polyline fill=\"none\" points=\"887,-101.5 887,-124.5 \" stroke=\"#000000\"/>\n<text fill=\"#000000\" font-family=\"Times,serif\" font-size=\"14.00\" text-anchor=\"middle\" x=\"916\" y=\"-109.3\">output:</text>\n<polyline fill=\"none\" points=\"837,-101.5 945,-101.5 \" stroke=\"#000000\"/>\n<text fill=\"#000000\" font-family=\"Times,serif\" font-size=\"14.00\" text-anchor=\"middle\" x=\"891\" y=\"-86.3\">(None, 10240)</text>\n<polyline fill=\"none\" points=\"837,-78.5 945,-78.5 \" stroke=\"#000000\"/>\n<text fill=\"#000000\" font-family=\"Times,serif\" font-size=\"14.00\" text-anchor=\"middle\" x=\"891\" y=\"-63.3\">(None, 3)</text>\n</g>\n<!-- 139639388236112&#45;&gt;139639300110352 -->\n<g class=\"edge\" id=\"edge6\">\n<title>139639388236112-&gt;139639300110352</title>\n<path d=\"M801.2319,-101.5C809.5391,-101.5 818.1674,-101.5 826.6453,-101.5\" fill=\"none\" stroke=\"#000000\"/>\n<polygon fill=\"#000000\" points=\"826.8801,-105.0001 836.8801,-101.5 826.8801,-98.0001 826.8801,-105.0001\" stroke=\"#000000\"/>\n</g>\n</g>\n</svg>"
          },
          "metadata": {},
          "execution_count": 61
        }
      ],
      "source": [
        "from keras.utils.vis_utils import plot_model\n",
        "import matplotlib.pyplot as plt\n",
        "plot_model(\n",
        "    model1, \n",
        "    to_file='model.png', \n",
        "    show_shapes=True, \n",
        "    show_layer_names=False, \n",
        "    rankdir='LR')\n",
        "\n",
        "from IPython.display import SVG\n",
        "from keras.utils.vis_utils import model_to_dot\n",
        "SVG(model_to_dot(model1, rankdir='LR', show_shapes=True, show_layer_names=False,).create(prog='dot', format='svg'))"
      ]
    },
    {
      "cell_type": "code",
      "execution_count": 62,
      "metadata": {
        "colab": {
          "base_uri": "https://localhost:8080/"
        },
        "id": "dBAq16FdLu6i",
        "outputId": "6f983a11-e7a7-4d92-c014-444021992a7a"
      },
      "outputs": [
        {
          "output_type": "stream",
          "name": "stderr",
          "text": [
            "/usr/local/lib/python3.7/dist-packages/keras/optimizer_v2/adam.py:105: UserWarning: The `lr` argument is deprecated, use `learning_rate` instead.\n",
            "  super(Adam, self).__init__(name, **kwargs)\n"
          ]
        }
      ],
      "source": [
        "from tensorflow.keras.optimizers import Adam\n",
        "lr = 1e-3\n",
        "opt = Adam(lr=lr, decay=lr/50)\n",
        "model1.compile(\n",
        "    optimizer=opt,\n",
        "    loss='categorical_crossentropy',\n",
        "    metrics=['accuracy'])"
      ]
    },
    {
      "cell_type": "code",
      "execution_count": 63,
      "metadata": {
        "colab": {
          "base_uri": "https://localhost:8080/"
        },
        "id": "iPXYoAz_LWxD",
        "outputId": "90091f4f-52fd-432e-b627-b974e542a239"
      },
      "outputs": [
        {
          "output_type": "stream",
          "name": "stdout",
          "text": [
            "Epoch 1/50\n",
            "282/282 [==============================] - 16s 28ms/step - loss: 0.5044 - accuracy: 0.7737 - val_loss: 0.4043 - val_accuracy: 0.8234\n",
            "Epoch 2/50\n",
            "282/282 [==============================] - 6s 23ms/step - loss: 0.3426 - accuracy: 0.8554 - val_loss: 0.3836 - val_accuracy: 0.8357\n",
            "Epoch 3/50\n",
            "282/282 [==============================] - 7s 23ms/step - loss: 0.2756 - accuracy: 0.8870 - val_loss: 0.3875 - val_accuracy: 0.8448\n",
            "Epoch 4/50\n",
            "282/282 [==============================] - 7s 24ms/step - loss: 0.2294 - accuracy: 0.9083 - val_loss: 0.4055 - val_accuracy: 0.8437\n",
            "Epoch 5/50\n",
            "282/282 [==============================] - 7s 23ms/step - loss: 0.1969 - accuracy: 0.9226 - val_loss: 0.4320 - val_accuracy: 0.8440\n",
            "Epoch 6/50\n",
            "282/282 [==============================] - 7s 24ms/step - loss: 0.1723 - accuracy: 0.9331 - val_loss: 0.4648 - val_accuracy: 0.8418\n",
            "Epoch 7/50\n",
            "282/282 [==============================] - 7s 24ms/step - loss: 0.1556 - accuracy: 0.9411 - val_loss: 0.4900 - val_accuracy: 0.8428\n",
            "Epoch 8/50\n",
            "282/282 [==============================] - 7s 24ms/step - loss: 0.1426 - accuracy: 0.9464 - val_loss: 0.5180 - val_accuracy: 0.8398\n",
            "Epoch 9/50\n",
            "282/282 [==============================] - 7s 24ms/step - loss: 0.1332 - accuracy: 0.9507 - val_loss: 0.5417 - val_accuracy: 0.8430\n",
            "Epoch 10/50\n",
            "282/282 [==============================] - 7s 23ms/step - loss: 0.1237 - accuracy: 0.9552 - val_loss: 0.5672 - val_accuracy: 0.8435\n",
            "Epoch 11/50\n",
            "282/282 [==============================] - 7s 23ms/step - loss: 0.1173 - accuracy: 0.9583 - val_loss: 0.5844 - val_accuracy: 0.8415\n",
            "Epoch 12/50\n",
            "282/282 [==============================] - 7s 24ms/step - loss: 0.1133 - accuracy: 0.9597 - val_loss: 0.6011 - val_accuracy: 0.8427\n",
            "Epoch 13/50\n",
            "282/282 [==============================] - 7s 24ms/step - loss: 0.1087 - accuracy: 0.9623 - val_loss: 0.6163 - val_accuracy: 0.8416\n",
            "Epoch 14/50\n",
            "282/282 [==============================] - 7s 24ms/step - loss: 0.1040 - accuracy: 0.9636 - val_loss: 0.6331 - val_accuracy: 0.8401\n",
            "Epoch 15/50\n",
            "282/282 [==============================] - 7s 24ms/step - loss: 0.1010 - accuracy: 0.9651 - val_loss: 0.6429 - val_accuracy: 0.8397\n",
            "Epoch 16/50\n",
            "282/282 [==============================] - 7s 24ms/step - loss: 0.0982 - accuracy: 0.9661 - val_loss: 0.6591 - val_accuracy: 0.8373\n",
            "Epoch 17/50\n",
            "282/282 [==============================] - 7s 24ms/step - loss: 0.0961 - accuracy: 0.9674 - val_loss: 0.6655 - val_accuracy: 0.8403\n",
            "Epoch 18/50\n",
            "282/282 [==============================] - 7s 24ms/step - loss: 0.0946 - accuracy: 0.9678 - val_loss: 0.6755 - val_accuracy: 0.8384\n",
            "Epoch 19/50\n",
            "282/282 [==============================] - 7s 24ms/step - loss: 0.0924 - accuracy: 0.9687 - val_loss: 0.6872 - val_accuracy: 0.8395\n",
            "Epoch 20/50\n",
            "282/282 [==============================] - 7s 24ms/step - loss: 0.0908 - accuracy: 0.9694 - val_loss: 0.7019 - val_accuracy: 0.8374\n",
            "Epoch 21/50\n",
            "282/282 [==============================] - 7s 24ms/step - loss: 0.0890 - accuracy: 0.9702 - val_loss: 0.6960 - val_accuracy: 0.8399\n",
            "Epoch 22/50\n",
            "282/282 [==============================] - 7s 24ms/step - loss: 0.0874 - accuracy: 0.9704 - val_loss: 0.7085 - val_accuracy: 0.8384\n",
            "Epoch 23/50\n",
            "282/282 [==============================] - 7s 24ms/step - loss: 0.0855 - accuracy: 0.9714 - val_loss: 0.7137 - val_accuracy: 0.8384\n",
            "Epoch 24/50\n",
            "282/282 [==============================] - 7s 24ms/step - loss: 0.0852 - accuracy: 0.9715 - val_loss: 0.7150 - val_accuracy: 0.8367\n",
            "Epoch 25/50\n",
            "282/282 [==============================] - 7s 24ms/step - loss: 0.0838 - accuracy: 0.9719 - val_loss: 0.7221 - val_accuracy: 0.8362\n",
            "Epoch 26/50\n",
            "282/282 [==============================] - 7s 24ms/step - loss: 0.0825 - accuracy: 0.9721 - val_loss: 0.7319 - val_accuracy: 0.8383\n",
            "Epoch 27/50\n",
            "282/282 [==============================] - 7s 24ms/step - loss: 0.0818 - accuracy: 0.9725 - val_loss: 0.7382 - val_accuracy: 0.8396\n",
            "Epoch 28/50\n",
            "282/282 [==============================] - 7s 24ms/step - loss: 0.0806 - accuracy: 0.9729 - val_loss: 0.7440 - val_accuracy: 0.8386\n",
            "Epoch 29/50\n",
            "282/282 [==============================] - 7s 24ms/step - loss: 0.0793 - accuracy: 0.9735 - val_loss: 0.7472 - val_accuracy: 0.8383\n",
            "Epoch 30/50\n",
            "282/282 [==============================] - 7s 24ms/step - loss: 0.0793 - accuracy: 0.9731 - val_loss: 0.7494 - val_accuracy: 0.8364\n",
            "Epoch 31/50\n",
            "282/282 [==============================] - 7s 24ms/step - loss: 0.0786 - accuracy: 0.9732 - val_loss: 0.7518 - val_accuracy: 0.8351\n",
            "Epoch 32/50\n",
            "282/282 [==============================] - 7s 24ms/step - loss: 0.0771 - accuracy: 0.9738 - val_loss: 0.7578 - val_accuracy: 0.8367\n",
            "Epoch 33/50\n",
            "282/282 [==============================] - 7s 24ms/step - loss: 0.0770 - accuracy: 0.9737 - val_loss: 0.7577 - val_accuracy: 0.8372\n",
            "Epoch 34/50\n",
            "282/282 [==============================] - 7s 24ms/step - loss: 0.0759 - accuracy: 0.9739 - val_loss: 0.7638 - val_accuracy: 0.8380\n",
            "Epoch 35/50\n",
            "282/282 [==============================] - 7s 25ms/step - loss: 0.0753 - accuracy: 0.9745 - val_loss: 0.7672 - val_accuracy: 0.8394\n",
            "Epoch 36/50\n",
            "282/282 [==============================] - 7s 24ms/step - loss: 0.0749 - accuracy: 0.9743 - val_loss: 0.7732 - val_accuracy: 0.8376\n",
            "Epoch 37/50\n",
            "282/282 [==============================] - 7s 24ms/step - loss: 0.0737 - accuracy: 0.9747 - val_loss: 0.7714 - val_accuracy: 0.8375\n",
            "Epoch 38/50\n",
            "282/282 [==============================] - 7s 24ms/step - loss: 0.0737 - accuracy: 0.9746 - val_loss: 0.7781 - val_accuracy: 0.8363\n",
            "Epoch 39/50\n",
            "282/282 [==============================] - 7s 24ms/step - loss: 0.0728 - accuracy: 0.9750 - val_loss: 0.7789 - val_accuracy: 0.8375\n",
            "Epoch 40/50\n",
            "282/282 [==============================] - 7s 24ms/step - loss: 0.0722 - accuracy: 0.9751 - val_loss: 0.7775 - val_accuracy: 0.8388\n",
            "Epoch 41/50\n",
            "282/282 [==============================] - 7s 24ms/step - loss: 0.0716 - accuracy: 0.9755 - val_loss: 0.7884 - val_accuracy: 0.8375\n",
            "Epoch 42/50\n",
            "282/282 [==============================] - 7s 24ms/step - loss: 0.0714 - accuracy: 0.9754 - val_loss: 0.7887 - val_accuracy: 0.8376\n",
            "Epoch 43/50\n",
            "282/282 [==============================] - 7s 24ms/step - loss: 0.0706 - accuracy: 0.9755 - val_loss: 0.7927 - val_accuracy: 0.8369\n",
            "Epoch 44/50\n",
            "282/282 [==============================] - 7s 24ms/step - loss: 0.0708 - accuracy: 0.9755 - val_loss: 0.7948 - val_accuracy: 0.8397\n",
            "Epoch 45/50\n",
            "282/282 [==============================] - 7s 24ms/step - loss: 0.0703 - accuracy: 0.9756 - val_loss: 0.7993 - val_accuracy: 0.8363\n",
            "Epoch 46/50\n",
            "282/282 [==============================] - 7s 24ms/step - loss: 0.0696 - accuracy: 0.9758 - val_loss: 0.7998 - val_accuracy: 0.8349\n",
            "Epoch 47/50\n",
            "282/282 [==============================] - 7s 24ms/step - loss: 0.0690 - accuracy: 0.9757 - val_loss: 0.8042 - val_accuracy: 0.8379\n",
            "Epoch 48/50\n",
            "282/282 [==============================] - 7s 24ms/step - loss: 0.0682 - accuracy: 0.9760 - val_loss: 0.8116 - val_accuracy: 0.8366\n",
            "Epoch 49/50\n",
            "282/282 [==============================] - 7s 25ms/step - loss: 0.0679 - accuracy: 0.9760 - val_loss: 0.8061 - val_accuracy: 0.8366\n",
            "Epoch 50/50\n",
            "282/282 [==============================] - 7s 24ms/step - loss: 0.0675 - accuracy: 0.9763 - val_loss: 0.8102 - val_accuracy: 0.8383\n"
          ]
        }
      ],
      "source": [
        "BATCH_SIZE = 1024\n",
        "\n",
        "NUM_EPOCHS = 50\n",
        "\n",
        "history = model1.fit(\n",
        "    x=[x1_train, x2_train], \n",
        "    y=y_train,\n",
        "    batch_size=BATCH_SIZE,\n",
        "    epochs=NUM_EPOCHS,\n",
        "    validation_data=(\n",
        "        [x1_val, x2_val], \n",
        "        y_val\n",
        "    ),\n",
        "    shuffle=True\n",
        ")"
      ]
    },
    {
      "cell_type": "code",
      "execution_count": 64,
      "metadata": {
        "id": "mTWSNznwGVRX",
        "colab": {
          "base_uri": "https://localhost:8080/",
          "height": 736
        },
        "outputId": "1cbe2e74-1acf-43a1-9c76-99826ccd28ea"
      },
      "outputs": [
        {
          "output_type": "display_data",
          "data": {
            "text/plain": [
              "<Figure size 864x864 with 1 Axes>"
            ],
            "image/png": "[encoded data removed]"
          },
          "metadata": {
            "needs_background": "light"
          }
        }
      ],
      "source": [
        "  pd.DataFrame(history.history).plot(figsize=(12, 12))\n",
        "  plt.grid(True) # set the vertical range to [0-1]\n",
        "  plt.xlabel('number of epochs', fontsize=14)\n",
        "  plt.ylabel('accuracy and loss', fontsize=14)\n",
        "  plt.title('Classiifcation result with CNN',fontsize=16)\n",
        "  plt.show()"
      ]
    },
    {
      "cell_type": "code",
      "source": [
        "pred = model1.predict([x1_val, x2_val])\n",
        "pred1 =[]\n",
        "for x in pred:\n",
        "  pred1.append(np.argmax(x))\n",
        "pred1 = np.array(pred1)  "
      ],
      "metadata": {
        "id": "8ig7O85hm5gq"
      },
      "execution_count": 73,
      "outputs": []
    },
    {
      "cell_type": "code",
      "source": [
        "skplt.metrics.plot_roc_curve(y_val0,pred,title=\"ROC Curves with CNN\", cmap='Blues', figsize=[7,7])\n",
        "plt.show()"
      ],
      "metadata": {
        "colab": {
          "base_uri": "https://localhost:8080/",
          "height": 513
        },
        "id": "Be3i-N5arfHd",
        "outputId": "581f3257-d28d-48e2-a683-d4844f72e702"
      },
      "execution_count": 74,
      "outputs": [
        {
          "output_type": "stream",
          "name": "stderr",
          "text": [
            "/usr/local/lib/python3.7/dist-packages/sklearn/utils/deprecation.py:87: FutureWarning: Function plot_roc_curve is deprecated; This will be removed in v0.5.0. Please use scikitplot.metrics.plot_roc instead.\n",
            "  warnings.warn(msg, category=FutureWarning)\n"
          ]
        },
        {
          "output_type": "display_data",
          "data": {
            "text/plain": [
              "<Figure size 504x504 with 1 Axes>"
            ],
            "image/png": "[encoded data removed]"
          },
          "metadata": {
            "needs_background": "light"
          }
        }
      ]
    },
    {
      "cell_type": "code",
      "execution_count": 66,
      "metadata": {
        "id": "PPLks4HoFd1_",
        "colab": {
          "base_uri": "https://localhost:8080/"
        },
        "outputId": "1c22bca7-0805-48f9-a8c4-20fba7a0613e"
      },
      "outputs": [
        {
          "output_type": "stream",
          "name": "stdout",
          "text": [
            "              precision    recall  f1-score   support\n",
            "\n",
            "     class 0       0.88      0.89      0.88     21925\n",
            "     class 1       0.76      0.75      0.76      9326\n",
            "     class 2       0.57      0.52      0.54       805\n",
            "\n",
            "    accuracy                           0.84     32056\n",
            "   macro avg       0.74      0.72      0.73     32056\n",
            "weighted avg       0.84      0.84      0.84     32056\n",
            "\n"
          ]
        }
      ],
      "source": [
        "from sklearn.metrics import classification_report\n",
        "target_names = ['class 0', 'class 1', 'class 2']\n",
        "print(classification_report(y_val0,  pred1, target_names=target_names))"
      ]
    }
  ],
  "metadata": {
    "accelerator": "GPU",
    "colab": {
      "collapsed_sections": [],
      "machine_shape": "hm",
      "name": "predicting relation between sentences.ipynb",
      "provenance": []
    },
    "kernelspec": {
      "display_name": "Python 3",
      "name": "python3"
    },
    "language_info": {
      "name": "python"
    }
  },
  "nbformat": 4,
  "nbformat_minor": 0
}