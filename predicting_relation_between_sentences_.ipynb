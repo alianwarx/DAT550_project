{
  "cells": [
    {
      "cell_type": "code",
      "execution_count": 1,
      "metadata": {
        "colab": {
          "base_uri": "https://localhost:8080/"
        },
        "id": "AEXo4lbijR3V",
        "outputId": "1a389cae-498a-43e1-8ba0-fe2aea7bc8a6"
      },
      "outputs": [
        {
          "output_type": "stream",
          "name": "stdout",
          "text": [
            "Requirement already satisfied: kaggle in /usr/local/lib/python3.7/dist-packages (1.5.12)\n",
            "Requirement already satisfied: python-dateutil in /usr/local/lib/python3.7/dist-packages (from kaggle) (2.8.2)\n",
            "Requirement already satisfied: six>=1.10 in /usr/local/lib/python3.7/dist-packages (from kaggle) (1.15.0)\n",
            "Requirement already satisfied: certifi in /usr/local/lib/python3.7/dist-packages (from kaggle) (2021.10.8)\n",
            "Requirement already satisfied: requests in /usr/local/lib/python3.7/dist-packages (from kaggle) (2.23.0)\n",
            "Requirement already satisfied: python-slugify in /usr/local/lib/python3.7/dist-packages (from kaggle) (6.1.2)\n",
            "Requirement already satisfied: tqdm in /usr/local/lib/python3.7/dist-packages (from kaggle) (4.64.0)\n",
            "Requirement already satisfied: urllib3 in /usr/local/lib/python3.7/dist-packages (from kaggle) (1.24.3)\n",
            "Requirement already satisfied: text-unidecode>=1.3 in /usr/local/lib/python3.7/dist-packages (from python-slugify->kaggle) (1.3)\n",
            "Requirement already satisfied: idna<3,>=2.5 in /usr/local/lib/python3.7/dist-packages (from requests->kaggle) (2.10)\n",
            "Requirement already satisfied: chardet<4,>=3.0.2 in /usr/local/lib/python3.7/dist-packages (from requests->kaggle) (3.0.4)\n"
          ]
        }
      ],
      "source": [
        "!pip install kaggle"
      ]
    },
    {
      "cell_type": "code",
      "execution_count": 2,
      "metadata": {
        "colab": {
          "base_uri": "https://localhost:8080/"
        },
        "id": "EjvgIw84ofKg",
        "outputId": "ef0cf285-0ff3-4c0c-ac10-e0384f7fbdf3"
      },
      "outputs": [
        {
          "output_type": "stream",
          "name": "stdout",
          "text": [
            "Requirement already satisfied: shap in /usr/local/lib/python3.7/dist-packages (0.40.0)\n",
            "Requirement already satisfied: numpy in /usr/local/lib/python3.7/dist-packages (from shap) (1.21.6)\n",
            "Requirement already satisfied: scikit-learn in /usr/local/lib/python3.7/dist-packages (from shap) (1.0.2)\n",
            "Requirement already satisfied: numba in /usr/local/lib/python3.7/dist-packages (from shap) (0.51.2)\n",
            "Requirement already satisfied: cloudpickle in /usr/local/lib/python3.7/dist-packages (from shap) (1.3.0)\n",
            "Requirement already satisfied: scipy in /usr/local/lib/python3.7/dist-packages (from shap) (1.4.1)\n",
            "Requirement already satisfied: tqdm>4.25.0 in /usr/local/lib/python3.7/dist-packages (from shap) (4.64.0)\n",
            "Requirement already satisfied: slicer==0.0.7 in /usr/local/lib/python3.7/dist-packages (from shap) (0.0.7)\n",
            "Requirement already satisfied: packaging>20.9 in /usr/local/lib/python3.7/dist-packages (from shap) (21.3)\n",
            "Requirement already satisfied: pandas in /usr/local/lib/python3.7/dist-packages (from shap) (1.3.5)\n",
            "Requirement already satisfied: pyparsing!=3.0.5,>=2.0.2 in /usr/local/lib/python3.7/dist-packages (from packaging>20.9->shap) (3.0.8)\n",
            "Requirement already satisfied: setuptools in /usr/local/lib/python3.7/dist-packages (from numba->shap) (57.4.0)\n",
            "Requirement already satisfied: llvmlite<0.35,>=0.34.0.dev0 in /usr/local/lib/python3.7/dist-packages (from numba->shap) (0.34.0)\n",
            "Requirement already satisfied: pytz>=2017.3 in /usr/local/lib/python3.7/dist-packages (from pandas->shap) (2022.1)\n",
            "Requirement already satisfied: python-dateutil>=2.7.3 in /usr/local/lib/python3.7/dist-packages (from pandas->shap) (2.8.2)\n",
            "Requirement already satisfied: six>=1.5 in /usr/local/lib/python3.7/dist-packages (from python-dateutil>=2.7.3->pandas->shap) (1.15.0)\n",
            "Requirement already satisfied: joblib>=0.11 in /usr/local/lib/python3.7/dist-packages (from scikit-learn->shap) (1.1.0)\n",
            "Requirement already satisfied: threadpoolctl>=2.0.0 in /usr/local/lib/python3.7/dist-packages (from scikit-learn->shap) (3.1.0)\n"
          ]
        }
      ],
      "source": [
        "!pip install shap"
      ]
    },
    {
      "cell_type": "code",
      "execution_count": 3,
      "metadata": {
        "colab": {
          "base_uri": "https://localhost:8080/"
        },
        "id": "Y_dci6TXjjWC",
        "outputId": "fa0d1fe1-94d9-4faa-f803-596f1954ec59"
      },
      "outputs": [
        {
          "output_type": "stream",
          "name": "stdout",
          "text": [
            "Requirement already satisfied: opendatasets in /usr/local/lib/python3.7/dist-packages (0.1.22)\n",
            "Requirement already satisfied: click in /usr/local/lib/python3.7/dist-packages (from opendatasets) (7.1.2)\n",
            "Requirement already satisfied: kaggle in /usr/local/lib/python3.7/dist-packages (from opendatasets) (1.5.12)\n",
            "Requirement already satisfied: tqdm in /usr/local/lib/python3.7/dist-packages (from opendatasets) (4.64.0)\n",
            "Requirement already satisfied: certifi in /usr/local/lib/python3.7/dist-packages (from kaggle->opendatasets) (2021.10.8)\n",
            "Requirement already satisfied: python-slugify in /usr/local/lib/python3.7/dist-packages (from kaggle->opendatasets) (6.1.2)\n",
            "Requirement already satisfied: six>=1.10 in /usr/local/lib/python3.7/dist-packages (from kaggle->opendatasets) (1.15.0)\n",
            "Requirement already satisfied: python-dateutil in /usr/local/lib/python3.7/dist-packages (from kaggle->opendatasets) (2.8.2)\n",
            "Requirement already satisfied: requests in /usr/local/lib/python3.7/dist-packages (from kaggle->opendatasets) (2.23.0)\n",
            "Requirement already satisfied: urllib3 in /usr/local/lib/python3.7/dist-packages (from kaggle->opendatasets) (1.24.3)\n",
            "Requirement already satisfied: text-unidecode>=1.3 in /usr/local/lib/python3.7/dist-packages (from python-slugify->kaggle->opendatasets) (1.3)\n",
            "Requirement already satisfied: idna<3,>=2.5 in /usr/local/lib/python3.7/dist-packages (from requests->kaggle->opendatasets) (2.10)\n",
            "Requirement already satisfied: chardet<4,>=3.0.2 in /usr/local/lib/python3.7/dist-packages (from requests->kaggle->opendatasets) (3.0.4)\n"
          ]
        }
      ],
      "source": [
        "!pip install opendatasets"
      ]
    },
    {
      "cell_type": "code",
      "execution_count": 4,
      "metadata": {
        "id": "WxTZcE-tjva5"
      },
      "outputs": [],
      "source": [
        "import opendatasets as od"
      ]
    },
    {
      "cell_type": "code",
      "execution_count": 5,
      "metadata": {
        "id": "AC0f85NclLYl"
      },
      "outputs": [],
      "source": [
        "import os\n",
        "from PIL import Image, ImageDraw\n",
        "import torchvision.transforms as transforms\n",
        "import cv2\n",
        "import numpy as np\n",
        "import pandas as pd"
      ]
    },
    {
      "cell_type": "code",
      "execution_count": 6,
      "metadata": {
        "colab": {
          "base_uri": "https://localhost:8080/"
        },
        "id": "al_3kHaS-uGY",
        "outputId": "201a5e36-a613-49e6-afa8-60098161bdbb"
      },
      "outputs": [
        {
          "output_type": "stream",
          "name": "stdout",
          "text": [
            "Skipping, found downloaded files in \"./fake-news-pair-classification-challenge\" (use force=True to force download)\n"
          ]
        }
      ],
      "source": [
        "od.download(\"https://www.kaggle.com/competitions/fake-news-pair-classification-challenge/data\")"
      ]
    },
    {
      "cell_type": "code",
      "execution_count": 7,
      "metadata": {
        "id": "v_zt2nrx_KLA"
      },
      "outputs": [],
      "source": [
        "train = pd.read_csv('/content/fake-news-pair-classification-challenge/train.csv',index_col='id')\n",
        "test = pd.read_csv('/content/fake-news-pair-classification-challenge/test.csv',index_col='id')"
      ]
    },
    {
      "cell_type": "code",
      "execution_count": 8,
      "metadata": {
        "colab": {
          "base_uri": "https://localhost:8080/"
        },
        "id": "AGOeTpkNA6CX",
        "outputId": "cb00a00b-3d35-4b31-c0e6-9ac11477a2c7"
      },
      "outputs": [
        {
          "output_type": "execute_result",
          "data": {
            "text/plain": [
              "Index(['tid1', 'tid2', 'title1_zh', 'title2_zh', 'title1_en', 'title2_en',\n",
              "       'label'],\n",
              "      dtype='object')"
            ]
          },
          "metadata": {},
          "execution_count": 8
        }
      ],
      "source": [
        "train.columns"
      ]
    },
    {
      "cell_type": "code",
      "source": [
        "train['tid1'].value_counts()"
      ],
      "metadata": {
        "colab": {
          "base_uri": "https://localhost:8080/"
        },
        "id": "lH3B48tOWbkI",
        "outputId": "d5e64c3a-4b51-4491-b4b1-dc6df7d539ba"
      },
      "execution_count": 9,
      "outputs": [
        {
          "output_type": "execute_result",
          "data": {
            "text/plain": [
              "113886    755\n",
              "45314     466\n",
              "153067    421\n",
              "82910     381\n",
              "19028     371\n",
              "         ... \n",
              "111043      1\n",
              "26729       1\n",
              "89454       1\n",
              "14932       1\n",
              "167563      1\n",
              "Name: tid1, Length: 69170, dtype: int64"
            ]
          },
          "metadata": {},
          "execution_count": 9
        }
      ]
    },
    {
      "cell_type": "code",
      "source": [
        "train['label'].value_counts()"
      ],
      "metadata": {
        "colab": {
          "base_uri": "https://localhost:8080/"
        },
        "id": "PBwCD7lzRonf",
        "outputId": "26087c19-415f-4eb2-9bd3-cf373a42d9c0"
      },
      "execution_count": 10,
      "outputs": [
        {
          "output_type": "execute_result",
          "data": {
            "text/plain": [
              "unrelated    219313\n",
              "agreed        92973\n",
              "disagreed      8266\n",
              "Name: label, dtype: int64"
            ]
          },
          "metadata": {},
          "execution_count": 10
        }
      ]
    },
    {
      "cell_type": "code",
      "execution_count": 11,
      "metadata": {
        "colab": {
          "base_uri": "https://localhost:8080/"
        },
        "id": "XD1klsTJ_fJI",
        "outputId": "5aa1f3f1-9fc5-4282-93df-179dde67605c"
      },
      "outputs": [
        {
          "output_type": "execute_result",
          "data": {
            "text/plain": [
              "Someone from the People's Hospital of Cengxi City jumped to his death.                                                         755\n",
              "An old rumor spread by the old rumour of \"multi-person infected with SK 5 virus\"                                               466\n",
              "Men in the wrong tent, \"unspeakable things\" to be beaten?                                                                      421\n",
              "Nanking Suing Fans Hung Suicides                                                                                               381\n",
              "He's a 90-year-old boy who bought BMW 3 years after he graduated, but few of his friends would ever look at him.               371\n",
              "                                                                                                                              ... \n",
              "Xuan Xuan to Gutian: Let's have children, netizen: together                                                                      1\n",
              "It's good to grow these plants indoors! Purify the air, absorb the harmful substances, and the family is healthier.              1\n",
              "What is the current market value of Xuanzuyuan (Dongsan)?                                                                        1\n",
              "What kinds of versions are there in the Xuanzuyuan Bao? Is there a collection value? How to distinguish the true and false?      1\n",
              "Will the United States wage war on Iraq without the destruction of Saddam Hussein?                                               1\n",
              "Name: title1_en, Length: 67869, dtype: int64"
            ]
          },
          "metadata": {},
          "execution_count": 11
        }
      ],
      "source": [
        "train['title1_en'].value_counts()"
      ]
    },
    {
      "cell_type": "code",
      "execution_count": 12,
      "metadata": {
        "colab": {
          "base_uri": "https://localhost:8080/"
        },
        "id": "Guu6Y2Xe_n1r",
        "outputId": "61f30cca-c9ae-4507-c7a2-b4d06735b638"
      },
      "outputs": [
        {
          "output_type": "execute_result",
          "data": {
            "text/plain": [
              "The world's first talking dog shocked 6 billion people.                                                                                          66\n",
              "Song Xiao Bo returned to class, Ma Yun sat down to listen carefully.                                                                             48\n",
              "Big Brother Zhu Zhu Wen is full of women! This time not only Mandarin but also another beautiful woman.                                          42\n",
              "Liu Qiangdong threatened to dump Ma Yun three streets, Ma, I have never put King Dongfang in the eye.                                            31\n",
              "Mr Ma's speech in 2018 will call for a total ban on rural construction. What about migrant workers?                                              24\n",
              "                                                                                                                                                 ..\n",
              "The central government has issued 2.56 billion farmers in the countryside, and the peasants who have received subsidies have no land to grow!     1\n",
              "The rural heating subsidy has been paid in two batches, so how can the farmers receive it?                                                        1\n",
              "These subsidies will be added to the rural areas in 2017, and there are four farmers who can receive them, you know?                              1\n",
              "Rural land collection, there are three types of subsidies, farmers, do you know? hgl                                                              1\n",
              "There are artificial wings on the market.                                                                                                         1\n",
              "Name: title2_en, Length: 136111, dtype: int64"
            ]
          },
          "metadata": {},
          "execution_count": 12
        }
      ],
      "source": [
        "train['title2_en'].value_counts()"
      ]
    },
    {
      "cell_type": "code",
      "execution_count": 13,
      "metadata": {
        "colab": {
          "base_uri": "https://localhost:8080/",
          "height": 175
        },
        "id": "MwuLX1zH_u68",
        "outputId": "72c06932-fe96-450a-c1d9-39ab4821ab92"
      },
      "outputs": [
        {
          "output_type": "execute_result",
          "data": {
            "text/plain": [
              "                                            title1_en  \\\n",
              "id                                                      \n",
              "0   There are two new old-age insurance benefits f...   \n",
              "3   \"If you do not come to Shenzhen, sooner or lat...   \n",
              "1   \"If you do not come to Shenzhen, sooner or lat...   \n",
              "\n",
              "                                            title2_en      label  \n",
              "id                                                                \n",
              "0   Police disprove \"bird's nest congress each per...  unrelated  \n",
              "3   Shenzhen's GDP outstrips Hong Kong? Shenzhen S...  unrelated  \n",
              "1   The GDP overtopped Hong Kong? Shenzhen clarifi...  unrelated  "
            ],
            "text/html": [
              "\n",
              "  <div id=\"df-c123d483-81c3-4cad-bf8f-4dc5107d1534\">\n",
              "    <div class=\"colab-df-container\">\n",
              "      <div>\n",
              "<style scoped>\n",
              "    .dataframe tbody tr th:only-of-type {\n",
              "        vertical-align: middle;\n",
              "    }\n",
              "\n",
              "    .dataframe tbody tr th {\n",
              "        vertical-align: top;\n",
              "    }\n",
              "\n",
              "    .dataframe thead th {\n",
              "        text-align: right;\n",
              "    }\n",
              "</style>\n",
              "<table border=\"1\" class=\"dataframe\">\n",
              "  <thead>\n",
              "    <tr style=\"text-align: right;\">\n",
              "      <th></th>\n",
              "      <th>title1_en</th>\n",
              "      <th>title2_en</th>\n",
              "      <th>label</th>\n",
              "    </tr>\n",
              "    <tr>\n",
              "      <th>id</th>\n",
              "      <th></th>\n",
              "      <th></th>\n",
              "      <th></th>\n",
              "    </tr>\n",
              "  </thead>\n",
              "  <tbody>\n",
              "    <tr>\n",
              "      <th>0</th>\n",
              "      <td>There are two new old-age insurance benefits f...</td>\n",
              "      <td>Police disprove \"bird's nest congress each per...</td>\n",
              "      <td>unrelated</td>\n",
              "    </tr>\n",
              "    <tr>\n",
              "      <th>3</th>\n",
              "      <td>\"If you do not come to Shenzhen, sooner or lat...</td>\n",
              "      <td>Shenzhen's GDP outstrips Hong Kong? Shenzhen S...</td>\n",
              "      <td>unrelated</td>\n",
              "    </tr>\n",
              "    <tr>\n",
              "      <th>1</th>\n",
              "      <td>\"If you do not come to Shenzhen, sooner or lat...</td>\n",
              "      <td>The GDP overtopped Hong Kong? Shenzhen clarifi...</td>\n",
              "      <td>unrelated</td>\n",
              "    </tr>\n",
              "  </tbody>\n",
              "</table>\n",
              "</div>\n",
              "      <button class=\"colab-df-convert\" onclick=\"convertToInteractive('df-c123d483-81c3-4cad-bf8f-4dc5107d1534')\"\n",
              "              title=\"Convert this dataframe to an interactive table.\"\n",
              "              style=\"display:none;\">\n",
              "        \n",
              "  <svg xmlns=\"http://www.w3.org/2000/svg\" height=\"24px\"viewBox=\"0 0 24 24\"\n",
              "       width=\"24px\">\n",
              "    <path d=\"M0 0h24v24H0V0z\" fill=\"none\"/>\n",
              "    <path d=\"M18.56 5.44l.94 2.06.94-2.06 2.06-.94-2.06-.94-.94-2.06-.94 2.06-2.06.94zm-11 1L8.5 8.5l.94-2.06 2.06-.94-2.06-.94L8.5 2.5l-.94 2.06-2.06.94zm10 10l.94 2.06.94-2.06 2.06-.94-2.06-.94-.94-2.06-.94 2.06-2.06.94z\"/><path d=\"M17.41 7.96l-1.37-1.37c-.4-.4-.92-.59-1.43-.59-.52 0-1.04.2-1.43.59L10.3 9.45l-7.72 7.72c-.78.78-.78 2.05 0 2.83L4 21.41c.39.39.9.59 1.41.59.51 0 1.02-.2 1.41-.59l7.78-7.78 2.81-2.81c.8-.78.8-2.07 0-2.86zM5.41 20L4 18.59l7.72-7.72 1.47 1.35L5.41 20z\"/>\n",
              "  </svg>\n",
              "      </button>\n",
              "      \n",
              "  <style>\n",
              "    .colab-df-container {\n",
              "      display:flex;\n",
              "      flex-wrap:wrap;\n",
              "      gap: 12px;\n",
              "    }\n",
              "\n",
              "    .colab-df-convert {\n",
              "      background-color: #E8F0FE;\n",
              "      border: none;\n",
              "      border-radius: 50%;\n",
              "      cursor: pointer;\n",
              "      display: none;\n",
              "      fill: #1967D2;\n",
              "      height: 32px;\n",
              "      padding: 0 0 0 0;\n",
              "      width: 32px;\n",
              "    }\n",
              "\n",
              "    .colab-df-convert:hover {\n",
              "      background-color: #E2EBFA;\n",
              "      box-shadow: 0px 1px 2px rgba(60, 64, 67, 0.3), 0px 1px 3px 1px rgba(60, 64, 67, 0.15);\n",
              "      fill: #174EA6;\n",
              "    }\n",
              "\n",
              "    [theme=dark] .colab-df-convert {\n",
              "      background-color: #3B4455;\n",
              "      fill: #D2E3FC;\n",
              "    }\n",
              "\n",
              "    [theme=dark] .colab-df-convert:hover {\n",
              "      background-color: #434B5C;\n",
              "      box-shadow: 0px 1px 3px 1px rgba(0, 0, 0, 0.15);\n",
              "      filter: drop-shadow(0px 1px 2px rgba(0, 0, 0, 0.3));\n",
              "      fill: #FFFFFF;\n",
              "    }\n",
              "  </style>\n",
              "\n",
              "      <script>\n",
              "        const buttonEl =\n",
              "          document.querySelector('#df-c123d483-81c3-4cad-bf8f-4dc5107d1534 button.colab-df-convert');\n",
              "        buttonEl.style.display =\n",
              "          google.colab.kernel.accessAllowed ? 'block' : 'none';\n",
              "\n",
              "        async function convertToInteractive(key) {\n",
              "          const element = document.querySelector('#df-c123d483-81c3-4cad-bf8f-4dc5107d1534');\n",
              "          const dataTable =\n",
              "            await google.colab.kernel.invokeFunction('convertToInteractive',\n",
              "                                                     [key], {});\n",
              "          if (!dataTable) return;\n",
              "\n",
              "          const docLinkHtml = 'Like what you see? Visit the ' +\n",
              "            '<a target=\"_blank\" href=https://colab.research.google.com/notebooks/data_table.ipynb>data table notebook</a>'\n",
              "            + ' to learn more about interactive tables.';\n",
              "          element.innerHTML = '';\n",
              "          dataTable['output_type'] = 'display_data';\n",
              "          await google.colab.output.renderOutput(dataTable, element);\n",
              "          const docLink = document.createElement('div');\n",
              "          docLink.innerHTML = docLinkHtml;\n",
              "          element.appendChild(docLink);\n",
              "        }\n",
              "      </script>\n",
              "    </div>\n",
              "  </div>\n",
              "  "
            ]
          },
          "metadata": {},
          "execution_count": 13
        }
      ],
      "source": [
        "cols = ['title1_en', 'title2_en', 'label']\n",
        "train = train.loc[:, cols]\n",
        "train.head(3)"
      ]
    },
    {
      "cell_type": "code",
      "execution_count": 14,
      "metadata": {
        "id": "R8zpr2YwBC4O"
      },
      "outputs": [],
      "source": [
        "import jieba.posseg as pseg\n",
        "import os\n",
        "import keras"
      ]
    },
    {
      "cell_type": "code",
      "execution_count": 15,
      "metadata": {
        "colab": {
          "base_uri": "https://localhost:8080/"
        },
        "id": "4eORI0-1BLMN",
        "outputId": "c9fee7b5-f50b-417b-e311-6634de828328"
      },
      "outputs": [
        {
          "output_type": "stream",
          "name": "stderr",
          "text": [
            "Building prefix dict from the default dictionary ...\n",
            "Dumping model to file cache /tmp/jieba.cache\n",
            "Loading model cost 0.952 seconds.\n",
            "Prefix dict has been built successfully.\n"
          ]
        },
        {
          "output_type": "execute_result",
          "data": {
            "text/plain": [
              "[pair('What', 'eng'),\n",
              " pair(' ', 'x'),\n",
              " pair('are', 'eng'),\n",
              " pair(' ', 'x'),\n",
              " pair('you', 'eng'),\n",
              " pair(' ', 'x'),\n",
              " pair('doing', 'eng'),\n",
              " pair(' ', 'x'),\n",
              " pair('here', 'eng'),\n",
              " pair('?', 'x')]"
            ]
          },
          "metadata": {},
          "execution_count": 15
        }
      ],
      "source": [
        "text = 'What are you doing here?'\n",
        "words = pseg.cut(text)\n",
        "[word for word in words]"
      ]
    },
    {
      "cell_type": "code",
      "execution_count": 16,
      "metadata": {
        "id": "Tsn67hZmBaBu"
      },
      "outputs": [],
      "source": [
        "def jieba_tokenizer(text):\n",
        "    words = pseg.cut(text)\n",
        "    return ' '.join([\n",
        "        word for word, flag in words if flag != 'x'])"
      ]
    },
    {
      "cell_type": "code",
      "execution_count": 17,
      "metadata": {
        "colab": {
          "base_uri": "https://localhost:8080/"
        },
        "id": "l01J40RuBlbP",
        "outputId": "89d5dfa9-f386-421c-f809-88ea976d1900"
      },
      "outputs": [
        {
          "output_type": "execute_result",
          "data": {
            "text/plain": [
              "title1_en    False\n",
              "title2_en    False\n",
              "label        False\n",
              "dtype: bool"
            ]
          },
          "metadata": {},
          "execution_count": 17
        }
      ],
      "source": [
        "train.title2_en.fillna('UNKNOWN', inplace=True)\n",
        "train.isna().any()"
      ]
    },
    {
      "cell_type": "code",
      "execution_count": 18,
      "metadata": {
        "colab": {
          "base_uri": "https://localhost:8080/"
        },
        "id": "U6OkwO8PBtIT",
        "outputId": "03a298db-db9d-4943-ec7b-07fb207668a7"
      },
      "outputs": [
        {
          "output_type": "stream",
          "name": "stderr",
          "text": [
            "<ipython-input-18-2085024a8821>:7: SyntaxWarning: assertion is always true, perhaps remove parentheses?\n",
            "  assert((data.index == res.index).all(), 'Something error when merge data')\n"
          ]
        }
      ],
      "source": [
        "def process(data):\n",
        "    res = data.apply(jieba_tokenizer)\n",
        "    return res\n",
        "\n",
        "\n",
        "def check_merge_idx(data, res):\n",
        "    assert((data.index == res.index).all(), 'Something error when merge data')\n",
        "\n",
        "def parallelize(data, func):\n",
        "    from multiprocessing import cpu_count, Pool\n",
        "    cores = partitions = cpu_count()\n",
        "    data_split = np.array_split(data, partitions)\n",
        "    pool = Pool(cores)\n",
        "    res = pd.concat(pool.map(func, data_split))\n",
        "    pool.close()\n",
        "    pool.join()\n",
        "    check_merge_idx(data, res)\n",
        "    return res"
      ]
    },
    {
      "cell_type": "code",
      "execution_count": 19,
      "metadata": {
        "colab": {
          "base_uri": "https://localhost:8080/"
        },
        "id": "xAsRMs1iB1Eu",
        "outputId": "0fa94e88-b362-4fb6-c95f-5345d7539f04"
      },
      "outputs": [
        {
          "output_type": "execute_result",
          "data": {
            "text/plain": [
              "True"
            ]
          },
          "metadata": {},
          "execution_count": 19
        }
      ],
      "source": [
        "np.all(train.index == train.title1_en.index)"
      ]
    },
    {
      "cell_type": "code",
      "execution_count": 20,
      "metadata": {
        "colab": {
          "base_uri": "https://localhost:8080/"
        },
        "id": "H49tCtUYCUKp",
        "outputId": "d82c746a-7de3-4db2-bd7e-c259df5a19e5"
      },
      "outputs": [
        {
          "output_type": "stream",
          "name": "stdout",
          "text": [
            "start to training\n"
          ]
        }
      ],
      "source": [
        "print(\"start to training\")\n",
        "train['title1_tokenized'] = parallelize(train.loc[:, 'title1_en'], process)\n",
        "train['title2_tokenized'] = parallelize(train.loc[:, 'title2_en'], process)\n",
        "train.to_csv('tokenized_train.csv',index=True)"
      ]
    },
    {
      "cell_type": "code",
      "execution_count": 21,
      "metadata": {
        "colab": {
          "base_uri": "https://localhost:8080/",
          "height": 394
        },
        "id": "sgSokQUoCmVu",
        "outputId": "214c55d4-e133-4721-80c8-274f11433119"
      },
      "outputs": [
        {
          "output_type": "execute_result",
          "data": {
            "text/plain": [
              "                                            title1_en  \\\n",
              "id                                                      \n",
              "0   There are two new old-age insurance benefits f...   \n",
              "3   \"If you do not come to Shenzhen, sooner or lat...   \n",
              "1   \"If you do not come to Shenzhen, sooner or lat...   \n",
              "2   \"If you do not come to Shenzhen, sooner or lat...   \n",
              "9   \"How to discriminate oil from gutter oil by me...   \n",
              "4   \"If you do not come to Shenzhen, sooner or lat...   \n",
              "6   \"if you eat durian, you will kill yourself if ...   \n",
              "5   \"If you do not come to Shenzhen, sooner or lat...   \n",
              "7   \"Frog frog? It's a fertility test! Let's play\"...   \n",
              "8   \"How to discriminate oil from gutter oil by me...   \n",
              "\n",
              "                                     title1_tokenized  \n",
              "id                                                     \n",
              "0   There are two new old age insurance benefits f...  \n",
              "3   If you do not come to Shenzhen sooner or later...  \n",
              "1   If you do not come to Shenzhen sooner or later...  \n",
              "2   If you do not come to Shenzhen sooner or later...  \n",
              "9   How to discriminate oil from gutter oil by mea...  \n",
              "4   If you do not come to Shenzhen sooner or later...  \n",
              "6   if you eat durian you will kill yourself if yo...  \n",
              "5   If you do not come to Shenzhen sooner or later...  \n",
              "7          Frog frog It fertility test Let play Jewel  \n",
              "8   How to discriminate oil from gutter oil by mea...  "
            ],
            "text/html": [
              "\n",
              "  <div id=\"df-d408228d-6a62-4d70-8524-40eeb4d6220a\">\n",
              "    <div class=\"colab-df-container\">\n",
              "      <div>\n",
              "<style scoped>\n",
              "    .dataframe tbody tr th:only-of-type {\n",
              "        vertical-align: middle;\n",
              "    }\n",
              "\n",
              "    .dataframe tbody tr th {\n",
              "        vertical-align: top;\n",
              "    }\n",
              "\n",
              "    .dataframe thead th {\n",
              "        text-align: right;\n",
              "    }\n",
              "</style>\n",
              "<table border=\"1\" class=\"dataframe\">\n",
              "  <thead>\n",
              "    <tr style=\"text-align: right;\">\n",
              "      <th></th>\n",
              "      <th>title1_en</th>\n",
              "      <th>title1_tokenized</th>\n",
              "    </tr>\n",
              "    <tr>\n",
              "      <th>id</th>\n",
              "      <th></th>\n",
              "      <th></th>\n",
              "    </tr>\n",
              "  </thead>\n",
              "  <tbody>\n",
              "    <tr>\n",
              "      <th>0</th>\n",
              "      <td>There are two new old-age insurance benefits f...</td>\n",
              "      <td>There are two new old age insurance benefits f...</td>\n",
              "    </tr>\n",
              "    <tr>\n",
              "      <th>3</th>\n",
              "      <td>\"If you do not come to Shenzhen, sooner or lat...</td>\n",
              "      <td>If you do not come to Shenzhen sooner or later...</td>\n",
              "    </tr>\n",
              "    <tr>\n",
              "      <th>1</th>\n",
              "      <td>\"If you do not come to Shenzhen, sooner or lat...</td>\n",
              "      <td>If you do not come to Shenzhen sooner or later...</td>\n",
              "    </tr>\n",
              "    <tr>\n",
              "      <th>2</th>\n",
              "      <td>\"If you do not come to Shenzhen, sooner or lat...</td>\n",
              "      <td>If you do not come to Shenzhen sooner or later...</td>\n",
              "    </tr>\n",
              "    <tr>\n",
              "      <th>9</th>\n",
              "      <td>\"How to discriminate oil from gutter oil by me...</td>\n",
              "      <td>How to discriminate oil from gutter oil by mea...</td>\n",
              "    </tr>\n",
              "    <tr>\n",
              "      <th>4</th>\n",
              "      <td>\"If you do not come to Shenzhen, sooner or lat...</td>\n",
              "      <td>If you do not come to Shenzhen sooner or later...</td>\n",
              "    </tr>\n",
              "    <tr>\n",
              "      <th>6</th>\n",
              "      <td>\"if you eat durian, you will kill yourself if ...</td>\n",
              "      <td>if you eat durian you will kill yourself if yo...</td>\n",
              "    </tr>\n",
              "    <tr>\n",
              "      <th>5</th>\n",
              "      <td>\"If you do not come to Shenzhen, sooner or lat...</td>\n",
              "      <td>If you do not come to Shenzhen sooner or later...</td>\n",
              "    </tr>\n",
              "    <tr>\n",
              "      <th>7</th>\n",
              "      <td>\"Frog frog? It's a fertility test! Let's play\"...</td>\n",
              "      <td>Frog frog It fertility test Let play Jewel</td>\n",
              "    </tr>\n",
              "    <tr>\n",
              "      <th>8</th>\n",
              "      <td>\"How to discriminate oil from gutter oil by me...</td>\n",
              "      <td>How to discriminate oil from gutter oil by mea...</td>\n",
              "    </tr>\n",
              "  </tbody>\n",
              "</table>\n",
              "</div>\n",
              "      <button class=\"colab-df-convert\" onclick=\"convertToInteractive('df-d408228d-6a62-4d70-8524-40eeb4d6220a')\"\n",
              "              title=\"Convert this dataframe to an interactive table.\"\n",
              "              style=\"display:none;\">\n",
              "        \n",
              "  <svg xmlns=\"http://www.w3.org/2000/svg\" height=\"24px\"viewBox=\"0 0 24 24\"\n",
              "       width=\"24px\">\n",
              "    <path d=\"M0 0h24v24H0V0z\" fill=\"none\"/>\n",
              "    <path d=\"M18.56 5.44l.94 2.06.94-2.06 2.06-.94-2.06-.94-.94-2.06-.94 2.06-2.06.94zm-11 1L8.5 8.5l.94-2.06 2.06-.94-2.06-.94L8.5 2.5l-.94 2.06-2.06.94zm10 10l.94 2.06.94-2.06 2.06-.94-2.06-.94-.94-2.06-.94 2.06-2.06.94z\"/><path d=\"M17.41 7.96l-1.37-1.37c-.4-.4-.92-.59-1.43-.59-.52 0-1.04.2-1.43.59L10.3 9.45l-7.72 7.72c-.78.78-.78 2.05 0 2.83L4 21.41c.39.39.9.59 1.41.59.51 0 1.02-.2 1.41-.59l7.78-7.78 2.81-2.81c.8-.78.8-2.07 0-2.86zM5.41 20L4 18.59l7.72-7.72 1.47 1.35L5.41 20z\"/>\n",
              "  </svg>\n",
              "      </button>\n",
              "      \n",
              "  <style>\n",
              "    .colab-df-container {\n",
              "      display:flex;\n",
              "      flex-wrap:wrap;\n",
              "      gap: 12px;\n",
              "    }\n",
              "\n",
              "    .colab-df-convert {\n",
              "      background-color: #E8F0FE;\n",
              "      border: none;\n",
              "      border-radius: 50%;\n",
              "      cursor: pointer;\n",
              "      display: none;\n",
              "      fill: #1967D2;\n",
              "      height: 32px;\n",
              "      padding: 0 0 0 0;\n",
              "      width: 32px;\n",
              "    }\n",
              "\n",
              "    .colab-df-convert:hover {\n",
              "      background-color: #E2EBFA;\n",
              "      box-shadow: 0px 1px 2px rgba(60, 64, 67, 0.3), 0px 1px 3px 1px rgba(60, 64, 67, 0.15);\n",
              "      fill: #174EA6;\n",
              "    }\n",
              "\n",
              "    [theme=dark] .colab-df-convert {\n",
              "      background-color: #3B4455;\n",
              "      fill: #D2E3FC;\n",
              "    }\n",
              "\n",
              "    [theme=dark] .colab-df-convert:hover {\n",
              "      background-color: #434B5C;\n",
              "      box-shadow: 0px 1px 3px 1px rgba(0, 0, 0, 0.15);\n",
              "      filter: drop-shadow(0px 1px 2px rgba(0, 0, 0, 0.3));\n",
              "      fill: #FFFFFF;\n",
              "    }\n",
              "  </style>\n",
              "\n",
              "      <script>\n",
              "        const buttonEl =\n",
              "          document.querySelector('#df-d408228d-6a62-4d70-8524-40eeb4d6220a button.colab-df-convert');\n",
              "        buttonEl.style.display =\n",
              "          google.colab.kernel.accessAllowed ? 'block' : 'none';\n",
              "\n",
              "        async function convertToInteractive(key) {\n",
              "          const element = document.querySelector('#df-d408228d-6a62-4d70-8524-40eeb4d6220a');\n",
              "          const dataTable =\n",
              "            await google.colab.kernel.invokeFunction('convertToInteractive',\n",
              "                                                     [key], {});\n",
              "          if (!dataTable) return;\n",
              "\n",
              "          const docLinkHtml = 'Like what you see? Visit the ' +\n",
              "            '<a target=\"_blank\" href=https://colab.research.google.com/notebooks/data_table.ipynb>data table notebook</a>'\n",
              "            + ' to learn more about interactive tables.';\n",
              "          element.innerHTML = '';\n",
              "          dataTable['output_type'] = 'display_data';\n",
              "          await google.colab.output.renderOutput(dataTable, element);\n",
              "          const docLink = document.createElement('div');\n",
              "          docLink.innerHTML = docLinkHtml;\n",
              "          element.appendChild(docLink);\n",
              "        }\n",
              "      </script>\n",
              "    </div>\n",
              "  </div>\n",
              "  "
            ]
          },
          "metadata": {},
          "execution_count": 21
        }
      ],
      "source": [
        "train.loc[:, [\"title1_en\", \"title1_tokenized\"]].head(10)"
      ]
    },
    {
      "cell_type": "code",
      "execution_count": 22,
      "metadata": {
        "colab": {
          "base_uri": "https://localhost:8080/",
          "height": 394
        },
        "id": "idsee0oKEyyx",
        "outputId": "1a1ecf2c-7280-4436-9c83-41bfd1c449ea"
      },
      "outputs": [
        {
          "output_type": "execute_result",
          "data": {
            "text/plain": [
              "                                            title2_en  \\\n",
              "id                                                      \n",
              "0   Police disprove \"bird's nest congress each per...   \n",
              "3   Shenzhen's GDP outstrips Hong Kong? Shenzhen S...   \n",
              "1   The GDP overtopped Hong Kong? Shenzhen clarifi...   \n",
              "2   Shenzhen's GDP topped Hong Kong last year? She...   \n",
              "9   It took 30 years of cooking oil to know that o...   \n",
              "4   Shenzhen's GDP overtakes Hong Kong? Bureau of ...   \n",
              "6   Durian can't eat with anything, it's the same ...   \n",
              "5   Shenzhen's GDP outpaces Hong Kong? Defending R...   \n",
              "7   A store in xianning contains \"cotton\"? A multi...   \n",
              "8   A single piece of garlic can spot gutter oil? ...   \n",
              "\n",
              "                                     title2_tokenized  \n",
              "id                                                     \n",
              "0   Police disprove bird nest congress each person...  \n",
              "3   Shenzhen GDP outstrips Hong Kong Shenzhen Stat...  \n",
              "1   The GDP overtopped Hong Kong Shenzhen clarifie...  \n",
              "2   Shenzhen GDP topped Hong Kong last year Shenzh...  \n",
              "9   It took 30 years of cooking oil to know that o...  \n",
              "4   Shenzhen GDP overtakes Hong Kong Bureau of Sta...  \n",
              "6   Durian can eat with anything it the same as co...  \n",
              "5   Shenzhen GDP outpaces Hong Kong Defending Rumo...  \n",
              "7   store in xianning contains cotton multi agency...  \n",
              "8   single piece of garlic can spot gutter oil Com...  "
            ],
            "text/html": [
              "\n",
              "  <div id=\"df-d8deb45c-7926-4cd5-8c90-fcb1c7e75899\">\n",
              "    <div class=\"colab-df-container\">\n",
              "      <div>\n",
              "<style scoped>\n",
              "    .dataframe tbody tr th:only-of-type {\n",
              "        vertical-align: middle;\n",
              "    }\n",
              "\n",
              "    .dataframe tbody tr th {\n",
              "        vertical-align: top;\n",
              "    }\n",
              "\n",
              "    .dataframe thead th {\n",
              "        text-align: right;\n",
              "    }\n",
              "</style>\n",
              "<table border=\"1\" class=\"dataframe\">\n",
              "  <thead>\n",
              "    <tr style=\"text-align: right;\">\n",
              "      <th></th>\n",
              "      <th>title2_en</th>\n",
              "      <th>title2_tokenized</th>\n",
              "    </tr>\n",
              "    <tr>\n",
              "      <th>id</th>\n",
              "      <th></th>\n",
              "      <th></th>\n",
              "    </tr>\n",
              "  </thead>\n",
              "  <tbody>\n",
              "    <tr>\n",
              "      <th>0</th>\n",
              "      <td>Police disprove \"bird's nest congress each per...</td>\n",
              "      <td>Police disprove bird nest congress each person...</td>\n",
              "    </tr>\n",
              "    <tr>\n",
              "      <th>3</th>\n",
              "      <td>Shenzhen's GDP outstrips Hong Kong? Shenzhen S...</td>\n",
              "      <td>Shenzhen GDP outstrips Hong Kong Shenzhen Stat...</td>\n",
              "    </tr>\n",
              "    <tr>\n",
              "      <th>1</th>\n",
              "      <td>The GDP overtopped Hong Kong? Shenzhen clarifi...</td>\n",
              "      <td>The GDP overtopped Hong Kong Shenzhen clarifie...</td>\n",
              "    </tr>\n",
              "    <tr>\n",
              "      <th>2</th>\n",
              "      <td>Shenzhen's GDP topped Hong Kong last year? She...</td>\n",
              "      <td>Shenzhen GDP topped Hong Kong last year Shenzh...</td>\n",
              "    </tr>\n",
              "    <tr>\n",
              "      <th>9</th>\n",
              "      <td>It took 30 years of cooking oil to know that o...</td>\n",
              "      <td>It took 30 years of cooking oil to know that o...</td>\n",
              "    </tr>\n",
              "    <tr>\n",
              "      <th>4</th>\n",
              "      <td>Shenzhen's GDP overtakes Hong Kong? Bureau of ...</td>\n",
              "      <td>Shenzhen GDP overtakes Hong Kong Bureau of Sta...</td>\n",
              "    </tr>\n",
              "    <tr>\n",
              "      <th>6</th>\n",
              "      <td>Durian can't eat with anything, it's the same ...</td>\n",
              "      <td>Durian can eat with anything it the same as co...</td>\n",
              "    </tr>\n",
              "    <tr>\n",
              "      <th>5</th>\n",
              "      <td>Shenzhen's GDP outpaces Hong Kong? Defending R...</td>\n",
              "      <td>Shenzhen GDP outpaces Hong Kong Defending Rumo...</td>\n",
              "    </tr>\n",
              "    <tr>\n",
              "      <th>7</th>\n",
              "      <td>A store in xianning contains \"cotton\"? A multi...</td>\n",
              "      <td>store in xianning contains cotton multi agency...</td>\n",
              "    </tr>\n",
              "    <tr>\n",
              "      <th>8</th>\n",
              "      <td>A single piece of garlic can spot gutter oil? ...</td>\n",
              "      <td>single piece of garlic can spot gutter oil Com...</td>\n",
              "    </tr>\n",
              "  </tbody>\n",
              "</table>\n",
              "</div>\n",
              "      <button class=\"colab-df-convert\" onclick=\"convertToInteractive('df-d8deb45c-7926-4cd5-8c90-fcb1c7e75899')\"\n",
              "              title=\"Convert this dataframe to an interactive table.\"\n",
              "              style=\"display:none;\">\n",
              "        \n",
              "  <svg xmlns=\"http://www.w3.org/2000/svg\" height=\"24px\"viewBox=\"0 0 24 24\"\n",
              "       width=\"24px\">\n",
              "    <path d=\"M0 0h24v24H0V0z\" fill=\"none\"/>\n",
              "    <path d=\"M18.56 5.44l.94 2.06.94-2.06 2.06-.94-2.06-.94-.94-2.06-.94 2.06-2.06.94zm-11 1L8.5 8.5l.94-2.06 2.06-.94-2.06-.94L8.5 2.5l-.94 2.06-2.06.94zm10 10l.94 2.06.94-2.06 2.06-.94-2.06-.94-.94-2.06-.94 2.06-2.06.94z\"/><path d=\"M17.41 7.96l-1.37-1.37c-.4-.4-.92-.59-1.43-.59-.52 0-1.04.2-1.43.59L10.3 9.45l-7.72 7.72c-.78.78-.78 2.05 0 2.83L4 21.41c.39.39.9.59 1.41.59.51 0 1.02-.2 1.41-.59l7.78-7.78 2.81-2.81c.8-.78.8-2.07 0-2.86zM5.41 20L4 18.59l7.72-7.72 1.47 1.35L5.41 20z\"/>\n",
              "  </svg>\n",
              "      </button>\n",
              "      \n",
              "  <style>\n",
              "    .colab-df-container {\n",
              "      display:flex;\n",
              "      flex-wrap:wrap;\n",
              "      gap: 12px;\n",
              "    }\n",
              "\n",
              "    .colab-df-convert {\n",
              "      background-color: #E8F0FE;\n",
              "      border: none;\n",
              "      border-radius: 50%;\n",
              "      cursor: pointer;\n",
              "      display: none;\n",
              "      fill: #1967D2;\n",
              "      height: 32px;\n",
              "      padding: 0 0 0 0;\n",
              "      width: 32px;\n",
              "    }\n",
              "\n",
              "    .colab-df-convert:hover {\n",
              "      background-color: #E2EBFA;\n",
              "      box-shadow: 0px 1px 2px rgba(60, 64, 67, 0.3), 0px 1px 3px 1px rgba(60, 64, 67, 0.15);\n",
              "      fill: #174EA6;\n",
              "    }\n",
              "\n",
              "    [theme=dark] .colab-df-convert {\n",
              "      background-color: #3B4455;\n",
              "      fill: #D2E3FC;\n",
              "    }\n",
              "\n",
              "    [theme=dark] .colab-df-convert:hover {\n",
              "      background-color: #434B5C;\n",
              "      box-shadow: 0px 1px 3px 1px rgba(0, 0, 0, 0.15);\n",
              "      filter: drop-shadow(0px 1px 2px rgba(0, 0, 0, 0.3));\n",
              "      fill: #FFFFFF;\n",
              "    }\n",
              "  </style>\n",
              "\n",
              "      <script>\n",
              "        const buttonEl =\n",
              "          document.querySelector('#df-d8deb45c-7926-4cd5-8c90-fcb1c7e75899 button.colab-df-convert');\n",
              "        buttonEl.style.display =\n",
              "          google.colab.kernel.accessAllowed ? 'block' : 'none';\n",
              "\n",
              "        async function convertToInteractive(key) {\n",
              "          const element = document.querySelector('#df-d8deb45c-7926-4cd5-8c90-fcb1c7e75899');\n",
              "          const dataTable =\n",
              "            await google.colab.kernel.invokeFunction('convertToInteractive',\n",
              "                                                     [key], {});\n",
              "          if (!dataTable) return;\n",
              "\n",
              "          const docLinkHtml = 'Like what you see? Visit the ' +\n",
              "            '<a target=\"_blank\" href=https://colab.research.google.com/notebooks/data_table.ipynb>data table notebook</a>'\n",
              "            + ' to learn more about interactive tables.';\n",
              "          element.innerHTML = '';\n",
              "          dataTable['output_type'] = 'display_data';\n",
              "          await google.colab.output.renderOutput(dataTable, element);\n",
              "          const docLink = document.createElement('div');\n",
              "          docLink.innerHTML = docLinkHtml;\n",
              "          element.appendChild(docLink);\n",
              "        }\n",
              "      </script>\n",
              "    </div>\n",
              "  </div>\n",
              "  "
            ]
          },
          "metadata": {},
          "execution_count": 22
        }
      ],
      "source": [
        "train.loc[:, [\"title2_en\", \"title2_tokenized\"]].head(10)"
      ]
    },
    {
      "cell_type": "code",
      "execution_count": 23,
      "metadata": {
        "id": "Zz55hTbeE6eH"
      },
      "outputs": [],
      "source": [
        "train.fillna('UNKNOWN', inplace=True)"
      ]
    },
    {
      "cell_type": "code",
      "execution_count": 24,
      "metadata": {
        "id": "5khRqvz_E-3W"
      },
      "outputs": [],
      "source": [
        "MAX_NUM_WORDS = 10000\n",
        "tokenizer = keras.preprocessing.text.Tokenizer(num_words=MAX_NUM_WORDS)"
      ]
    },
    {
      "cell_type": "code",
      "execution_count": 25,
      "metadata": {
        "colab": {
          "base_uri": "https://localhost:8080/"
        },
        "id": "Lkge99eeFH8v",
        "outputId": "13a4fd95-d2b3-4b5f-a482-139650705a75"
      },
      "outputs": [
        {
          "output_type": "execute_result",
          "data": {
            "text/plain": [
              "(641104,)"
            ]
          },
          "metadata": {},
          "execution_count": 25
        }
      ],
      "source": [
        "corpus_x1 = train.title1_tokenized\n",
        "corpus_x2 = train.title2_tokenized\n",
        "corpus = pd.concat([\n",
        "    corpus_x1, corpus_x2])\n",
        "corpus.shape"
      ]
    },
    {
      "cell_type": "code",
      "execution_count": 26,
      "metadata": {
        "colab": {
          "base_uri": "https://localhost:8080/",
          "height": 238
        },
        "id": "8NWSYqhYFLzY",
        "outputId": "f17529fc-e065-4f86-83bd-f554bd691807"
      },
      "outputs": [
        {
          "output_type": "execute_result",
          "data": {
            "text/plain": [
              "                                                title\n",
              "id                                                   \n",
              "0   There are two new old age insurance benefits f...\n",
              "3   If you do not come to Shenzhen sooner or later...\n",
              "1   If you do not come to Shenzhen sooner or later...\n",
              "2   If you do not come to Shenzhen sooner or later...\n",
              "9   How to discriminate oil from gutter oil by mea..."
            ],
            "text/html": [
              "\n",
              "  <div id=\"df-4263da88-6c79-42cd-bf64-3a0477cd0ece\">\n",
              "    <div class=\"colab-df-container\">\n",
              "      <div>\n",
              "<style scoped>\n",
              "    .dataframe tbody tr th:only-of-type {\n",
              "        vertical-align: middle;\n",
              "    }\n",
              "\n",
              "    .dataframe tbody tr th {\n",
              "        vertical-align: top;\n",
              "    }\n",
              "\n",
              "    .dataframe thead th {\n",
              "        text-align: right;\n",
              "    }\n",
              "</style>\n",
              "<table border=\"1\" class=\"dataframe\">\n",
              "  <thead>\n",
              "    <tr style=\"text-align: right;\">\n",
              "      <th></th>\n",
              "      <th>title</th>\n",
              "    </tr>\n",
              "    <tr>\n",
              "      <th>id</th>\n",
              "      <th></th>\n",
              "    </tr>\n",
              "  </thead>\n",
              "  <tbody>\n",
              "    <tr>\n",
              "      <th>0</th>\n",
              "      <td>There are two new old age insurance benefits f...</td>\n",
              "    </tr>\n",
              "    <tr>\n",
              "      <th>3</th>\n",
              "      <td>If you do not come to Shenzhen sooner or later...</td>\n",
              "    </tr>\n",
              "    <tr>\n",
              "      <th>1</th>\n",
              "      <td>If you do not come to Shenzhen sooner or later...</td>\n",
              "    </tr>\n",
              "    <tr>\n",
              "      <th>2</th>\n",
              "      <td>If you do not come to Shenzhen sooner or later...</td>\n",
              "    </tr>\n",
              "    <tr>\n",
              "      <th>9</th>\n",
              "      <td>How to discriminate oil from gutter oil by mea...</td>\n",
              "    </tr>\n",
              "  </tbody>\n",
              "</table>\n",
              "</div>\n",
              "      <button class=\"colab-df-convert\" onclick=\"convertToInteractive('df-4263da88-6c79-42cd-bf64-3a0477cd0ece')\"\n",
              "              title=\"Convert this dataframe to an interactive table.\"\n",
              "              style=\"display:none;\">\n",
              "        \n",
              "  <svg xmlns=\"http://www.w3.org/2000/svg\" height=\"24px\"viewBox=\"0 0 24 24\"\n",
              "       width=\"24px\">\n",
              "    <path d=\"M0 0h24v24H0V0z\" fill=\"none\"/>\n",
              "    <path d=\"M18.56 5.44l.94 2.06.94-2.06 2.06-.94-2.06-.94-.94-2.06-.94 2.06-2.06.94zm-11 1L8.5 8.5l.94-2.06 2.06-.94-2.06-.94L8.5 2.5l-.94 2.06-2.06.94zm10 10l.94 2.06.94-2.06 2.06-.94-2.06-.94-.94-2.06-.94 2.06-2.06.94z\"/><path d=\"M17.41 7.96l-1.37-1.37c-.4-.4-.92-.59-1.43-.59-.52 0-1.04.2-1.43.59L10.3 9.45l-7.72 7.72c-.78.78-.78 2.05 0 2.83L4 21.41c.39.39.9.59 1.41.59.51 0 1.02-.2 1.41-.59l7.78-7.78 2.81-2.81c.8-.78.8-2.07 0-2.86zM5.41 20L4 18.59l7.72-7.72 1.47 1.35L5.41 20z\"/>\n",
              "  </svg>\n",
              "      </button>\n",
              "      \n",
              "  <style>\n",
              "    .colab-df-container {\n",
              "      display:flex;\n",
              "      flex-wrap:wrap;\n",
              "      gap: 12px;\n",
              "    }\n",
              "\n",
              "    .colab-df-convert {\n",
              "      background-color: #E8F0FE;\n",
              "      border: none;\n",
              "      border-radius: 50%;\n",
              "      cursor: pointer;\n",
              "      display: none;\n",
              "      fill: #1967D2;\n",
              "      height: 32px;\n",
              "      padding: 0 0 0 0;\n",
              "      width: 32px;\n",
              "    }\n",
              "\n",
              "    .colab-df-convert:hover {\n",
              "      background-color: #E2EBFA;\n",
              "      box-shadow: 0px 1px 2px rgba(60, 64, 67, 0.3), 0px 1px 3px 1px rgba(60, 64, 67, 0.15);\n",
              "      fill: #174EA6;\n",
              "    }\n",
              "\n",
              "    [theme=dark] .colab-df-convert {\n",
              "      background-color: #3B4455;\n",
              "      fill: #D2E3FC;\n",
              "    }\n",
              "\n",
              "    [theme=dark] .colab-df-convert:hover {\n",
              "      background-color: #434B5C;\n",
              "      box-shadow: 0px 1px 3px 1px rgba(0, 0, 0, 0.15);\n",
              "      filter: drop-shadow(0px 1px 2px rgba(0, 0, 0, 0.3));\n",
              "      fill: #FFFFFF;\n",
              "    }\n",
              "  </style>\n",
              "\n",
              "      <script>\n",
              "        const buttonEl =\n",
              "          document.querySelector('#df-4263da88-6c79-42cd-bf64-3a0477cd0ece button.colab-df-convert');\n",
              "        buttonEl.style.display =\n",
              "          google.colab.kernel.accessAllowed ? 'block' : 'none';\n",
              "\n",
              "        async function convertToInteractive(key) {\n",
              "          const element = document.querySelector('#df-4263da88-6c79-42cd-bf64-3a0477cd0ece');\n",
              "          const dataTable =\n",
              "            await google.colab.kernel.invokeFunction('convertToInteractive',\n",
              "                                                     [key], {});\n",
              "          if (!dataTable) return;\n",
              "\n",
              "          const docLinkHtml = 'Like what you see? Visit the ' +\n",
              "            '<a target=\"_blank\" href=https://colab.research.google.com/notebooks/data_table.ipynb>data table notebook</a>'\n",
              "            + ' to learn more about interactive tables.';\n",
              "          element.innerHTML = '';\n",
              "          dataTable['output_type'] = 'display_data';\n",
              "          await google.colab.output.renderOutput(dataTable, element);\n",
              "          const docLink = document.createElement('div');\n",
              "          docLink.innerHTML = docLinkHtml;\n",
              "          element.appendChild(docLink);\n",
              "        }\n",
              "      </script>\n",
              "    </div>\n",
              "  </div>\n",
              "  "
            ]
          },
          "metadata": {},
          "execution_count": 26
        }
      ],
      "source": [
        "pd.DataFrame(corpus.iloc[:5],columns=['title'])"
      ]
    },
    {
      "cell_type": "code",
      "execution_count": 27,
      "metadata": {
        "colab": {
          "base_uri": "https://localhost:8080/"
        },
        "id": "rdbMeO6xFREn",
        "outputId": "4760e4f0-1208-41de-cabe-c904a2ae5a56"
      },
      "outputs": [
        {
          "output_type": "execute_result",
          "data": {
            "text/plain": [
              "False"
            ]
          },
          "metadata": {},
          "execution_count": 27
        }
      ],
      "source": [
        "corpus.isna().any()"
      ]
    },
    {
      "cell_type": "code",
      "execution_count": 28,
      "metadata": {
        "id": "0mOBDENQFTPp"
      },
      "outputs": [],
      "source": [
        "tokenizer.fit_on_texts(corpus)\n",
        "x1_train = tokenizer.texts_to_sequences(corpus_x1)\n",
        "x2_train = tokenizer.texts_to_sequences(corpus_x2)"
      ]
    },
    {
      "cell_type": "code",
      "execution_count": 29,
      "metadata": {
        "colab": {
          "base_uri": "https://localhost:8080/"
        },
        "id": "e-K-AqPqFaOk",
        "outputId": "b5d1f1c7-ee62-43aa-d832-882500367693"
      },
      "outputs": [
        {
          "output_type": "execute_result",
          "data": {
            "text/plain": [
              "320552"
            ]
          },
          "metadata": {},
          "execution_count": 29
        }
      ],
      "source": [
        "len(x1_train)"
      ]
    },
    {
      "cell_type": "code",
      "execution_count": 30,
      "metadata": {
        "colab": {
          "base_uri": "https://localhost:8080/"
        },
        "id": "tos6HjzJFdIt",
        "outputId": "ad2b7669-b99b-43d6-fdb6-4546586bf27c"
      },
      "outputs": [
        {
          "output_type": "execute_result",
          "data": {
            "text/plain": [
              "[[65, 16, 57, 28, 23, 255, 569, 808, 11, 23, 29, 6, 88, 446, 19, 8, 428, 175]]"
            ]
          },
          "metadata": {},
          "execution_count": 30
        }
      ],
      "source": [
        "x1_train[:1]"
      ]
    },
    {
      "cell_type": "code",
      "execution_count": 31,
      "metadata": {
        "colab": {
          "base_uri": "https://localhost:8080/"
        },
        "id": "O9d9aGtBFdtb",
        "outputId": "521f13ae-3757-4f7a-ce7b-b316d3baf3a6"
      },
      "outputs": [
        {
          "output_type": "stream",
          "name": "stdout",
          "text": [
            "['there', 'are', 'two', 'new', 'old', 'age', 'insurance', 'benefits', 'for', 'old', 'people', 'in', 'rural', 'areas', 'have', 'you', 'got', 'them']\n"
          ]
        }
      ],
      "source": [
        "for seq in x1_train[:1]:\n",
        "    print([tokenizer.index_word[idx] for idx in seq])"
      ]
    },
    {
      "cell_type": "code",
      "execution_count": 32,
      "metadata": {
        "id": "8a3UIECdFduV"
      },
      "outputs": [],
      "source": [
        "MAX_SEQUENCE_LENGTH = 20\n",
        "x1_train = keras.preprocessing.sequence.pad_sequences(x1_train, maxlen=MAX_SEQUENCE_LENGTH)\n",
        "\n",
        "x2_train = keras.preprocessing.sequence.pad_sequences(x2_train, maxlen=MAX_SEQUENCE_LENGTH)"
      ]
    },
    {
      "cell_type": "code",
      "execution_count": 33,
      "metadata": {
        "colab": {
          "base_uri": "https://localhost:8080/"
        },
        "id": "4M8cN_ZlFxRX",
        "outputId": "2f009494-b106-40f9-b066-dfbfd0abeeed"
      },
      "outputs": [
        {
          "output_type": "execute_result",
          "data": {
            "text/plain": [
              "array([  0,   0,  65,  16,  57,  28,  23, 255, 569, 808,  11,  23,  29,\n",
              "         6,  88, 446,  19,   8, 428, 175], dtype=int32)"
            ]
          },
          "metadata": {},
          "execution_count": 33
        }
      ],
      "source": [
        "x1_train[0]"
      ]
    },
    {
      "cell_type": "code",
      "execution_count": 34,
      "metadata": {
        "id": "oMSkq5fEF2Y9"
      },
      "outputs": [],
      "source": [
        "for seq in x1_train + x2_train:\n",
        "    assert len(seq) == 20"
      ]
    },
    {
      "cell_type": "code",
      "execution_count": 35,
      "metadata": {
        "colab": {
          "base_uri": "https://localhost:8080/"
        },
        "id": "3RRo_oLKF5si",
        "outputId": "6b2ed628-b19e-4bfb-f865-bfa116d78815"
      },
      "outputs": [
        {
          "output_type": "execute_result",
          "data": {
            "text/plain": [
              "id\n",
              "0    unrelated\n",
              "3    unrelated\n",
              "1    unrelated\n",
              "2    unrelated\n",
              "9       agreed\n",
              "Name: label, dtype: object"
            ]
          },
          "metadata": {},
          "execution_count": 35
        }
      ],
      "source": [
        "train.label[:5]"
      ]
    },
    {
      "cell_type": "code",
      "execution_count": 36,
      "metadata": {
        "colab": {
          "base_uri": "https://localhost:8080/"
        },
        "id": "-0yaLaWqF8bK",
        "outputId": "e428476f-10b8-4ea9-e086-68b0c05b7821"
      },
      "outputs": [
        {
          "output_type": "execute_result",
          "data": {
            "text/plain": [
              "array([0., 0., 0., 0., 1.], dtype=float32)"
            ]
          },
          "metadata": {},
          "execution_count": 36
        }
      ],
      "source": [
        "import numpy as np \n",
        "\n",
        "label_to_index = {\n",
        "    'unrelated': 0, \n",
        "    'agreed': 1, \n",
        "    'disagreed': 2\n",
        "}\n",
        "\n",
        "y_train = train.label.apply(\n",
        "    lambda x: label_to_index[x])\n",
        "\n",
        "y_train = np.asarray(y_train) \\\n",
        "            .astype('float32')\n",
        "\n",
        "y_train[:5]"
      ]
    },
    {
      "cell_type": "code",
      "execution_count": 37,
      "metadata": {
        "colab": {
          "base_uri": "https://localhost:8080/"
        },
        "id": "_V4YHlW5F8cN",
        "outputId": "6bc9d772-ca58-4326-d378-29b2522f2f55"
      },
      "outputs": [
        {
          "output_type": "execute_result",
          "data": {
            "text/plain": [
              "array([[   0,    0,   65,   16,   57,   28,   23,  255,  569,  808,   11,\n",
              "          23,   29,    6,   88,  446,   19,    8,  428,  175],\n",
              "       [ 141,  833,   38,  196,   13,   90,  199,    6,  386,   74,   78,\n",
              "          35,  746,  586, 5402, 2834,   13, 5161,  523,  620],\n",
              "       [ 141,  833,   38,  196,   13,   90,  199,    6,  386,   74,   78,\n",
              "          35,  746,  586, 5402, 2834,   13, 5161,  523,  620],\n",
              "       [ 141,  833,   38,  196,   13,   90,  199,    6,  386,   74,   78,\n",
              "          35,  746,  586, 5402, 2834,   13, 5161,  523,  620],\n",
              "       [   0,    0,    0,    0,    0,    0,    0,    0,    0,   33,    2,\n",
              "        4287,  375,   45, 3768,  375,   32, 2529,    3,  406]],\n",
              "      dtype=int32)"
            ]
          },
          "metadata": {},
          "execution_count": 37
        }
      ],
      "source": [
        "x1_train[:5]"
      ]
    },
    {
      "cell_type": "code",
      "execution_count": 38,
      "metadata": {
        "colab": {
          "base_uri": "https://localhost:8080/"
        },
        "id": "i6LslyUGGVQW",
        "outputId": "2b2aed09-66ad-413c-f1ab-ebb49b20e7b4"
      },
      "outputs": [
        {
          "output_type": "execute_result",
          "data": {
            "text/plain": [
              "id\n",
              "0    unrelated\n",
              "3    unrelated\n",
              "1    unrelated\n",
              "2    unrelated\n",
              "9       agreed\n",
              "Name: label, dtype: object"
            ]
          },
          "metadata": {},
          "execution_count": 38
        }
      ],
      "source": [
        "train.label[:5]"
      ]
    },
    {
      "cell_type": "code",
      "execution_count": 39,
      "metadata": {
        "id": "N2zgDipBGtlX"
      },
      "outputs": [],
      "source": [
        "from keras.utils import np_utils"
      ]
    },
    {
      "cell_type": "code",
      "execution_count": 40,
      "metadata": {
        "colab": {
          "base_uri": "https://localhost:8080/"
        },
        "id": "B7L2YoBBGYd_",
        "outputId": "17c666d7-2462-4198-963c-5ff6bcccf092"
      },
      "outputs": [
        {
          "output_type": "execute_result",
          "data": {
            "text/plain": [
              "array([[1., 0., 0.],\n",
              "       [1., 0., 0.],\n",
              "       [1., 0., 0.],\n",
              "       [1., 0., 0.],\n",
              "       [0., 1., 0.]], dtype=float32)"
            ]
          },
          "metadata": {},
          "execution_count": 40
        }
      ],
      "source": [
        "y_train = keras.utils.np_utils.to_categorical(y_train)\n",
        "\n",
        "y_train[:5]"
      ]
    },
    {
      "cell_type": "code",
      "execution_count": 41,
      "metadata": {
        "id": "ypXr40spGxzP",
        "colab": {
          "base_uri": "https://localhost:8080/"
        },
        "outputId": "399da4c2-49e3-43c2-abc0-b6bc9fa8fdb1"
      },
      "outputs": [
        {
          "output_type": "stream",
          "name": "stdout",
          "text": [
            "(288496, 3) (32056, 3)\n",
            "(288496, 20)\n",
            "(32056, 20)\n",
            "(32056, 20)\n",
            "(288496, 20)\n"
          ]
        }
      ],
      "source": [
        "from sklearn.model_selection import train_test_split\n",
        "train_set, test_set,train_set1,test_set1,target_train,target_test = train_test_split(x1_train, x2_train, y_train, test_size=0.1,random_state=42)\n",
        "print(target_train.shape,target_test.shape)\n",
        "print(train_set1.shape)\n",
        "print(test_set1.shape)\n",
        "print(test_set.shape)\n",
        "print(train_set.shape)"
      ]
    },
    {
      "cell_type": "code",
      "execution_count": 42,
      "metadata": {
        "colab": {
          "base_uri": "https://localhost:8080/"
        },
        "id": "74JgOPSeHRSg",
        "outputId": "3b2de2b9-cc9e-4da1-e8a1-af25348f9148"
      },
      "outputs": [
        {
          "output_type": "stream",
          "name": "stdout",
          "text": [
            "(288496, 3) (32056, 3)\n",
            "(288496, 20)\n",
            "(32056, 20)\n",
            "(32056, 20)\n",
            "(288496, 20)\n"
          ]
        }
      ],
      "source": [
        "from sklearn.model_selection import train_test_split\n",
        "train_set, test_set,train_set1,test_set1,target_train,target_test = train_test_split(x1_train, x2_train, y_train, test_size=0.1,random_state=42)\n",
        "print(target_train.shape,target_test.shape)\n",
        "print(train_set1.shape)\n",
        "print(test_set1.shape)\n",
        "print(test_set.shape)\n",
        "print(train_set.shape)"
      ]
    },
    {
      "cell_type": "code",
      "execution_count": 43,
      "metadata": {
        "colab": {
          "base_uri": "https://localhost:8080/"
        },
        "id": "DIhpQ0wlHVA-",
        "outputId": "7c8b4760-c92c-4593-eadc-02b150f4d3d7"
      },
      "outputs": [
        {
          "output_type": "stream",
          "name": "stdout",
          "text": [
            "Model: \"model\"\n",
            "__________________________________________________________________________________________________\n",
            " Layer (type)                   Output Shape         Param #     Connected to                     \n",
            "==================================================================================================\n",
            " input_1 (InputLayer)           [(None, 20)]         0           []                               \n",
            "                                                                                                  \n",
            " input_2 (InputLayer)           [(None, 20)]         0           []                               \n",
            "                                                                                                  \n",
            " embedding (Embedding)          (None, 20, 256)      2560000     ['input_1[0][0]',                \n",
            "                                                                  'input_2[0][0]']                \n",
            "                                                                                                  \n",
            " lstm (LSTM)                    (None, 128)          197120      ['embedding[0][0]',              \n",
            "                                                                  'embedding[1][0]']              \n",
            "                                                                                                  \n",
            " concatenate (Concatenate)      (None, 256)          0           ['lstm[0][0]',                   \n",
            "                                                                  'lstm[1][0]']                   \n",
            "                                                                                                  \n",
            " dense (Dense)                  (None, 3)            771         ['concatenate[0][0]']            \n",
            "                                                                                                  \n",
            "==================================================================================================\n",
            "Total params: 2,757,891\n",
            "Trainable params: 2,757,891\n",
            "Non-trainable params: 0\n",
            "__________________________________________________________________________________________________\n"
          ]
        }
      ],
      "source": [
        "\n",
        "from keras import Input\n",
        "from keras.layers import Embedding,LSTM, concatenate, Dense\n",
        "from keras.models import Model\n",
        "\n",
        "tp = Input(shape=(20, ))\n",
        "bp = Input(shape=(20, ))\n",
        "\n",
        "e__m = Embedding(10000, 256)\n",
        "t_e = e__m(tp)\n",
        "b_e= e__m(bp)\n",
        "\n",
        "ls = LSTM(128)\n",
        "t_o= ls(t_e)\n",
        "b_o = ls(b_e)\n",
        "\n",
        "mer = concatenate([t_o, b_o], axis=-1)\n",
        "\n",
        "d =  Dense(units=3, activation='softmax')\n",
        "out = d(mer)\n",
        "\n",
        "model = Model(inputs=[tp, bp], outputs=out)\n",
        "\n",
        "model.summary()"
      ]
    },
    {
      "cell_type": "code",
      "source": [
        "from tensorflow.python.keras.layers import Input, Dense, Dropout,Conv1D,MaxPooling1D,Activation,Flatten,AveragePooling1D,GlobalMaxPooling1D,ZeroPadding1D"
      ],
      "metadata": {
        "id": "my-DiMYwng1Q"
      },
      "execution_count": 47,
      "outputs": []
    },
    {
      "cell_type": "code",
      "source": [
        "import tensorflow as tf\n",
        "tf.keras.backend.set_floatx('float32')\n",
        "input_A = keras.layers.Input(shape=[104,1])\n",
        "y=Conv1D(64, (3),data_format='channels_last',activation='relu',padding='valid')(input_A)\n",
        "y=Conv1D(64, (3),data_format='channels_last',activation='relu',padding='valid')(y)\n",
        "y=MaxPooling1D((2),data_format='channels_last')(y)\n",
        "\n",
        "y=Conv1D(128, (3),data_format='channels_last',activation='relu',padding='same')(y)\n",
        "y=Conv1D(128, (3),data_format='channels_last',activation='relu',padding='same')(y)\n",
        "y=MaxPooling1D((2),data_format='channels_last')(y)\n",
        "\n",
        "y=Conv1D(256, (3),data_format='channels_last',activation='relu',padding='same')(y)\n",
        "y=Conv1D(256, (3),data_format='channels_last',activation='relu',padding='same')(y)\n",
        "y=MaxPooling1D((2),data_format='channels_last')(y)\n",
        "\n",
        "y=Conv1D(512, (3),data_format='channels_last',activation='relu',padding='same')(y)\n",
        "y=Conv1D(512, (3),data_format='channels_last',activation='relu',padding='same')(y)\n",
        "y=Conv1D(512, (3),data_format='channels_last',activation='relu',padding='same')(y)\n",
        "y=MaxPooling1D((2),data_format='channels_last')(y)\n",
        "\n",
        "y=Conv1D(512, (3),data_format='channels_last',activation='relu',padding='same')(y)\n",
        "y=Conv1D(512, (3),data_format='channels_last',activation='relu',padding='same')(y)\n",
        "y=Conv1D(512, (3),data_format='channels_last',activation='relu',padding='same')(y)\n",
        "y=MaxPooling1D((2),data_format='channels_last')(y)\n",
        "y=Dense(4096,activation='relu')(y)\n",
        "y =Dropout(0.5)(y) \n",
        "y=Dense(4096,activation='relu')(y)\n",
        "y =Dropout(0.5)(y)\n",
        "y=Dense(1000,activation='relu')(y)\n",
        "y =Dropout(0.5)(y) \n",
        "out=Dense(3,activation='softmax')(y)\n",
        "vgg16= keras.models.Model(inputs=[input_A], outputs=[out])"
      ],
      "metadata": {
        "colab": {
          "base_uri": "https://localhost:8080/"
        },
        "id": "jS2kWUMXnuQu",
        "outputId": "6dd0ac55-eecc-4159-c3c3-d237910044b7"
      },
      "execution_count": 50,
      "outputs": [
        {
          "output_type": "stream",
          "name": "stdout",
          "text": [
            "WARNING:tensorflow:The following Variables were used in a Lambda layer's call (tf.compat.v1.nn.conv1d_24), but are not present in its tracked objects:   <tf.Variable 'conv1d_24/kernel:0' shape=(3, 1, 64) dtype=float32>. This is a strong indication that the Lambda layer should be rewritten as a subclassed Layer.\n",
            "WARNING:tensorflow:The following Variables were used in a Lambda layer's call (tf.nn.bias_add_24), but are not present in its tracked objects:   <tf.Variable 'conv1d_24/bias:0' shape=(64,) dtype=float32>. This is a strong indication that the Lambda layer should be rewritten as a subclassed Layer.\n",
            "WARNING:tensorflow:The following Variables were used in a Lambda layer's call (tf.compat.v1.nn.conv1d_25), but are not present in its tracked objects:   <tf.Variable 'conv1d_25/kernel:0' shape=(3, 64, 64) dtype=float32>. This is a strong indication that the Lambda layer should be rewritten as a subclassed Layer.\n",
            "WARNING:tensorflow:The following Variables were used in a Lambda layer's call (tf.nn.bias_add_25), but are not present in its tracked objects:   <tf.Variable 'conv1d_25/bias:0' shape=(64,) dtype=float32>. This is a strong indication that the Lambda layer should be rewritten as a subclassed Layer.\n",
            "WARNING:tensorflow:The following Variables were used in a Lambda layer's call (tf.compat.v1.nn.conv1d_26), but are not present in its tracked objects:   <tf.Variable 'conv1d_26/kernel:0' shape=(3, 64, 128) dtype=float32>. This is a strong indication that the Lambda layer should be rewritten as a subclassed Layer.\n",
            "WARNING:tensorflow:The following Variables were used in a Lambda layer's call (tf.nn.bias_add_26), but are not present in its tracked objects:   <tf.Variable 'conv1d_26/bias:0' shape=(128,) dtype=float32>. This is a strong indication that the Lambda layer should be rewritten as a subclassed Layer.\n",
            "WARNING:tensorflow:The following Variables were used in a Lambda layer's call (tf.compat.v1.nn.conv1d_27), but are not present in its tracked objects:   <tf.Variable 'conv1d_27/kernel:0' shape=(3, 128, 128) dtype=float32>. This is a strong indication that the Lambda layer should be rewritten as a subclassed Layer.\n",
            "WARNING:tensorflow:The following Variables were used in a Lambda layer's call (tf.nn.bias_add_27), but are not present in its tracked objects:   <tf.Variable 'conv1d_27/bias:0' shape=(128,) dtype=float32>. This is a strong indication that the Lambda layer should be rewritten as a subclassed Layer.\n",
            "WARNING:tensorflow:The following Variables were used in a Lambda layer's call (tf.compat.v1.nn.conv1d_28), but are not present in its tracked objects:   <tf.Variable 'conv1d_28/kernel:0' shape=(3, 128, 256) dtype=float32>. This is a strong indication that the Lambda layer should be rewritten as a subclassed Layer.\n",
            "WARNING:tensorflow:The following Variables were used in a Lambda layer's call (tf.nn.bias_add_28), but are not present in its tracked objects:   <tf.Variable 'conv1d_28/bias:0' shape=(256,) dtype=float32>. This is a strong indication that the Lambda layer should be rewritten as a subclassed Layer.\n",
            "WARNING:tensorflow:The following Variables were used in a Lambda layer's call (tf.compat.v1.nn.conv1d_29), but are not present in its tracked objects:   <tf.Variable 'conv1d_29/kernel:0' shape=(3, 256, 256) dtype=float32>. This is a strong indication that the Lambda layer should be rewritten as a subclassed Layer.\n",
            "WARNING:tensorflow:The following Variables were used in a Lambda layer's call (tf.nn.bias_add_29), but are not present in its tracked objects:   <tf.Variable 'conv1d_29/bias:0' shape=(256,) dtype=float32>. This is a strong indication that the Lambda layer should be rewritten as a subclassed Layer.\n",
            "WARNING:tensorflow:The following Variables were used in a Lambda layer's call (tf.compat.v1.nn.conv1d_30), but are not present in its tracked objects:   <tf.Variable 'conv1d_30/kernel:0' shape=(3, 256, 512) dtype=float32>. This is a strong indication that the Lambda layer should be rewritten as a subclassed Layer.\n",
            "WARNING:tensorflow:The following Variables were used in a Lambda layer's call (tf.nn.bias_add_30), but are not present in its tracked objects:   <tf.Variable 'conv1d_30/bias:0' shape=(512,) dtype=float32>. This is a strong indication that the Lambda layer should be rewritten as a subclassed Layer.\n",
            "WARNING:tensorflow:The following Variables were used in a Lambda layer's call (tf.compat.v1.nn.conv1d_31), but are not present in its tracked objects:   <tf.Variable 'conv1d_31/kernel:0' shape=(3, 512, 512) dtype=float32>. This is a strong indication that the Lambda layer should be rewritten as a subclassed Layer.\n",
            "WARNING:tensorflow:The following Variables were used in a Lambda layer's call (tf.nn.bias_add_31), but are not present in its tracked objects:   <tf.Variable 'conv1d_31/bias:0' shape=(512,) dtype=float32>. This is a strong indication that the Lambda layer should be rewritten as a subclassed Layer.\n",
            "WARNING:tensorflow:The following Variables were used in a Lambda layer's call (tf.compat.v1.nn.conv1d_32), but are not present in its tracked objects:   <tf.Variable 'conv1d_32/kernel:0' shape=(3, 512, 512) dtype=float32>. This is a strong indication that the Lambda layer should be rewritten as a subclassed Layer.\n",
            "WARNING:tensorflow:The following Variables were used in a Lambda layer's call (tf.nn.bias_add_32), but are not present in its tracked objects:   <tf.Variable 'conv1d_32/bias:0' shape=(512,) dtype=float32>. This is a strong indication that the Lambda layer should be rewritten as a subclassed Layer.\n",
            "WARNING:tensorflow:The following Variables were used in a Lambda layer's call (tf.compat.v1.nn.conv1d_33), but are not present in its tracked objects:   <tf.Variable 'conv1d_33/kernel:0' shape=(3, 512, 512) dtype=float32>. This is a strong indication that the Lambda layer should be rewritten as a subclassed Layer.\n",
            "WARNING:tensorflow:The following Variables were used in a Lambda layer's call (tf.nn.bias_add_33), but are not present in its tracked objects:   <tf.Variable 'conv1d_33/bias:0' shape=(512,) dtype=float32>. This is a strong indication that the Lambda layer should be rewritten as a subclassed Layer.\n",
            "WARNING:tensorflow:The following Variables were used in a Lambda layer's call (tf.compat.v1.nn.conv1d_34), but are not present in its tracked objects:   <tf.Variable 'conv1d_34/kernel:0' shape=(3, 512, 512) dtype=float32>. This is a strong indication that the Lambda layer should be rewritten as a subclassed Layer.\n",
            "WARNING:tensorflow:The following Variables were used in a Lambda layer's call (tf.nn.bias_add_34), but are not present in its tracked objects:   <tf.Variable 'conv1d_34/bias:0' shape=(512,) dtype=float32>. This is a strong indication that the Lambda layer should be rewritten as a subclassed Layer.\n",
            "WARNING:tensorflow:The following Variables were used in a Lambda layer's call (tf.compat.v1.nn.conv1d_35), but are not present in its tracked objects:   <tf.Variable 'conv1d_35/kernel:0' shape=(3, 512, 512) dtype=float32>. This is a strong indication that the Lambda layer should be rewritten as a subclassed Layer.\n",
            "WARNING:tensorflow:The following Variables were used in a Lambda layer's call (tf.nn.bias_add_35), but are not present in its tracked objects:   <tf.Variable 'conv1d_35/bias:0' shape=(512,) dtype=float32>. This is a strong indication that the Lambda layer should be rewritten as a subclassed Layer.\n",
            "WARNING:tensorflow:The following Variables were used in a Lambda layer's call (tf.tensordot), but are not present in its tracked objects:   <tf.Variable 'dense/kernel:0' shape=(512, 4096) dtype=float32>. This is a strong indication that the Lambda layer should be rewritten as a subclassed Layer.\n",
            "WARNING:tensorflow:The following Variables were used in a Lambda layer's call (tf.nn.bias_add_36), but are not present in its tracked objects:   <tf.Variable 'dense/bias:0' shape=(4096,) dtype=float32>. This is a strong indication that the Lambda layer should be rewritten as a subclassed Layer.\n",
            "WARNING:tensorflow:The following Variables were used in a Lambda layer's call (tf.tensordot_1), but are not present in its tracked objects:   <tf.Variable 'dense_1/kernel:0' shape=(4096, 4096) dtype=float32>. This is a strong indication that the Lambda layer should be rewritten as a subclassed Layer.\n",
            "WARNING:tensorflow:The following Variables were used in a Lambda layer's call (tf.nn.bias_add_37), but are not present in its tracked objects:   <tf.Variable 'dense_1/bias:0' shape=(4096,) dtype=float32>. This is a strong indication that the Lambda layer should be rewritten as a subclassed Layer.\n",
            "WARNING:tensorflow:The following Variables were used in a Lambda layer's call (tf.tensordot_2), but are not present in its tracked objects:   <tf.Variable 'dense_2/kernel:0' shape=(4096, 1000) dtype=float32>. This is a strong indication that the Lambda layer should be rewritten as a subclassed Layer.\n",
            "WARNING:tensorflow:The following Variables were used in a Lambda layer's call (tf.nn.bias_add_38), but are not present in its tracked objects:   <tf.Variable 'dense_2/bias:0' shape=(1000,) dtype=float32>. This is a strong indication that the Lambda layer should be rewritten as a subclassed Layer.\n",
            "WARNING:tensorflow:The following Variables were used in a Lambda layer's call (tf.tensordot_3), but are not present in its tracked objects:   <tf.Variable 'dense_3/kernel:0' shape=(1000, 3) dtype=float32>. This is a strong indication that the Lambda layer should be rewritten as a subclassed Layer.\n",
            "WARNING:tensorflow:The following Variables were used in a Lambda layer's call (tf.nn.bias_add_39), but are not present in its tracked objects:   <tf.Variable 'dense_3/bias:0' shape=(3,) dtype=float32>. This is a strong indication that the Lambda layer should be rewritten as a subclassed Layer.\n"
          ]
        }
      ]
    },
    {
      "cell_type": "code",
      "source": [
        "input_A = keras.layers.Input(shape=[44,1])\n",
        "y = Conv1D(64, (7),data_format='channels_last',activation='relu',padding='same',strides=2)(input_A)\n",
        "y1 = MaxPooling1D((2),data_format='channels_last',padding='same')(y)\n",
        "y2 = Conv1D(64, (3),data_format='channels_last',activation='relu',padding='same')(y1)\n",
        "y2 = Conv1D(64, (3),data_format='channels_last',activation='relu',padding='same')(y2)\n",
        "y3 = y2+y1\n",
        "y4 = Conv1D(64, (3),data_format='channels_last',activation='relu',padding='same')(y3)\n",
        "y4 = Conv1D(64, (3),data_format='channels_last',activation='relu',padding='same')(y4)\n",
        "y5 = y3+y4\n",
        "y6 = Conv1D(64, (3),data_format='channels_last',activation='relu',padding='same')(y5)\n",
        "y6 = Conv1D(64, (3),data_format='channels_last',activation='relu',padding='same')(y6)\n",
        "y7 = y6+y5\n",
        "#128\n",
        "y8 = Conv1D(128, (3),data_format='channels_last',activation='relu',padding='same',strides=2)(y7)\n",
        "y8 = Conv1D(128, (3),data_format='channels_last',activation='relu',padding='same')(y8)\n",
        "y9 = Conv1D(128, (3),data_format='channels_last',activation='relu',padding='same')(y8)\n",
        "y9 = Conv1D(128, (3),data_format='channels_last',activation='relu',padding='same')(y9)\n",
        "y10 = y8+y9\n",
        "y11 = Conv1D(128, (3),data_format='channels_last',activation='relu',padding='same')(y10)\n",
        "y11 = Conv1D(128, (3),data_format='channels_last',activation='relu',padding='same')(y11)\n",
        "y12 = y10+y11\n",
        "y13 = Conv1D(128, (3),data_format='channels_last',activation='relu',padding='same')(y12)\n",
        "y13 = Conv1D(128, (3),data_format='channels_last',activation='relu',padding='same')(y13)\n",
        "y14 = y13+y12\n",
        "#256\n",
        "y15 = Conv1D(256, (3),data_format='channels_last',activation='relu',padding='same',strides=2)(y14)\n",
        "y15 = Conv1D(256, (3),data_format='channels_last',activation='relu',padding='same')(y15)\n",
        "y16 = Conv1D(256, (3),data_format='channels_last',activation='relu',padding='same')(y15)\n",
        "y16 = Conv1D(256, (3),data_format='channels_last',activation='relu',padding='same')(y16)\n",
        "y17 = y16+y15\n",
        "y18 = Conv1D(256, (3),data_format='channels_last',activation='relu',padding='same')(y17)\n",
        "y18 = Conv1D(256, (3),data_format='channels_last',activation='relu',padding='same')(y18)\n",
        "y19 = y17+y18\n",
        "y20 = Conv1D(256, (3),data_format='channels_last',activation='relu',padding='same')(y19)\n",
        "y20 = Conv1D(256, (3),data_format='channels_last',activation='relu',padding='same')(y20)\n",
        "y21 = y19+y20\n",
        "y22 = Conv1D(256, (3),data_format='channels_last',activation='relu',padding='same')(y21)\n",
        "y22 = Conv1D(256, (3),data_format='channels_last',activation='relu',padding='same')(y22)\n",
        "y23 = y21+y22\n",
        "y24 = Conv1D(256, (3),data_format='channels_last',activation='relu',padding='same')(y23)\n",
        "y24 = Conv1D(256, (3),data_format='channels_last',activation='relu',padding='same')(y24)\n",
        "y25 = y23+y24\n",
        "y26 = Conv1D(256, (3),data_format='channels_last',activation='relu',padding='same')(y25)\n",
        "y26 = Conv1D(256, (3),data_format='channels_last',activation='relu',padding='same')(y26)\n",
        "y27 = y25+y26\n",
        "#512\n",
        "y28 = Conv1D(512, (3),data_format='channels_last',activation='relu',padding='same',strides=2)(y27)\n",
        "y28 = Conv1D(512, (3),data_format='channels_last',activation='relu',padding='same')(y28)\n",
        "y29 = Conv1D(512, (3),data_format='channels_last',activation='relu',padding='same')(y28)\n",
        "y29 = Conv1D(512, (3),data_format='channels_last',activation='relu',padding='same')(y29)\n",
        "y30 = y29 +y28\n",
        "y31 = Conv1D(512, (3),data_format='channels_last',activation='relu',padding='same')(y30)\n",
        "y31 = Conv1D(512, (3),data_format='channels_last',activation='relu',padding='same')(y31)\n",
        "y32 = y30+y31  \n",
        "#avrage_pooling\n",
        "y33 =  AveragePooling1D((2),data_format='channels_last',padding='same')(y32)\n",
        "out=Dense(3,activation='softmax')(y33)\n",
        "Resnet50= keras.models.Model(inputs=[input_A], outputs=[out])\n"
      ],
      "metadata": {
        "colab": {
          "base_uri": "https://localhost:8080/"
        },
        "id": "Pssx56eenXAe",
        "outputId": "984430d6-4c85-4ecd-c323-7d0c2d492fdb"
      },
      "execution_count": 53,
      "outputs": [
        {
          "output_type": "stream",
          "name": "stdout",
          "text": [
            "WARNING:tensorflow:The following Variables were used in a Lambda layer's call (tf.compat.v1.nn.conv1d_106), but are not present in its tracked objects:   <tf.Variable 'conv1d_106/kernel:0' shape=(7, 1, 64) dtype=float32>. This is a strong indication that the Lambda layer should be rewritten as a subclassed Layer.\n",
            "WARNING:tensorflow:The following Variables were used in a Lambda layer's call (tf.nn.bias_add_110), but are not present in its tracked objects:   <tf.Variable 'conv1d_106/bias:0' shape=(64,) dtype=float32>. This is a strong indication that the Lambda layer should be rewritten as a subclassed Layer.\n",
            "WARNING:tensorflow:The following Variables were used in a Lambda layer's call (tf.compat.v1.nn.conv1d_107), but are not present in its tracked objects:   <tf.Variable 'conv1d_107/kernel:0' shape=(3, 64, 64) dtype=float32>. This is a strong indication that the Lambda layer should be rewritten as a subclassed Layer.\n",
            "WARNING:tensorflow:The following Variables were used in a Lambda layer's call (tf.nn.bias_add_111), but are not present in its tracked objects:   <tf.Variable 'conv1d_107/bias:0' shape=(64,) dtype=float32>. This is a strong indication that the Lambda layer should be rewritten as a subclassed Layer.\n",
            "WARNING:tensorflow:The following Variables were used in a Lambda layer's call (tf.compat.v1.nn.conv1d_108), but are not present in its tracked objects:   <tf.Variable 'conv1d_108/kernel:0' shape=(3, 64, 64) dtype=float32>. This is a strong indication that the Lambda layer should be rewritten as a subclassed Layer.\n",
            "WARNING:tensorflow:The following Variables were used in a Lambda layer's call (tf.nn.bias_add_112), but are not present in its tracked objects:   <tf.Variable 'conv1d_108/bias:0' shape=(64,) dtype=float32>. This is a strong indication that the Lambda layer should be rewritten as a subclassed Layer.\n",
            "WARNING:tensorflow:The following Variables were used in a Lambda layer's call (tf.compat.v1.nn.conv1d_109), but are not present in its tracked objects:   <tf.Variable 'conv1d_109/kernel:0' shape=(3, 64, 64) dtype=float32>. This is a strong indication that the Lambda layer should be rewritten as a subclassed Layer.\n",
            "WARNING:tensorflow:The following Variables were used in a Lambda layer's call (tf.nn.bias_add_113), but are not present in its tracked objects:   <tf.Variable 'conv1d_109/bias:0' shape=(64,) dtype=float32>. This is a strong indication that the Lambda layer should be rewritten as a subclassed Layer.\n",
            "WARNING:tensorflow:The following Variables were used in a Lambda layer's call (tf.compat.v1.nn.conv1d_110), but are not present in its tracked objects:   <tf.Variable 'conv1d_110/kernel:0' shape=(3, 64, 64) dtype=float32>. This is a strong indication that the Lambda layer should be rewritten as a subclassed Layer.\n",
            "WARNING:tensorflow:The following Variables were used in a Lambda layer's call (tf.nn.bias_add_114), but are not present in its tracked objects:   <tf.Variable 'conv1d_110/bias:0' shape=(64,) dtype=float32>. This is a strong indication that the Lambda layer should be rewritten as a subclassed Layer.\n",
            "WARNING:tensorflow:The following Variables were used in a Lambda layer's call (tf.compat.v1.nn.conv1d_111), but are not present in its tracked objects:   <tf.Variable 'conv1d_111/kernel:0' shape=(3, 64, 64) dtype=float32>. This is a strong indication that the Lambda layer should be rewritten as a subclassed Layer.\n",
            "WARNING:tensorflow:The following Variables were used in a Lambda layer's call (tf.nn.bias_add_115), but are not present in its tracked objects:   <tf.Variable 'conv1d_111/bias:0' shape=(64,) dtype=float32>. This is a strong indication that the Lambda layer should be rewritten as a subclassed Layer.\n",
            "WARNING:tensorflow:The following Variables were used in a Lambda layer's call (tf.compat.v1.nn.conv1d_112), but are not present in its tracked objects:   <tf.Variable 'conv1d_112/kernel:0' shape=(3, 64, 64) dtype=float32>. This is a strong indication that the Lambda layer should be rewritten as a subclassed Layer.\n",
            "WARNING:tensorflow:The following Variables were used in a Lambda layer's call (tf.nn.bias_add_116), but are not present in its tracked objects:   <tf.Variable 'conv1d_112/bias:0' shape=(64,) dtype=float32>. This is a strong indication that the Lambda layer should be rewritten as a subclassed Layer.\n",
            "WARNING:tensorflow:The following Variables were used in a Lambda layer's call (tf.compat.v1.nn.conv1d_113), but are not present in its tracked objects:   <tf.Variable 'conv1d_113/kernel:0' shape=(3, 64, 128) dtype=float32>. This is a strong indication that the Lambda layer should be rewritten as a subclassed Layer.\n",
            "WARNING:tensorflow:The following Variables were used in a Lambda layer's call (tf.nn.bias_add_117), but are not present in its tracked objects:   <tf.Variable 'conv1d_113/bias:0' shape=(128,) dtype=float32>. This is a strong indication that the Lambda layer should be rewritten as a subclassed Layer.\n",
            "WARNING:tensorflow:The following Variables were used in a Lambda layer's call (tf.compat.v1.nn.conv1d_114), but are not present in its tracked objects:   <tf.Variable 'conv1d_114/kernel:0' shape=(3, 128, 128) dtype=float32>. This is a strong indication that the Lambda layer should be rewritten as a subclassed Layer.\n",
            "WARNING:tensorflow:The following Variables were used in a Lambda layer's call (tf.nn.bias_add_118), but are not present in its tracked objects:   <tf.Variable 'conv1d_114/bias:0' shape=(128,) dtype=float32>. This is a strong indication that the Lambda layer should be rewritten as a subclassed Layer.\n",
            "WARNING:tensorflow:The following Variables were used in a Lambda layer's call (tf.compat.v1.nn.conv1d_115), but are not present in its tracked objects:   <tf.Variable 'conv1d_115/kernel:0' shape=(3, 128, 128) dtype=float32>. This is a strong indication that the Lambda layer should be rewritten as a subclassed Layer.\n",
            "WARNING:tensorflow:The following Variables were used in a Lambda layer's call (tf.nn.bias_add_119), but are not present in its tracked objects:   <tf.Variable 'conv1d_115/bias:0' shape=(128,) dtype=float32>. This is a strong indication that the Lambda layer should be rewritten as a subclassed Layer.\n",
            "WARNING:tensorflow:The following Variables were used in a Lambda layer's call (tf.compat.v1.nn.conv1d_116), but are not present in its tracked objects:   <tf.Variable 'conv1d_116/kernel:0' shape=(3, 128, 128) dtype=float32>. This is a strong indication that the Lambda layer should be rewritten as a subclassed Layer.\n",
            "WARNING:tensorflow:The following Variables were used in a Lambda layer's call (tf.nn.bias_add_120), but are not present in its tracked objects:   <tf.Variable 'conv1d_116/bias:0' shape=(128,) dtype=float32>. This is a strong indication that the Lambda layer should be rewritten as a subclassed Layer.\n",
            "WARNING:tensorflow:The following Variables were used in a Lambda layer's call (tf.compat.v1.nn.conv1d_117), but are not present in its tracked objects:   <tf.Variable 'conv1d_117/kernel:0' shape=(3, 128, 128) dtype=float32>. This is a strong indication that the Lambda layer should be rewritten as a subclassed Layer.\n",
            "WARNING:tensorflow:The following Variables were used in a Lambda layer's call (tf.nn.bias_add_121), but are not present in its tracked objects:   <tf.Variable 'conv1d_117/bias:0' shape=(128,) dtype=float32>. This is a strong indication that the Lambda layer should be rewritten as a subclassed Layer.\n",
            "WARNING:tensorflow:The following Variables were used in a Lambda layer's call (tf.compat.v1.nn.conv1d_118), but are not present in its tracked objects:   <tf.Variable 'conv1d_118/kernel:0' shape=(3, 128, 128) dtype=float32>. This is a strong indication that the Lambda layer should be rewritten as a subclassed Layer.\n",
            "WARNING:tensorflow:The following Variables were used in a Lambda layer's call (tf.nn.bias_add_122), but are not present in its tracked objects:   <tf.Variable 'conv1d_118/bias:0' shape=(128,) dtype=float32>. This is a strong indication that the Lambda layer should be rewritten as a subclassed Layer.\n",
            "WARNING:tensorflow:The following Variables were used in a Lambda layer's call (tf.compat.v1.nn.conv1d_119), but are not present in its tracked objects:   <tf.Variable 'conv1d_119/kernel:0' shape=(3, 128, 128) dtype=float32>. This is a strong indication that the Lambda layer should be rewritten as a subclassed Layer.\n",
            "WARNING:tensorflow:The following Variables were used in a Lambda layer's call (tf.nn.bias_add_123), but are not present in its tracked objects:   <tf.Variable 'conv1d_119/bias:0' shape=(128,) dtype=float32>. This is a strong indication that the Lambda layer should be rewritten as a subclassed Layer.\n",
            "WARNING:tensorflow:The following Variables were used in a Lambda layer's call (tf.compat.v1.nn.conv1d_120), but are not present in its tracked objects:   <tf.Variable 'conv1d_120/kernel:0' shape=(3, 128, 128) dtype=float32>. This is a strong indication that the Lambda layer should be rewritten as a subclassed Layer.\n",
            "WARNING:tensorflow:The following Variables were used in a Lambda layer's call (tf.nn.bias_add_124), but are not present in its tracked objects:   <tf.Variable 'conv1d_120/bias:0' shape=(128,) dtype=float32>. This is a strong indication that the Lambda layer should be rewritten as a subclassed Layer.\n",
            "WARNING:tensorflow:The following Variables were used in a Lambda layer's call (tf.compat.v1.nn.conv1d_121), but are not present in its tracked objects:   <tf.Variable 'conv1d_121/kernel:0' shape=(3, 128, 256) dtype=float32>. This is a strong indication that the Lambda layer should be rewritten as a subclassed Layer.\n",
            "WARNING:tensorflow:The following Variables were used in a Lambda layer's call (tf.nn.bias_add_125), but are not present in its tracked objects:   <tf.Variable 'conv1d_121/bias:0' shape=(256,) dtype=float32>. This is a strong indication that the Lambda layer should be rewritten as a subclassed Layer.\n",
            "WARNING:tensorflow:The following Variables were used in a Lambda layer's call (tf.compat.v1.nn.conv1d_122), but are not present in its tracked objects:   <tf.Variable 'conv1d_122/kernel:0' shape=(3, 256, 256) dtype=float32>. This is a strong indication that the Lambda layer should be rewritten as a subclassed Layer.\n",
            "WARNING:tensorflow:The following Variables were used in a Lambda layer's call (tf.nn.bias_add_126), but are not present in its tracked objects:   <tf.Variable 'conv1d_122/bias:0' shape=(256,) dtype=float32>. This is a strong indication that the Lambda layer should be rewritten as a subclassed Layer.\n",
            "WARNING:tensorflow:The following Variables were used in a Lambda layer's call (tf.compat.v1.nn.conv1d_123), but are not present in its tracked objects:   <tf.Variable 'conv1d_123/kernel:0' shape=(3, 256, 256) dtype=float32>. This is a strong indication that the Lambda layer should be rewritten as a subclassed Layer.\n",
            "WARNING:tensorflow:The following Variables were used in a Lambda layer's call (tf.nn.bias_add_127), but are not present in its tracked objects:   <tf.Variable 'conv1d_123/bias:0' shape=(256,) dtype=float32>. This is a strong indication that the Lambda layer should be rewritten as a subclassed Layer.\n",
            "WARNING:tensorflow:The following Variables were used in a Lambda layer's call (tf.compat.v1.nn.conv1d_124), but are not present in its tracked objects:   <tf.Variable 'conv1d_124/kernel:0' shape=(3, 256, 256) dtype=float32>. This is a strong indication that the Lambda layer should be rewritten as a subclassed Layer.\n",
            "WARNING:tensorflow:The following Variables were used in a Lambda layer's call (tf.nn.bias_add_128), but are not present in its tracked objects:   <tf.Variable 'conv1d_124/bias:0' shape=(256,) dtype=float32>. This is a strong indication that the Lambda layer should be rewritten as a subclassed Layer.\n",
            "WARNING:tensorflow:The following Variables were used in a Lambda layer's call (tf.compat.v1.nn.conv1d_125), but are not present in its tracked objects:   <tf.Variable 'conv1d_125/kernel:0' shape=(3, 256, 256) dtype=float32>. This is a strong indication that the Lambda layer should be rewritten as a subclassed Layer.\n",
            "WARNING:tensorflow:The following Variables were used in a Lambda layer's call (tf.nn.bias_add_129), but are not present in its tracked objects:   <tf.Variable 'conv1d_125/bias:0' shape=(256,) dtype=float32>. This is a strong indication that the Lambda layer should be rewritten as a subclassed Layer.\n",
            "WARNING:tensorflow:The following Variables were used in a Lambda layer's call (tf.compat.v1.nn.conv1d_126), but are not present in its tracked objects:   <tf.Variable 'conv1d_126/kernel:0' shape=(3, 256, 256) dtype=float32>. This is a strong indication that the Lambda layer should be rewritten as a subclassed Layer.\n",
            "WARNING:tensorflow:The following Variables were used in a Lambda layer's call (tf.nn.bias_add_130), but are not present in its tracked objects:   <tf.Variable 'conv1d_126/bias:0' shape=(256,) dtype=float32>. This is a strong indication that the Lambda layer should be rewritten as a subclassed Layer.\n",
            "WARNING:tensorflow:The following Variables were used in a Lambda layer's call (tf.compat.v1.nn.conv1d_127), but are not present in its tracked objects:   <tf.Variable 'conv1d_127/kernel:0' shape=(3, 256, 256) dtype=float32>. This is a strong indication that the Lambda layer should be rewritten as a subclassed Layer.\n",
            "WARNING:tensorflow:The following Variables were used in a Lambda layer's call (tf.nn.bias_add_131), but are not present in its tracked objects:   <tf.Variable 'conv1d_127/bias:0' shape=(256,) dtype=float32>. This is a strong indication that the Lambda layer should be rewritten as a subclassed Layer.\n",
            "WARNING:tensorflow:The following Variables were used in a Lambda layer's call (tf.compat.v1.nn.conv1d_128), but are not present in its tracked objects:   <tf.Variable 'conv1d_128/kernel:0' shape=(3, 256, 256) dtype=float32>. This is a strong indication that the Lambda layer should be rewritten as a subclassed Layer.\n",
            "WARNING:tensorflow:The following Variables were used in a Lambda layer's call (tf.nn.bias_add_132), but are not present in its tracked objects:   <tf.Variable 'conv1d_128/bias:0' shape=(256,) dtype=float32>. This is a strong indication that the Lambda layer should be rewritten as a subclassed Layer.\n",
            "WARNING:tensorflow:The following Variables were used in a Lambda layer's call (tf.compat.v1.nn.conv1d_129), but are not present in its tracked objects:   <tf.Variable 'conv1d_129/kernel:0' shape=(3, 256, 256) dtype=float32>. This is a strong indication that the Lambda layer should be rewritten as a subclassed Layer.\n",
            "WARNING:tensorflow:The following Variables were used in a Lambda layer's call (tf.nn.bias_add_133), but are not present in its tracked objects:   <tf.Variable 'conv1d_129/bias:0' shape=(256,) dtype=float32>. This is a strong indication that the Lambda layer should be rewritten as a subclassed Layer.\n",
            "WARNING:tensorflow:The following Variables were used in a Lambda layer's call (tf.compat.v1.nn.conv1d_130), but are not present in its tracked objects:   <tf.Variable 'conv1d_130/kernel:0' shape=(3, 256, 256) dtype=float32>. This is a strong indication that the Lambda layer should be rewritten as a subclassed Layer.\n",
            "WARNING:tensorflow:The following Variables were used in a Lambda layer's call (tf.nn.bias_add_134), but are not present in its tracked objects:   <tf.Variable 'conv1d_130/bias:0' shape=(256,) dtype=float32>. This is a strong indication that the Lambda layer should be rewritten as a subclassed Layer.\n",
            "WARNING:tensorflow:The following Variables were used in a Lambda layer's call (tf.compat.v1.nn.conv1d_131), but are not present in its tracked objects:   <tf.Variable 'conv1d_131/kernel:0' shape=(3, 256, 256) dtype=float32>. This is a strong indication that the Lambda layer should be rewritten as a subclassed Layer.\n",
            "WARNING:tensorflow:The following Variables were used in a Lambda layer's call (tf.nn.bias_add_135), but are not present in its tracked objects:   <tf.Variable 'conv1d_131/bias:0' shape=(256,) dtype=float32>. This is a strong indication that the Lambda layer should be rewritten as a subclassed Layer.\n",
            "WARNING:tensorflow:The following Variables were used in a Lambda layer's call (tf.compat.v1.nn.conv1d_132), but are not present in its tracked objects:   <tf.Variable 'conv1d_132/kernel:0' shape=(3, 256, 256) dtype=float32>. This is a strong indication that the Lambda layer should be rewritten as a subclassed Layer.\n",
            "WARNING:tensorflow:The following Variables were used in a Lambda layer's call (tf.nn.bias_add_136), but are not present in its tracked objects:   <tf.Variable 'conv1d_132/bias:0' shape=(256,) dtype=float32>. This is a strong indication that the Lambda layer should be rewritten as a subclassed Layer.\n",
            "WARNING:tensorflow:The following Variables were used in a Lambda layer's call (tf.compat.v1.nn.conv1d_133), but are not present in its tracked objects:   <tf.Variable 'conv1d_133/kernel:0' shape=(3, 256, 256) dtype=float32>. This is a strong indication that the Lambda layer should be rewritten as a subclassed Layer.\n",
            "WARNING:tensorflow:The following Variables were used in a Lambda layer's call (tf.nn.bias_add_137), but are not present in its tracked objects:   <tf.Variable 'conv1d_133/bias:0' shape=(256,) dtype=float32>. This is a strong indication that the Lambda layer should be rewritten as a subclassed Layer.\n",
            "WARNING:tensorflow:The following Variables were used in a Lambda layer's call (tf.compat.v1.nn.conv1d_134), but are not present in its tracked objects:   <tf.Variable 'conv1d_134/kernel:0' shape=(3, 256, 256) dtype=float32>. This is a strong indication that the Lambda layer should be rewritten as a subclassed Layer.\n",
            "WARNING:tensorflow:The following Variables were used in a Lambda layer's call (tf.nn.bias_add_138), but are not present in its tracked objects:   <tf.Variable 'conv1d_134/bias:0' shape=(256,) dtype=float32>. This is a strong indication that the Lambda layer should be rewritten as a subclassed Layer.\n",
            "WARNING:tensorflow:The following Variables were used in a Lambda layer's call (tf.compat.v1.nn.conv1d_135), but are not present in its tracked objects:   <tf.Variable 'conv1d_135/kernel:0' shape=(3, 256, 512) dtype=float32>. This is a strong indication that the Lambda layer should be rewritten as a subclassed Layer.\n",
            "WARNING:tensorflow:The following Variables were used in a Lambda layer's call (tf.nn.bias_add_139), but are not present in its tracked objects:   <tf.Variable 'conv1d_135/bias:0' shape=(512,) dtype=float32>. This is a strong indication that the Lambda layer should be rewritten as a subclassed Layer.\n",
            "WARNING:tensorflow:The following Variables were used in a Lambda layer's call (tf.compat.v1.nn.conv1d_136), but are not present in its tracked objects:   <tf.Variable 'conv1d_136/kernel:0' shape=(3, 512, 512) dtype=float32>. This is a strong indication that the Lambda layer should be rewritten as a subclassed Layer.\n",
            "WARNING:tensorflow:The following Variables were used in a Lambda layer's call (tf.nn.bias_add_140), but are not present in its tracked objects:   <tf.Variable 'conv1d_136/bias:0' shape=(512,) dtype=float32>. This is a strong indication that the Lambda layer should be rewritten as a subclassed Layer.\n",
            "WARNING:tensorflow:The following Variables were used in a Lambda layer's call (tf.compat.v1.nn.conv1d_137), but are not present in its tracked objects:   <tf.Variable 'conv1d_137/kernel:0' shape=(3, 512, 512) dtype=float32>. This is a strong indication that the Lambda layer should be rewritten as a subclassed Layer.\n",
            "WARNING:tensorflow:The following Variables were used in a Lambda layer's call (tf.nn.bias_add_141), but are not present in its tracked objects:   <tf.Variable 'conv1d_137/bias:0' shape=(512,) dtype=float32>. This is a strong indication that the Lambda layer should be rewritten as a subclassed Layer.\n",
            "WARNING:tensorflow:The following Variables were used in a Lambda layer's call (tf.compat.v1.nn.conv1d_138), but are not present in its tracked objects:   <tf.Variable 'conv1d_138/kernel:0' shape=(3, 512, 512) dtype=float32>. This is a strong indication that the Lambda layer should be rewritten as a subclassed Layer.\n",
            "WARNING:tensorflow:The following Variables were used in a Lambda layer's call (tf.nn.bias_add_142), but are not present in its tracked objects:   <tf.Variable 'conv1d_138/bias:0' shape=(512,) dtype=float32>. This is a strong indication that the Lambda layer should be rewritten as a subclassed Layer.\n",
            "WARNING:tensorflow:The following Variables were used in a Lambda layer's call (tf.compat.v1.nn.conv1d_139), but are not present in its tracked objects:   <tf.Variable 'conv1d_139/kernel:0' shape=(3, 512, 512) dtype=float32>. This is a strong indication that the Lambda layer should be rewritten as a subclassed Layer.\n",
            "WARNING:tensorflow:The following Variables were used in a Lambda layer's call (tf.nn.bias_add_143), but are not present in its tracked objects:   <tf.Variable 'conv1d_139/bias:0' shape=(512,) dtype=float32>. This is a strong indication that the Lambda layer should be rewritten as a subclassed Layer.\n",
            "WARNING:tensorflow:The following Variables were used in a Lambda layer's call (tf.compat.v1.nn.conv1d_140), but are not present in its tracked objects:   <tf.Variable 'conv1d_140/kernel:0' shape=(3, 512, 512) dtype=float32>. This is a strong indication that the Lambda layer should be rewritten as a subclassed Layer.\n",
            "WARNING:tensorflow:The following Variables were used in a Lambda layer's call (tf.nn.bias_add_144), but are not present in its tracked objects:   <tf.Variable 'conv1d_140/bias:0' shape=(512,) dtype=float32>. This is a strong indication that the Lambda layer should be rewritten as a subclassed Layer.\n",
            "WARNING:tensorflow:The following Variables were used in a Lambda layer's call (tf.tensordot_4), but are not present in its tracked objects:   <tf.Variable 'dense_5/kernel:0' shape=(512, 3) dtype=float32>. This is a strong indication that the Lambda layer should be rewritten as a subclassed Layer.\n",
            "WARNING:tensorflow:The following Variables were used in a Lambda layer's call (tf.nn.bias_add_145), but are not present in its tracked objects:   <tf.Variable 'dense_5/bias:0' shape=(3,) dtype=float32>. This is a strong indication that the Lambda layer should be rewritten as a subclassed Layer.\n"
          ]
        }
      ]
    },
    {
      "cell_type": "code",
      "execution_count": 44,
      "metadata": {
        "colab": {
          "base_uri": "https://localhost:8080/"
        },
        "id": "3il7ou8aGyCg",
        "outputId": "3ccd5986-ea82-445f-e7af-b154b2207c5c"
      },
      "outputs": [
        {
          "output_type": "stream",
          "name": "stderr",
          "text": [
            "/usr/local/lib/python3.7/dist-packages/keras/optimizer_v2/adam.py:105: UserWarning: The `lr` argument is deprecated, use `learning_rate` instead.\n",
            "  super(Adam, self).__init__(name, **kwargs)\n"
          ]
        }
      ],
      "source": [
        "from tensorflow.keras.optimizers import Adam\n",
        "learn = 1e-3\n",
        "opt = Adam(lr=learn, decay=0.01)\n",
        "model.compile(\n",
        "    optimizer=opt,\n",
        "    loss='categorical_crossentropy',\n",
        "    metrics=['accuracy'])"
      ]
    },
    {
      "cell_type": "code",
      "execution_count": 46,
      "metadata": {
        "colab": {
          "base_uri": "https://localhost:8080/"
        },
        "id": "3fR-sGvJGe4U",
        "outputId": "2daa25b5-ce91-46c6-8f25-066b52a018ba"
      },
      "outputs": [
        {
          "output_type": "stream",
          "name": "stdout",
          "text": [
            "Epoch 1/50\n",
            "314/314 [==============================] - 8s 24ms/step - loss: 0.5029 - accuracy: 0.7656 - val_loss: 0.4984 - val_accuracy: 0.7700\n",
            "Epoch 2/50\n",
            "314/314 [==============================] - 6s 20ms/step - loss: 0.4988 - accuracy: 0.7680 - val_loss: 0.4944 - val_accuracy: 0.7721\n",
            "Epoch 3/50\n",
            "314/314 [==============================] - 6s 19ms/step - loss: 0.4948 - accuracy: 0.7702 - val_loss: 0.4902 - val_accuracy: 0.7754\n",
            "Epoch 4/50\n",
            "314/314 [==============================] - 6s 19ms/step - loss: 0.4905 - accuracy: 0.7728 - val_loss: 0.4857 - val_accuracy: 0.7766\n",
            "Epoch 5/50\n",
            "314/314 [==============================] - 6s 19ms/step - loss: 0.4860 - accuracy: 0.7752 - val_loss: 0.4812 - val_accuracy: 0.7785\n",
            "Epoch 6/50\n",
            "314/314 [==============================] - 6s 19ms/step - loss: 0.4814 - accuracy: 0.7782 - val_loss: 0.4760 - val_accuracy: 0.7821\n",
            "Epoch 7/50\n",
            "314/314 [==============================] - 6s 19ms/step - loss: 0.4764 - accuracy: 0.7809 - val_loss: 0.4709 - val_accuracy: 0.7845\n",
            "Epoch 8/50\n",
            "314/314 [==============================] - 6s 19ms/step - loss: 0.4713 - accuracy: 0.7841 - val_loss: 0.4657 - val_accuracy: 0.7874\n",
            "Epoch 9/50\n",
            "314/314 [==============================] - 6s 19ms/step - loss: 0.4661 - accuracy: 0.7871 - val_loss: 0.4606 - val_accuracy: 0.7908\n",
            "Epoch 10/50\n",
            "314/314 [==============================] - 6s 20ms/step - loss: 0.4609 - accuracy: 0.7903 - val_loss: 0.4552 - val_accuracy: 0.7945\n",
            "Epoch 11/50\n",
            "314/314 [==============================] - 6s 19ms/step - loss: 0.4558 - accuracy: 0.7930 - val_loss: 0.4505 - val_accuracy: 0.7975\n",
            "Epoch 12/50\n",
            "314/314 [==============================] - 6s 19ms/step - loss: 0.4511 - accuracy: 0.7956 - val_loss: 0.4455 - val_accuracy: 0.7994\n",
            "Epoch 13/50\n",
            "314/314 [==============================] - 7s 22ms/step - loss: 0.4465 - accuracy: 0.7982 - val_loss: 0.4413 - val_accuracy: 0.8033\n",
            "Epoch 14/50\n",
            "314/314 [==============================] - 7s 21ms/step - loss: 0.4424 - accuracy: 0.8005 - val_loss: 0.4374 - val_accuracy: 0.8053\n",
            "Epoch 15/50\n",
            "314/314 [==============================] - 6s 20ms/step - loss: 0.4386 - accuracy: 0.8028 - val_loss: 0.4340 - val_accuracy: 0.8058\n",
            "Epoch 16/50\n",
            "314/314 [==============================] - 6s 20ms/step - loss: 0.4351 - accuracy: 0.8043 - val_loss: 0.4303 - val_accuracy: 0.8083\n",
            "Epoch 17/50\n",
            "314/314 [==============================] - 6s 20ms/step - loss: 0.4318 - accuracy: 0.8063 - val_loss: 0.4272 - val_accuracy: 0.8103\n",
            "Epoch 18/50\n",
            "314/314 [==============================] - 6s 20ms/step - loss: 0.4288 - accuracy: 0.8077 - val_loss: 0.4243 - val_accuracy: 0.8112\n",
            "Epoch 19/50\n",
            "314/314 [==============================] - 6s 19ms/step - loss: 0.4260 - accuracy: 0.8091 - val_loss: 0.4222 - val_accuracy: 0.8119\n",
            "Epoch 20/50\n",
            "314/314 [==============================] - 6s 19ms/step - loss: 0.4234 - accuracy: 0.8106 - val_loss: 0.4192 - val_accuracy: 0.8139\n",
            "Epoch 21/50\n",
            "314/314 [==============================] - 6s 19ms/step - loss: 0.4210 - accuracy: 0.8119 - val_loss: 0.4171 - val_accuracy: 0.8151\n",
            "Epoch 22/50\n",
            "314/314 [==============================] - 6s 19ms/step - loss: 0.4188 - accuracy: 0.8131 - val_loss: 0.4148 - val_accuracy: 0.8161\n",
            "Epoch 23/50\n",
            "314/314 [==============================] - 6s 19ms/step - loss: 0.4165 - accuracy: 0.8140 - val_loss: 0.4128 - val_accuracy: 0.8174\n",
            "Epoch 24/50\n",
            "314/314 [==============================] - 6s 19ms/step - loss: 0.4145 - accuracy: 0.8151 - val_loss: 0.4109 - val_accuracy: 0.8184\n",
            "Epoch 25/50\n",
            "314/314 [==============================] - 6s 19ms/step - loss: 0.4127 - accuracy: 0.8163 - val_loss: 0.4091 - val_accuracy: 0.8195\n",
            "Epoch 26/50\n",
            "314/314 [==============================] - 6s 20ms/step - loss: 0.4109 - accuracy: 0.8173 - val_loss: 0.4074 - val_accuracy: 0.8210\n",
            "Epoch 27/50\n",
            "314/314 [==============================] - 6s 20ms/step - loss: 0.4092 - accuracy: 0.8181 - val_loss: 0.4057 - val_accuracy: 0.8217\n",
            "Epoch 28/50\n",
            "314/314 [==============================] - 6s 21ms/step - loss: 0.4076 - accuracy: 0.8189 - val_loss: 0.4043 - val_accuracy: 0.8229\n",
            "Epoch 29/50\n",
            "314/314 [==============================] - 6s 19ms/step - loss: 0.4060 - accuracy: 0.8197 - val_loss: 0.4027 - val_accuracy: 0.8231\n",
            "Epoch 30/50\n",
            "314/314 [==============================] - 6s 19ms/step - loss: 0.4045 - accuracy: 0.8203 - val_loss: 0.4015 - val_accuracy: 0.8234\n",
            "Epoch 31/50\n",
            "314/314 [==============================] - 6s 19ms/step - loss: 0.4031 - accuracy: 0.8210 - val_loss: 0.4001 - val_accuracy: 0.8252\n",
            "Epoch 32/50\n",
            "314/314 [==============================] - 6s 19ms/step - loss: 0.4018 - accuracy: 0.8218 - val_loss: 0.3990 - val_accuracy: 0.8249\n",
            "Epoch 33/50\n",
            "314/314 [==============================] - 6s 19ms/step - loss: 0.4005 - accuracy: 0.8225 - val_loss: 0.3975 - val_accuracy: 0.8260\n",
            "Epoch 34/50\n",
            "314/314 [==============================] - 7s 21ms/step - loss: 0.3993 - accuracy: 0.8233 - val_loss: 0.3964 - val_accuracy: 0.8263\n",
            "Epoch 35/50\n",
            "314/314 [==============================] - 6s 20ms/step - loss: 0.3980 - accuracy: 0.8237 - val_loss: 0.3951 - val_accuracy: 0.8271\n",
            "Epoch 36/50\n",
            "314/314 [==============================] - 6s 20ms/step - loss: 0.3969 - accuracy: 0.8244 - val_loss: 0.3942 - val_accuracy: 0.8270\n",
            "Epoch 37/50\n",
            "314/314 [==============================] - 6s 19ms/step - loss: 0.3959 - accuracy: 0.8247 - val_loss: 0.3930 - val_accuracy: 0.8276\n",
            "Epoch 38/50\n",
            "314/314 [==============================] - 6s 19ms/step - loss: 0.3947 - accuracy: 0.8253 - val_loss: 0.3919 - val_accuracy: 0.8282\n",
            "Epoch 39/50\n",
            "314/314 [==============================] - 6s 19ms/step - loss: 0.3937 - accuracy: 0.8262 - val_loss: 0.3912 - val_accuracy: 0.8278\n",
            "Epoch 40/50\n",
            "314/314 [==============================] - 6s 19ms/step - loss: 0.3927 - accuracy: 0.8264 - val_loss: 0.3900 - val_accuracy: 0.8291\n",
            "Epoch 41/50\n",
            "314/314 [==============================] - 6s 19ms/step - loss: 0.3918 - accuracy: 0.8271 - val_loss: 0.3891 - val_accuracy: 0.8298\n",
            "Epoch 42/50\n",
            "314/314 [==============================] - 6s 20ms/step - loss: 0.3908 - accuracy: 0.8276 - val_loss: 0.3883 - val_accuracy: 0.8300\n",
            "Epoch 43/50\n",
            "314/314 [==============================] - 7s 23ms/step - loss: 0.3900 - accuracy: 0.8279 - val_loss: 0.3873 - val_accuracy: 0.8303\n",
            "Epoch 44/50\n",
            "314/314 [==============================] - 7s 21ms/step - loss: 0.3891 - accuracy: 0.8286 - val_loss: 0.3865 - val_accuracy: 0.8312\n",
            "Epoch 45/50\n",
            "314/314 [==============================] - 6s 19ms/step - loss: 0.3882 - accuracy: 0.8289 - val_loss: 0.3857 - val_accuracy: 0.8309\n",
            "Epoch 46/50\n",
            "314/314 [==============================] - 6s 19ms/step - loss: 0.3874 - accuracy: 0.8291 - val_loss: 0.3850 - val_accuracy: 0.8322\n",
            "Epoch 47/50\n",
            "314/314 [==============================] - 6s 19ms/step - loss: 0.3866 - accuracy: 0.8297 - val_loss: 0.3843 - val_accuracy: 0.8325\n",
            "Epoch 48/50\n",
            "314/314 [==============================] - 6s 19ms/step - loss: 0.3858 - accuracy: 0.8302 - val_loss: 0.3833 - val_accuracy: 0.8322\n",
            "Epoch 49/50\n",
            "314/314 [==============================] - 6s 19ms/step - loss: 0.3850 - accuracy: 0.8304 - val_loss: 0.3826 - val_accuracy: 0.8333\n",
            "Epoch 50/50\n",
            "314/314 [==============================] - 6s 19ms/step - loss: 0.3843 - accuracy: 0.8309 - val_loss: 0.3823 - val_accuracy: 0.8339\n"
          ]
        }
      ],
      "source": [
        "\n",
        "\n",
        "history = model.fit(\n",
        "    x=[x1_train, x2_train], \n",
        "    y=y_train,\n",
        "    batch_size=1024,\n",
        "    epochs=50,\n",
        "    validation_data=(\n",
        "        [test_set, test_set1], \n",
        "        target_test\n",
        "    ),\n",
        "    shuffle=True\n",
        ")"
      ]
    },
    {
      "cell_type": "code",
      "source": [
        "y_val0 = []\n",
        "for x in target_test:\n",
        "  y_val0.append(np.argmax(x))\n",
        "y_val0 = np.array(y_val0)"
      ],
      "metadata": {
        "id": "vehEpFM1ijh3"
      },
      "execution_count": 54,
      "outputs": []
    },
    {
      "cell_type": "code",
      "source": [
        "pred = model.predict([test_set, test_set1])\n",
        "pred1 =[]\n",
        "for x in pred:\n",
        "  pred1.append(np.argmax(x))\n",
        "pred1 = np.array(pred1)  "
      ],
      "metadata": {
        "id": "6ayhpdtAmgp1"
      },
      "execution_count": 55,
      "outputs": []
    },
    {
      "cell_type": "code",
      "source": [
        "from sklearn.metrics import classification_report\n",
        "target_names = ['class 0', 'class 1', 'class 2']\n",
        "print(classification_report(y_val0,  pred1, target_names=target_names))"
      ],
      "metadata": {
        "colab": {
          "base_uri": "https://localhost:8080/"
        },
        "id": "GfoxfLLHiTjK",
        "outputId": "43d08d18-1e13-47de-8c0e-37a8b1018ad4"
      },
      "execution_count": 56,
      "outputs": [
        {
          "output_type": "stream",
          "name": "stdout",
          "text": [
            "              precision    recall  f1-score   support\n",
            "\n",
            "     class 0       0.85      0.91      0.88     21935\n",
            "     class 1       0.78      0.70      0.73      9296\n",
            "     class 2       0.80      0.26      0.39       825\n",
            "\n",
            "    accuracy                           0.83     32056\n",
            "   macro avg       0.81      0.62      0.67     32056\n",
            "weighted avg       0.83      0.83      0.83     32056\n",
            "\n"
          ]
        }
      ]
    },
    {
      "cell_type": "code",
      "source": [
        "!pip install scikit-plot"
      ],
      "metadata": {
        "id": "ogTSgmARqYUg",
        "colab": {
          "base_uri": "https://localhost:8080/"
        },
        "outputId": "831ef544-0ae2-437a-b18d-e9508670ed74"
      },
      "execution_count": 57,
      "outputs": [
        {
          "output_type": "stream",
          "name": "stdout",
          "text": [
            "Collecting scikit-plot\n",
            "  Downloading scikit_plot-0.3.7-py3-none-any.whl (33 kB)\n",
            "Requirement already satisfied: scikit-learn>=0.18 in /usr/local/lib/python3.7/dist-packages (from scikit-plot) (1.0.2)\n",
            "Requirement already satisfied: matplotlib>=1.4.0 in /usr/local/lib/python3.7/dist-packages (from scikit-plot) (3.2.2)\n",
            "Requirement already satisfied: scipy>=0.9 in /usr/local/lib/python3.7/dist-packages (from scikit-plot) (1.4.1)\n",
            "Requirement already satisfied: joblib>=0.10 in /usr/local/lib/python3.7/dist-packages (from scikit-plot) (1.1.0)\n",
            "Requirement already satisfied: numpy>=1.11 in /usr/local/lib/python3.7/dist-packages (from matplotlib>=1.4.0->scikit-plot) (1.21.6)\n",
            "Requirement already satisfied: kiwisolver>=1.0.1 in /usr/local/lib/python3.7/dist-packages (from matplotlib>=1.4.0->scikit-plot) (1.4.2)\n",
            "Requirement already satisfied: pyparsing!=2.0.4,!=2.1.2,!=2.1.6,>=2.0.1 in /usr/local/lib/python3.7/dist-packages (from matplotlib>=1.4.0->scikit-plot) (3.0.8)\n",
            "Requirement already satisfied: python-dateutil>=2.1 in /usr/local/lib/python3.7/dist-packages (from matplotlib>=1.4.0->scikit-plot) (2.8.2)\n",
            "Requirement already satisfied: cycler>=0.10 in /usr/local/lib/python3.7/dist-packages (from matplotlib>=1.4.0->scikit-plot) (0.11.0)\n",
            "Requirement already satisfied: typing-extensions in /usr/local/lib/python3.7/dist-packages (from kiwisolver>=1.0.1->matplotlib>=1.4.0->scikit-plot) (4.2.0)\n",
            "Requirement already satisfied: six>=1.5 in /usr/local/lib/python3.7/dist-packages (from python-dateutil>=2.1->matplotlib>=1.4.0->scikit-plot) (1.15.0)\n",
            "Requirement already satisfied: threadpoolctl>=2.0.0 in /usr/local/lib/python3.7/dist-packages (from scikit-learn>=0.18->scikit-plot) (3.1.0)\n",
            "Installing collected packages: scikit-plot\n",
            "Successfully installed scikit-plot-0.3.7\n"
          ]
        }
      ]
    },
    {
      "cell_type": "code",
      "source": [
        "import scikitplot as skplt\n",
        "import matplotlib.pyplot as plt"
      ],
      "metadata": {
        "id": "EMcZGrYaqcwo"
      },
      "execution_count": 58,
      "outputs": []
    },
    {
      "cell_type": "code",
      "source": [
        "skplt.metrics.plot_roc_curve(y_val0,pred,title=\"ROC Curves with LSTM\", cmap='Blues', figsize=[7,7])\n",
        "plt.show()"
      ],
      "metadata": {
        "colab": {
          "base_uri": "https://localhost:8080/",
          "height": 513
        },
        "id": "S3kxmdBDqdoj",
        "outputId": "b5481cde-61fa-4a01-ddd5-2d439b2a91a6"
      },
      "execution_count": 59,
      "outputs": [
        {
          "output_type": "stream",
          "name": "stderr",
          "text": [
            "/usr/local/lib/python3.7/dist-packages/sklearn/utils/deprecation.py:87: FutureWarning: Function plot_roc_curve is deprecated; This will be removed in v0.5.0. Please use scikitplot.metrics.plot_roc instead.\n",
            "  warnings.warn(msg, category=FutureWarning)\n"
          ]
        },
        {
          "output_type": "display_data",
          "data": {
            "text/plain": [
              "<Figure size 504x504 with 1 Axes>"
            ],
            "image/png": "[encoded data removed]"
          },
          "metadata": {
            "needs_background": "light"
          }
        }
      ]
    },
    {
      "cell_type": "code",
      "source": [
        ""
      ],
      "metadata": {
        "id": "t_qS6hEqqoEn"
      },
      "execution_count": 59,
      "outputs": []
    },
    {
      "cell_type": "code",
      "execution_count": 60,
      "metadata": {
        "colab": {
          "base_uri": "https://localhost:8080/"
        },
        "id": "UVXhrbFcGe5O",
        "outputId": "80902f33-4ef7-4718-921c-5b3d83e11c38"
      },
      "outputs": [
        {
          "output_type": "stream",
          "name": "stdout",
          "text": [
            "Model: \"model_3\"\n",
            "__________________________________________________________________________________________________\n",
            " Layer (type)                   Output Shape         Param #     Connected to                     \n",
            "==================================================================================================\n",
            " input_9 (InputLayer)           [(None, 20)]         0           []                               \n",
            "                                                                                                  \n",
            " input_10 (InputLayer)          [(None, 20)]         0           []                               \n",
            "                                                                                                  \n",
            " embedding_1 (Embedding)        (None, 20, 256)      2560000     ['input_9[0][0]',                \n",
            "                                                                  'input_10[0][0]']               \n",
            "                                                                                                  \n",
            " conv1d (Conv1D)                (None, 20, 256)      196864      ['embedding_1[0][0]',            \n",
            "                                                                  'embedding_1[1][0]']            \n",
            "                                                                                                  \n",
            " concatenate_1 (Concatenate)    (None, 20, 512)      0           ['conv1d[0][0]',                 \n",
            "                                                                  'conv1d[1][0]']                 \n",
            "                                                                                                  \n",
            " flatten (Flatten)              (None, 10240)        0           ['concatenate_1[0][0]']          \n",
            "                                                                                                  \n",
            " dense_1 (Dense)                (None, 3)            30723       ['flatten[0][0]']                \n",
            "                                                                                                  \n",
            "==================================================================================================\n",
            "Total params: 2,787,587\n",
            "Trainable params: 2,787,587\n",
            "Non-trainable params: 0\n",
            "__________________________________________________________________________________________________\n"
          ]
        }
      ],
      "source": [
        "\n",
        "from keras import Input\n",
        "from keras.layers import Embedding,LSTM, concatenate, Dense,Conv1D,Flatten\n",
        "from keras.models import Model\n",
        "\n",
        "tp = Input(shape=(20, ))\n",
        "bp = Input(shape=(20,) )\n",
        "\n",
        "e__m = Embedding(10000, 256)\n",
        "t_e = e__m(tp)\n",
        "b_e= e__m(bp)\n",
        "\n",
        "c = Conv1D(kernel_size=3,padding='same',filters=256,activation='relu')\n",
        "t_o= c(t_e)\n",
        "b_o = c(b_e)\n",
        "\n",
        "mer = concatenate([t_o, b_o], axis=-1)\n",
        "mer = Flatten()(mer)\n",
        "d =  Dense(units=3, \n",
        "    activation='softmax')\n",
        "out = d(mer)\n",
        "\n",
        "model1 = Model(\n",
        "    inputs=[tp, bp], \n",
        "    outputs=out)\n",
        "\n",
        "model1.summary()"
      ]
    },
    {
      "cell_type": "code",
      "execution_count": 61,
      "metadata": {
        "colab": {
          "base_uri": "https://localhost:8080/"
        },
        "id": "dBAq16FdLu6i",
        "outputId": "566c2947-25c7-4ab4-f92a-b6e71d0725df"
      },
      "outputs": [
        {
          "output_type": "stream",
          "name": "stderr",
          "text": [
            "/usr/local/lib/python3.7/dist-packages/keras/optimizer_v2/adam.py:105: UserWarning: The `lr` argument is deprecated, use `learning_rate` instead.\n",
            "  super(Adam, self).__init__(name, **kwargs)\n"
          ]
        }
      ],
      "source": [
        "from tensorflow.keras.optimizers import Adam\n",
        "lr = 3e-1\n",
        "opt = Adam(lr=lr, decay=lr)\n",
        "model1.compile(\n",
        "    optimizer=opt,\n",
        "    loss='categorical_crossentropy',\n",
        "    metrics=['accuracy'])"
      ]
    },
    {
      "cell_type": "code",
      "source": [
        "hi = model1.fit(\n",
        "    x=[x1_train, x2_train], \n",
        "    y=y_train,\n",
        "    batch_size=2048,\n",
        "    epochs=50,\n",
        "    validation_data=(\n",
        "        [test_set, test_set1], \n",
        "        target_test\n",
        "    ))"
      ],
      "metadata": {
        "colab": {
          "base_uri": "https://localhost:8080/"
        },
        "id": "vBiKY9crnGp8",
        "outputId": "d6cf2112-5c0c-4b8d-ab29-f0e3387aa165"
      },
      "execution_count": 62,
      "outputs": [
        {
          "output_type": "stream",
          "name": "stdout",
          "text": [
            "Epoch 1/50\n",
            "157/157 [==============================] - 14s 37ms/step - loss: 48.0464 - accuracy: 0.6752 - val_loss: 0.7147 - val_accuracy: 0.6852\n",
            "Epoch 2/50\n",
            "157/157 [==============================] - 5s 33ms/step - loss: 0.7169 - accuracy: 0.6854 - val_loss: 0.7129 - val_accuracy: 0.6852\n",
            "Epoch 3/50\n",
            "157/157 [==============================] - 5s 31ms/step - loss: 0.7133 - accuracy: 0.6855 - val_loss: 0.7124 - val_accuracy: 0.6851\n",
            "Epoch 4/50\n",
            "157/157 [==============================] - 5s 31ms/step - loss: 0.7124 - accuracy: 0.6856 - val_loss: 0.7122 - val_accuracy: 0.6853\n",
            "Epoch 5/50\n",
            "157/157 [==============================] - 5s 30ms/step - loss: 0.7120 - accuracy: 0.6856 - val_loss: 0.7121 - val_accuracy: 0.6853\n",
            "Epoch 6/50\n",
            "157/157 [==============================] - 5s 31ms/step - loss: 0.7118 - accuracy: 0.6856 - val_loss: 0.7120 - val_accuracy: 0.6853\n",
            "Epoch 7/50\n",
            "157/157 [==============================] - 5s 31ms/step - loss: 0.7117 - accuracy: 0.6856 - val_loss: 0.7119 - val_accuracy: 0.6853\n",
            "Epoch 8/50\n",
            "157/157 [==============================] - 5s 30ms/step - loss: 0.7116 - accuracy: 0.6857 - val_loss: 0.7119 - val_accuracy: 0.6852\n",
            "Epoch 9/50\n",
            "157/157 [==============================] - 5s 30ms/step - loss: 0.7115 - accuracy: 0.6857 - val_loss: 0.7118 - val_accuracy: 0.6853\n",
            "Epoch 10/50\n",
            "157/157 [==============================] - 5s 30ms/step - loss: 0.7115 - accuracy: 0.6857 - val_loss: 0.7118 - val_accuracy: 0.6853\n",
            "Epoch 11/50\n",
            "157/157 [==============================] - 5s 31ms/step - loss: 0.7114 - accuracy: 0.6857 - val_loss: 0.7117 - val_accuracy: 0.6853\n",
            "Epoch 12/50\n",
            "157/157 [==============================] - 5s 30ms/step - loss: 0.7114 - accuracy: 0.6857 - val_loss: 0.7117 - val_accuracy: 0.6853\n",
            "Epoch 13/50\n",
            "157/157 [==============================] - 5s 32ms/step - loss: 0.7113 - accuracy: 0.6857 - val_loss: 0.7117 - val_accuracy: 0.6853\n",
            "Epoch 14/50\n",
            "157/157 [==============================] - 5s 31ms/step - loss: 0.7113 - accuracy: 0.6857 - val_loss: 0.7116 - val_accuracy: 0.6854\n",
            "Epoch 15/50\n",
            "157/157 [==============================] - 5s 31ms/step - loss: 0.7113 - accuracy: 0.6857 - val_loss: 0.7116 - val_accuracy: 0.6854\n",
            "Epoch 16/50\n",
            "157/157 [==============================] - 5s 30ms/step - loss: 0.7112 - accuracy: 0.6857 - val_loss: 0.7116 - val_accuracy: 0.6854\n",
            "Epoch 17/50\n",
            "157/157 [==============================] - 5s 30ms/step - loss: 0.7112 - accuracy: 0.6857 - val_loss: 0.7116 - val_accuracy: 0.6854\n",
            "Epoch 18/50\n",
            "157/157 [==============================] - 5s 30ms/step - loss: 0.7112 - accuracy: 0.6857 - val_loss: 0.7115 - val_accuracy: 0.6854\n",
            "Epoch 19/50\n",
            "157/157 [==============================] - 5s 31ms/step - loss: 0.7112 - accuracy: 0.6857 - val_loss: 0.7115 - val_accuracy: 0.6854\n",
            "Epoch 20/50\n",
            "157/157 [==============================] - 5s 30ms/step - loss: 0.7112 - accuracy: 0.6857 - val_loss: 0.7115 - val_accuracy: 0.6854\n",
            "Epoch 21/50\n",
            "157/157 [==============================] - 5s 30ms/step - loss: 0.7112 - accuracy: 0.6857 - val_loss: 0.7115 - val_accuracy: 0.6854\n",
            "Epoch 22/50\n",
            "157/157 [==============================] - 5s 30ms/step - loss: 0.7112 - accuracy: 0.6857 - val_loss: 0.7114 - val_accuracy: 0.6854\n",
            "Epoch 23/50\n",
            "157/157 [==============================] - 5s 32ms/step - loss: 0.7112 - accuracy: 0.6857 - val_loss: 0.7114 - val_accuracy: 0.6854\n",
            "Epoch 24/50\n",
            "157/157 [==============================] - 5s 32ms/step - loss: 0.7112 - accuracy: 0.6857 - val_loss: 0.7114 - val_accuracy: 0.6854\n",
            "Epoch 25/50\n",
            "157/157 [==============================] - 5s 33ms/step - loss: 0.7112 - accuracy: 0.6857 - val_loss: 0.7114 - val_accuracy: 0.6854\n",
            "Epoch 26/50\n",
            "157/157 [==============================] - 5s 31ms/step - loss: 0.7111 - accuracy: 0.6857 - val_loss: 0.7114 - val_accuracy: 0.6854\n",
            "Epoch 27/50\n",
            "157/157 [==============================] - 5s 30ms/step - loss: 0.7111 - accuracy: 0.6857 - val_loss: 0.7114 - val_accuracy: 0.6854\n",
            "Epoch 28/50\n",
            "157/157 [==============================] - 5s 30ms/step - loss: 0.7111 - accuracy: 0.6857 - val_loss: 0.7114 - val_accuracy: 0.6854\n",
            "Epoch 29/50\n",
            "157/157 [==============================] - 5s 30ms/step - loss: 0.7111 - accuracy: 0.6857 - val_loss: 0.7114 - val_accuracy: 0.6854\n",
            "Epoch 30/50\n",
            "157/157 [==============================] - 5s 30ms/step - loss: 0.7111 - accuracy: 0.6857 - val_loss: 0.7113 - val_accuracy: 0.6854\n",
            "Epoch 31/50\n",
            "157/157 [==============================] - 5s 30ms/step - loss: 0.7111 - accuracy: 0.6857 - val_loss: 0.7114 - val_accuracy: 0.6855\n",
            "Epoch 32/50\n",
            "157/157 [==============================] - 5s 30ms/step - loss: 0.7111 - accuracy: 0.6857 - val_loss: 0.7113 - val_accuracy: 0.6855\n",
            "Epoch 33/50\n",
            "157/157 [==============================] - 5s 30ms/step - loss: 0.7111 - accuracy: 0.6857 - val_loss: 0.7113 - val_accuracy: 0.6855\n",
            "Epoch 34/50\n",
            "157/157 [==============================] - 5s 30ms/step - loss: 0.7111 - accuracy: 0.6857 - val_loss: 0.7113 - val_accuracy: 0.6855\n",
            "Epoch 35/50\n",
            "157/157 [==============================] - 5s 30ms/step - loss: 0.7111 - accuracy: 0.6857 - val_loss: 0.7113 - val_accuracy: 0.6855\n",
            "Epoch 36/50\n",
            "157/157 [==============================] - 5s 30ms/step - loss: 0.7111 - accuracy: 0.6857 - val_loss: 0.7113 - val_accuracy: 0.6855\n",
            "Epoch 37/50\n",
            "157/157 [==============================] - 5s 30ms/step - loss: 0.7111 - accuracy: 0.6857 - val_loss: 0.7113 - val_accuracy: 0.6855\n",
            "Epoch 38/50\n",
            "157/157 [==============================] - 5s 30ms/step - loss: 0.7111 - accuracy: 0.6857 - val_loss: 0.7113 - val_accuracy: 0.6855\n",
            "Epoch 39/50\n",
            "157/157 [==============================] - 5s 30ms/step - loss: 0.7111 - accuracy: 0.6857 - val_loss: 0.7113 - val_accuracy: 0.6855\n",
            "Epoch 40/50\n",
            "157/157 [==============================] - 5s 30ms/step - loss: 0.7111 - accuracy: 0.6857 - val_loss: 0.7113 - val_accuracy: 0.6855\n",
            "Epoch 41/50\n",
            "157/157 [==============================] - 5s 30ms/step - loss: 0.7111 - accuracy: 0.6858 - val_loss: 0.7113 - val_accuracy: 0.6855\n",
            "Epoch 42/50\n",
            "157/157 [==============================] - 5s 31ms/step - loss: 0.7111 - accuracy: 0.6858 - val_loss: 0.7113 - val_accuracy: 0.6855\n",
            "Epoch 43/50\n",
            "157/157 [==============================] - 5s 30ms/step - loss: 0.7111 - accuracy: 0.6858 - val_loss: 0.7113 - val_accuracy: 0.6856\n",
            "Epoch 44/50\n",
            "157/157 [==============================] - 5s 30ms/step - loss: 0.7111 - accuracy: 0.6858 - val_loss: 0.7113 - val_accuracy: 0.6856\n",
            "Epoch 45/50\n",
            "157/157 [==============================] - 5s 30ms/step - loss: 0.7111 - accuracy: 0.6858 - val_loss: 0.7113 - val_accuracy: 0.6856\n",
            "Epoch 46/50\n",
            "157/157 [==============================] - 5s 30ms/step - loss: 0.7111 - accuracy: 0.6858 - val_loss: 0.7113 - val_accuracy: 0.6856\n",
            "Epoch 47/50\n",
            "157/157 [==============================] - 5s 30ms/step - loss: 0.7111 - accuracy: 0.6858 - val_loss: 0.7113 - val_accuracy: 0.6856\n",
            "Epoch 48/50\n",
            "157/157 [==============================] - 5s 30ms/step - loss: 0.7111 - accuracy: 0.6858 - val_loss: 0.7113 - val_accuracy: 0.6856\n",
            "Epoch 49/50\n",
            "157/157 [==============================] - 5s 30ms/step - loss: 0.7111 - accuracy: 0.6858 - val_loss: 0.7113 - val_accuracy: 0.6855\n",
            "Epoch 50/50\n",
            "157/157 [==============================] - 5s 30ms/step - loss: 0.7111 - accuracy: 0.6858 - val_loss: 0.7113 - val_accuracy: 0.6856\n"
          ]
        }
      ]
    },
    {
      "cell_type": "code",
      "source": [
        "y_val0 = []\n",
        "for x in target_test:\n",
        "  y_val0.append(np.argmax(x))\n",
        "y_val0 = np.array(y_val0)"
      ],
      "metadata": {
        "id": "N2Z7iyWLlcCN"
      },
      "execution_count": 63,
      "outputs": []
    },
    {
      "cell_type": "code",
      "source": [
        "pred = model.predict([test_set, test_set1])\n",
        "pred1 =[]\n",
        "for x in pred:\n",
        "  pred1.append(np.argmax(x))\n",
        "pred1 = np.array(pred1)  "
      ],
      "metadata": {
        "id": "McmMkoZqlcCO"
      },
      "execution_count": 64,
      "outputs": []
    },
    {
      "cell_type": "code",
      "source": [
        "skplt.metrics.plot_roc_curve(y_val0,pred,title=\"ROC Curves with CNN\", cmap='Blues', figsize=[7,7])\n",
        "plt.show()"
      ],
      "metadata": {
        "colab": {
          "base_uri": "https://localhost:8080/",
          "height": 513
        },
        "id": "Be3i-N5arfHd",
        "outputId": "9d331f62-3c9b-4647-804d-2b7086b1b9b3"
      },
      "execution_count": 65,
      "outputs": [
        {
          "output_type": "stream",
          "name": "stderr",
          "text": [
            "/usr/local/lib/python3.7/dist-packages/sklearn/utils/deprecation.py:87: FutureWarning: Function plot_roc_curve is deprecated; This will be removed in v0.5.0. Please use scikitplot.metrics.plot_roc instead.\n",
            "  warnings.warn(msg, category=FutureWarning)\n"
          ]
        },
        {
          "output_type": "display_data",
          "data": {
            "text/plain": [
              "<Figure size 504x504 with 1 Axes>"
            ],
            "image/png": "[encoded data removed]"
          },
          "metadata": {
            "needs_background": "light"
          }
        }
      ]
    },
    {
      "cell_type": "code",
      "execution_count": 66,
      "metadata": {
        "id": "PPLks4HoFd1_",
        "colab": {
          "base_uri": "https://localhost:8080/"
        },
        "outputId": "b4f056e9-d554-40e3-c985-ace54e969a10"
      },
      "outputs": [
        {
          "output_type": "stream",
          "name": "stdout",
          "text": [
            "              precision    recall  f1-score   support\n",
            "\n",
            "     class 0       0.85      0.91      0.88     21935\n",
            "     class 1       0.78      0.70      0.73      9296\n",
            "     class 2       0.80      0.26      0.39       825\n",
            "\n",
            "    accuracy                           0.83     32056\n",
            "   macro avg       0.81      0.62      0.67     32056\n",
            "weighted avg       0.83      0.83      0.83     32056\n",
            "\n"
          ]
        }
      ],
      "source": [
        "from sklearn.metrics import classification_report\n",
        "target_names = ['class 0', 'class 1', 'class 2']\n",
        "print(classification_report(y_val0,  pred1, target_names=target_names))"
      ]
    }
  ],
  "metadata": {
    "accelerator": "GPU",
    "colab": {
      "collapsed_sections": [],
      "machine_shape": "hm",
      "name": "predicting relation between sentences_with no plygarism.ipynb",
      "provenance": []
    },
    "kernelspec": {
      "display_name": "Python 3",
      "name": "python3"
    },
    "language_info": {
      "name": "python"
    }
  },
  "nbformat": 4,
  "nbformat_minor": 0
}