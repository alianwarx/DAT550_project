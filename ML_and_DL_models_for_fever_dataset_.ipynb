{
  "nbformat": 4,
  "nbformat_minor": 0,
  "metadata": {
    "colab": {
      "name": "ML and DL models for fever dataset_with no plygarism_with no plygarism.ipynb",
      "provenance": [],
      "collapsed_sections": []
    },
    "kernelspec": {
      "name": "python3",
      "display_name": "Python 3"
    },
    "language_info": {
      "name": "python"
    },
    "accelerator": "GPU"
  },
  "cells": [
    {
      "cell_type": "code",
      "execution_count": 1,
      "metadata": {
        "id": "AC0f85NclLYl"
      },
      "outputs": [],
      "source": [
        "import os\n",
        "from PIL import Image, ImageDraw\n",
        "import torchvision.transforms as transforms\n",
        "import cv2\n",
        "import numpy as np\n",
        "import pandas as pd"
      ]
    },
    {
      "cell_type": "code",
      "source": [
        "import json\n",
        "data = [json.loads(line) for line in open('/content/fever2-fixers-dev.jsonl', 'r')]"
      ],
      "metadata": {
        "id": "4BpV2kT_aTA9"
      },
      "execution_count": 2,
      "outputs": []
    },
    {
      "cell_type": "code",
      "source": [
        "d = data[0]"
      ],
      "metadata": {
        "id": "qcg6F5m-q--6"
      },
      "execution_count": 3,
      "outputs": []
    },
    {
      "cell_type": "code",
      "source": [
        "d.keys()"
      ],
      "metadata": {
        "colab": {
          "base_uri": "https://localhost:8080/"
        },
        "id": "wcpajOOZ5s3Y",
        "outputId": "b2baf36c-66e3-4677-abef-91934f9f30ec"
      },
      "execution_count": 4,
      "outputs": [
        {
          "output_type": "execute_result",
          "data": {
            "text/plain": [
              "dict_keys(['id', 'label', 'claim', 'evidence', 'original_id', 'transformation', 'attack', 'annotation'])"
            ]
          },
          "metadata": {},
          "execution_count": 4
        }
      ]
    },
    {
      "cell_type": "code",
      "source": [
        "claims = []\n",
        "for x in data:\n",
        "  claims.append(x[\"claim\"])"
      ],
      "metadata": {
        "id": "WZ-OMxwZs8zh"
      },
      "execution_count": 5,
      "outputs": []
    },
    {
      "cell_type": "code",
      "source": [
        "labels = []\n",
        "for x in data:\n",
        "  labels.append(x[\"label\"])"
      ],
      "metadata": {
        "id": "0FFBV53i4Q1o"
      },
      "execution_count": 6,
      "outputs": []
    },
    {
      "cell_type": "code",
      "source": [
        "annotation =[]\n",
        "for x in data:\n",
        "  annotation.append(x[\"annotation\"])"
      ],
      "metadata": {
        "id": "vFgmeIgn46Ty"
      },
      "execution_count": 7,
      "outputs": []
    },
    {
      "cell_type": "code",
      "source": [
        "attack =[]\n",
        "for x in data:\n",
        "  attack.append(x[\"attack\"])"
      ],
      "metadata": {
        "id": "WDl5sTWV6fN0"
      },
      "execution_count": 8,
      "outputs": []
    },
    {
      "cell_type": "code",
      "source": [
        "evidence = []\n",
        "for x in data:\n",
        "  evidence.append(x[\"evidence\"])"
      ],
      "metadata": {
        "id": "xyBH-I0w7b-x"
      },
      "execution_count": 9,
      "outputs": []
    },
    {
      "cell_type": "code",
      "source": [
        "import jieba.posseg as pseg\n",
        "import os\n",
        "import keras"
      ],
      "metadata": {
        "id": "Ky398WYLsy-A"
      },
      "execution_count": 10,
      "outputs": []
    },
    {
      "cell_type": "code",
      "source": [
        "def jieba_tokenizer(text):\n",
        "    words = pseg.cut(text)\n",
        "    return ' '.join([\n",
        "        word for word, flag in words if flag != 'x'])"
      ],
      "metadata": {
        "id": "eLUnEZfE_hZf"
      },
      "execution_count": 11,
      "outputs": []
    },
    {
      "cell_type": "code",
      "source": [
        "def process(data):\n",
        "    res = data.apply(jieba_tokenizer)\n",
        "    return res\n",
        "\n",
        "\n",
        "def check_merge_idx(data, res):\n",
        "    assert((data.index == res.index).all(), 'Something error when merge data')\n",
        "\n",
        "def parallelize(data, func):\n",
        "    from multiprocessing import cpu_count, Pool\n",
        "    cores = partitions = cpu_count()\n",
        "    data_split = np.array_split(data, partitions)\n",
        "    pool = Pool(cores)\n",
        "    res = pd.concat(pool.map(func, data_split))\n",
        "    pool.close()\n",
        "    pool.join()\n",
        "    check_merge_idx(data, res)\n",
        "    return res"
      ],
      "metadata": {
        "colab": {
          "base_uri": "https://localhost:8080/"
        },
        "id": "gOxB-qTa9CdA",
        "outputId": "108a0626-8803-4511-ccb4-adf04c46a5cf"
      },
      "execution_count": 12,
      "outputs": [
        {
          "output_type": "stream",
          "name": "stderr",
          "text": [
            "<ipython-input-12-2085024a8821>:7: SyntaxWarning: assertion is always true, perhaps remove parentheses?\n",
            "  assert((data.index == res.index).all(), 'Something error when merge data')\n"
          ]
        }
      ]
    },
    {
      "cell_type": "code",
      "source": [
        "d = {'title1_en': claims, 'title2_en': attack,'lable':labels}\n",
        "train = pd.DataFrame(data=d)\n",
        "train.head()"
      ],
      "metadata": {
        "colab": {
          "base_uri": "https://localhost:8080/",
          "height": 206
        },
        "id": "VXLZXdC_9kfl",
        "outputId": "f7a12b1c-416f-438e-ae6d-cde0f52d1d43"
      },
      "execution_count": 13,
      "outputs": [
        {
          "output_type": "execute_result",
          "data": {
            "text/plain": [
              "                                           title1_en              title2_en  \\\n",
              "0  There is a convicted statutory rapist called C...      there.is.a.called   \n",
              "1  There exists a producer and an actor called Si...  there.exists.a.called   \n",
              "2  Exotic Birds rejected to be an opening band fo...       word replacement   \n",
              "3  The Nice Guys is a 2016 American neo-noir acti...               Multihop   \n",
              "4  Rupert Murdoch's father was not connected to a...               Multihop   \n",
              "\n",
              "             lable  \n",
              "0  NOT ENOUGH INFO  \n",
              "1         SUPPORTS  \n",
              "2          REFUTES  \n",
              "3          REFUTES  \n",
              "4          REFUTES  "
            ],
            "text/html": [
              "\n",
              "  <div id=\"df-4a444110-2a53-494f-b11c-edf82d96b915\">\n",
              "    <div class=\"colab-df-container\">\n",
              "      <div>\n",
              "<style scoped>\n",
              "    .dataframe tbody tr th:only-of-type {\n",
              "        vertical-align: middle;\n",
              "    }\n",
              "\n",
              "    .dataframe tbody tr th {\n",
              "        vertical-align: top;\n",
              "    }\n",
              "\n",
              "    .dataframe thead th {\n",
              "        text-align: right;\n",
              "    }\n",
              "</style>\n",
              "<table border=\"1\" class=\"dataframe\">\n",
              "  <thead>\n",
              "    <tr style=\"text-align: right;\">\n",
              "      <th></th>\n",
              "      <th>title1_en</th>\n",
              "      <th>title2_en</th>\n",
              "      <th>lable</th>\n",
              "    </tr>\n",
              "  </thead>\n",
              "  <tbody>\n",
              "    <tr>\n",
              "      <th>0</th>\n",
              "      <td>There is a convicted statutory rapist called C...</td>\n",
              "      <td>there.is.a.called</td>\n",
              "      <td>NOT ENOUGH INFO</td>\n",
              "    </tr>\n",
              "    <tr>\n",
              "      <th>1</th>\n",
              "      <td>There exists a producer and an actor called Si...</td>\n",
              "      <td>there.exists.a.called</td>\n",
              "      <td>SUPPORTS</td>\n",
              "    </tr>\n",
              "    <tr>\n",
              "      <th>2</th>\n",
              "      <td>Exotic Birds rejected to be an opening band fo...</td>\n",
              "      <td>word replacement</td>\n",
              "      <td>REFUTES</td>\n",
              "    </tr>\n",
              "    <tr>\n",
              "      <th>3</th>\n",
              "      <td>The Nice Guys is a 2016 American neo-noir acti...</td>\n",
              "      <td>Multihop</td>\n",
              "      <td>REFUTES</td>\n",
              "    </tr>\n",
              "    <tr>\n",
              "      <th>4</th>\n",
              "      <td>Rupert Murdoch's father was not connected to a...</td>\n",
              "      <td>Multihop</td>\n",
              "      <td>REFUTES</td>\n",
              "    </tr>\n",
              "  </tbody>\n",
              "</table>\n",
              "</div>\n",
              "      <button class=\"colab-df-convert\" onclick=\"convertToInteractive('df-4a444110-2a53-494f-b11c-edf82d96b915')\"\n",
              "              title=\"Convert this dataframe to an interactive table.\"\n",
              "              style=\"display:none;\">\n",
              "        \n",
              "  <svg xmlns=\"http://www.w3.org/2000/svg\" height=\"24px\"viewBox=\"0 0 24 24\"\n",
              "       width=\"24px\">\n",
              "    <path d=\"M0 0h24v24H0V0z\" fill=\"none\"/>\n",
              "    <path d=\"M18.56 5.44l.94 2.06.94-2.06 2.06-.94-2.06-.94-.94-2.06-.94 2.06-2.06.94zm-11 1L8.5 8.5l.94-2.06 2.06-.94-2.06-.94L8.5 2.5l-.94 2.06-2.06.94zm10 10l.94 2.06.94-2.06 2.06-.94-2.06-.94-.94-2.06-.94 2.06-2.06.94z\"/><path d=\"M17.41 7.96l-1.37-1.37c-.4-.4-.92-.59-1.43-.59-.52 0-1.04.2-1.43.59L10.3 9.45l-7.72 7.72c-.78.78-.78 2.05 0 2.83L4 21.41c.39.39.9.59 1.41.59.51 0 1.02-.2 1.41-.59l7.78-7.78 2.81-2.81c.8-.78.8-2.07 0-2.86zM5.41 20L4 18.59l7.72-7.72 1.47 1.35L5.41 20z\"/>\n",
              "  </svg>\n",
              "      </button>\n",
              "      \n",
              "  <style>\n",
              "    .colab-df-container {\n",
              "      display:flex;\n",
              "      flex-wrap:wrap;\n",
              "      gap: 12px;\n",
              "    }\n",
              "\n",
              "    .colab-df-convert {\n",
              "      background-color: #E8F0FE;\n",
              "      border: none;\n",
              "      border-radius: 50%;\n",
              "      cursor: pointer;\n",
              "      display: none;\n",
              "      fill: #1967D2;\n",
              "      height: 32px;\n",
              "      padding: 0 0 0 0;\n",
              "      width: 32px;\n",
              "    }\n",
              "\n",
              "    .colab-df-convert:hover {\n",
              "      background-color: #E2EBFA;\n",
              "      box-shadow: 0px 1px 2px rgba(60, 64, 67, 0.3), 0px 1px 3px 1px rgba(60, 64, 67, 0.15);\n",
              "      fill: #174EA6;\n",
              "    }\n",
              "\n",
              "    [theme=dark] .colab-df-convert {\n",
              "      background-color: #3B4455;\n",
              "      fill: #D2E3FC;\n",
              "    }\n",
              "\n",
              "    [theme=dark] .colab-df-convert:hover {\n",
              "      background-color: #434B5C;\n",
              "      box-shadow: 0px 1px 3px 1px rgba(0, 0, 0, 0.15);\n",
              "      filter: drop-shadow(0px 1px 2px rgba(0, 0, 0, 0.3));\n",
              "      fill: #FFFFFF;\n",
              "    }\n",
              "  </style>\n",
              "\n",
              "      <script>\n",
              "        const buttonEl =\n",
              "          document.querySelector('#df-4a444110-2a53-494f-b11c-edf82d96b915 button.colab-df-convert');\n",
              "        buttonEl.style.display =\n",
              "          google.colab.kernel.accessAllowed ? 'block' : 'none';\n",
              "\n",
              "        async function convertToInteractive(key) {\n",
              "          const element = document.querySelector('#df-4a444110-2a53-494f-b11c-edf82d96b915');\n",
              "          const dataTable =\n",
              "            await google.colab.kernel.invokeFunction('convertToInteractive',\n",
              "                                                     [key], {});\n",
              "          if (!dataTable) return;\n",
              "\n",
              "          const docLinkHtml = 'Like what you see? Visit the ' +\n",
              "            '<a target=\"_blank\" href=https://colab.research.google.com/notebooks/data_table.ipynb>data table notebook</a>'\n",
              "            + ' to learn more about interactive tables.';\n",
              "          element.innerHTML = '';\n",
              "          dataTable['output_type'] = 'display_data';\n",
              "          await google.colab.output.renderOutput(dataTable, element);\n",
              "          const docLink = document.createElement('div');\n",
              "          docLink.innerHTML = docLinkHtml;\n",
              "          element.appendChild(docLink);\n",
              "        }\n",
              "      </script>\n",
              "    </div>\n",
              "  </div>\n",
              "  "
            ]
          },
          "metadata": {},
          "execution_count": 13
        }
      ]
    },
    {
      "cell_type": "code",
      "source": [
        "train['title1_tokenized'] = parallelize(train.loc[:, 'title1_en'], process)\n",
        "train['title2_tokenized'] = parallelize(train.loc[:, 'title2_en'], process)\n",
        "train.to_csv('tokenized_train.csv',index=True)"
      ],
      "metadata": {
        "colab": {
          "base_uri": "https://localhost:8080/"
        },
        "id": "dP22BFz9-RIT",
        "outputId": "04f559f7-e64b-46e7-9952-3f481c809467"
      },
      "execution_count": 14,
      "outputs": [
        {
          "output_type": "stream",
          "name": "stderr",
          "text": [
            "Building prefix dict from the default dictionary ...\n",
            "Building prefix dict from the default dictionary ...\n",
            "Loading model from cache /tmp/jieba.cache\n",
            "Loading model from cache /tmp/jieba.cache\n",
            "Loading model cost 2.070 seconds.\n",
            "Prefix dict has been built successfully.\n",
            "Loading model cost 2.211 seconds.\n",
            "Prefix dict has been built successfully.\n",
            "Building prefix dict from the default dictionary ...\n",
            "Building prefix dict from the default dictionary ...\n",
            "Loading model from cache /tmp/jieba.cache\n",
            "Loading model from cache /tmp/jieba.cache\n",
            "Loading model cost 2.236 seconds.\n",
            "Prefix dict has been built successfully.\n",
            "Loading model cost 2.298 seconds.\n",
            "Prefix dict has been built successfully.\n"
          ]
        }
      ]
    },
    {
      "cell_type": "code",
      "source": [
        "train[\"lable\"].replace({\"NOT ENOUGH INFO\":\"REFUTES\"}, inplace=True )\n",
        "train[\"lable\"].replace({\"Not Enough Info\":\"SUPPORTS\"}, inplace=True )"
      ],
      "metadata": {
        "id": "MyR5SLvHDQWT"
      },
      "execution_count": 15,
      "outputs": []
    },
    {
      "cell_type": "code",
      "source": [
        "train['lable'].value_counts()"
      ],
      "metadata": {
        "colab": {
          "base_uri": "https://localhost:8080/"
        },
        "id": "22Jd92piCxOz",
        "outputId": "367bbff5-61c5-46d0-f204-b139c8b880c6"
      },
      "execution_count": 16,
      "outputs": [
        {
          "output_type": "execute_result",
          "data": {
            "text/plain": [
              "REFUTES     750\n",
              "SUPPORTS    424\n",
              "Name: lable, dtype: int64"
            ]
          },
          "metadata": {},
          "execution_count": 16
        }
      ]
    },
    {
      "cell_type": "code",
      "execution_count": 17,
      "metadata": {
        "id": "5khRqvz_E-3W"
      },
      "outputs": [],
      "source": [
        "max_n_wor = 200\n",
        "tokenizer = keras.preprocessing.text.Tokenizer(num_words=max_n_wor)"
      ]
    },
    {
      "cell_type": "code",
      "execution_count": 18,
      "metadata": {
        "colab": {
          "base_uri": "https://localhost:8080/"
        },
        "id": "Lkge99eeFH8v",
        "outputId": "83090a4c-aadc-4b6a-ca01-ea62b2e87ba9"
      },
      "outputs": [
        {
          "output_type": "execute_result",
          "data": {
            "text/plain": [
              "(2348,)"
            ]
          },
          "metadata": {},
          "execution_count": 18
        }
      ],
      "source": [
        "raw_x1 = train.title1_tokenized\n",
        "raw_x2 = train.title2_tokenized\n",
        "corpus = pd.concat([\n",
        "    raw_x1, raw_x2])\n",
        "corpus.shape"
      ]
    },
    {
      "cell_type": "code",
      "execution_count": 19,
      "metadata": {
        "id": "0mOBDENQFTPp"
      },
      "outputs": [],
      "source": [
        "tokenizer.fit_on_texts(corpus)\n",
        "x1_tsm = tokenizer.texts_to_sequences(raw_x1)\n",
        "x2_tsm = tokenizer.texts_to_sequences(raw_x2)"
      ]
    },
    {
      "cell_type": "code",
      "execution_count": 20,
      "metadata": {
        "id": "8a3UIECdFduV"
      },
      "outputs": [],
      "source": [
        "MAX_SEQUENCE_LENGTH = 20\n",
        "x1_train = keras.preprocessing.sequence.pad_sequences(x1_tsm, maxlen=MAX_SEQUENCE_LENGTH)\n",
        "\n",
        "x2_train = keras.preprocessing.sequence.pad_sequences(x2_tsm, maxlen=MAX_SEQUENCE_LENGTH)"
      ]
    },
    {
      "cell_type": "code",
      "execution_count": 21,
      "metadata": {
        "colab": {
          "base_uri": "https://localhost:8080/"
        },
        "id": "-0yaLaWqF8bK",
        "outputId": "0127a649-c85d-4a8b-b685-132549117a5f"
      },
      "outputs": [
        {
          "output_type": "execute_result",
          "data": {
            "text/plain": [
              "array([0., 1., 0., 0., 0., 0., 0., 1., 1., 1., 0., 0., 1., 1., 0., 1., 0.,\n",
              "       1., 0., 0., 0., 0., 0., 0., 1., 1., 0., 1., 1., 0.], dtype=float32)"
            ]
          },
          "metadata": {},
          "execution_count": 21
        }
      ],
      "source": [
        "import numpy as np \n",
        "\n",
        "label_to_index = {\n",
        "    'REFUTES': 0, \n",
        "    'SUPPORTS': 1\n",
        "}\n",
        "\n",
        "y_train = train.lable.apply(\n",
        "    lambda x: label_to_index[x])\n",
        "\n",
        "y_train = np.asarray(y_train) \\\n",
        "            .astype('float32')\n",
        "y_train0 = y_train\n",
        "y_train[:30]"
      ]
    },
    {
      "cell_type": "code",
      "execution_count": 22,
      "metadata": {
        "id": "N2zgDipBGtlX"
      },
      "outputs": [],
      "source": [
        "from keras.utils import np_utils"
      ]
    },
    {
      "cell_type": "code",
      "execution_count": 23,
      "metadata": {
        "colab": {
          "base_uri": "https://localhost:8080/"
        },
        "id": "B7L2YoBBGYd_",
        "outputId": "1b5bf785-7074-427f-fbd1-e8564cae87c1"
      },
      "outputs": [
        {
          "output_type": "execute_result",
          "data": {
            "text/plain": [
              "(1174, 2)"
            ]
          },
          "metadata": {},
          "execution_count": 23
        }
      ],
      "source": [
        "y_train = keras.utils.np_utils.to_categorical(y_train)\n",
        "\n",
        "y_train.shape"
      ]
    },
    {
      "cell_type": "code",
      "source": [
        "from sklearn.model_selection import train_test_split\n",
        "train_set, test_set,train_set1,test_set1,target_train,target_test = train_test_split(x1_train, x2_train, y_train, test_size=0.1,random_state=42)\n",
        "print(target_train.shape,target_test.shape)\n",
        "print(train_set1.shape)\n",
        "print(test_set1.shape)\n",
        "print(test_set.shape)\n",
        "print(train_set.shape)"
      ],
      "metadata": {
        "colab": {
          "base_uri": "https://localhost:8080/"
        },
        "id": "pACo-wXzU-3w",
        "outputId": "5311bc1b-4c47-47be-9a87-b5d090c84d44"
      },
      "execution_count": 24,
      "outputs": [
        {
          "output_type": "stream",
          "name": "stdout",
          "text": [
            "(1056, 2) (118, 2)\n",
            "(1056, 20)\n",
            "(118, 20)\n",
            "(118, 20)\n",
            "(1056, 20)\n"
          ]
        }
      ]
    },
    {
      "cell_type": "code",
      "source": [
        "y_train0 = []\n",
        "for x in y_train:\n",
        "  y_train0.append(np.argmax(x))\n",
        "y_train0 = np.array(y_train0)\n"
      ],
      "metadata": {
        "id": "tuuLYCZIIcH5"
      },
      "execution_count": 25,
      "outputs": []
    },
    {
      "cell_type": "code",
      "source": [
        "y_val0 = []\n",
        "for x in target_test:\n",
        "  y_val0.append(np.argmax(x))\n",
        "y_val0 = np.array(y_val0)\n",
        "\n"
      ],
      "metadata": {
        "id": "3RPSKA_wNo3g"
      },
      "execution_count": 26,
      "outputs": []
    },
    {
      "cell_type": "code",
      "source": [
        "np.max(y_train0)"
      ],
      "metadata": {
        "colab": {
          "base_uri": "https://localhost:8080/"
        },
        "id": "dPpYXIO2JVrA",
        "outputId": "04bf6961-591f-4e16-9118-e932486f0a72"
      },
      "execution_count": 27,
      "outputs": [
        {
          "output_type": "execute_result",
          "data": {
            "text/plain": [
              "1"
            ]
          },
          "metadata": {},
          "execution_count": 27
        }
      ]
    },
    {
      "cell_type": "code",
      "source": [
        "print(x1_train[0])"
      ],
      "metadata": {
        "colab": {
          "base_uri": "https://localhost:8080/"
        },
        "id": "Vxo4DWzt2WTn",
        "outputId": "d1aba159-227d-4fea-f971-87d090c8b57b"
      },
      "execution_count": 28,
      "outputs": [
        {
          "output_type": "stream",
          "name": "stdout",
          "text": [
            "[  0   0   0   0   0   0   0   0   0   0   0   0   0   0   0   0   2   4\n",
            "   5 128]\n"
          ]
        }
      ]
    },
    {
      "cell_type": "code",
      "source": [
        "from sklearn import preprocessing\n",
        "x1_scaler = preprocessing.StandardScaler().fit(x1_train)\n",
        "x2_scaler = preprocessing.StandardScaler().fit(x2_train)\n",
        "X1_scaled = x1_scaler.transform(x1_train)\n",
        "X2_scaled = x2_scaler.transform(x2_train)\n",
        "print(X1_scaled[0])"
      ],
      "metadata": {
        "colab": {
          "base_uri": "https://localhost:8080/"
        },
        "id": "psnfxiwJwjyj",
        "outputId": "652a67ff-50ba-45f4-ff73-4441d5d537a6"
      },
      "execution_count": 29,
      "outputs": [
        {
          "output_type": "stream",
          "name": "stdout",
          "text": [
            "[-0.04615055 -0.05978386 -0.08258809 -0.09756401 -0.1156047  -0.14717971\n",
            " -0.17293853 -0.1921831  -0.23562758 -0.28012502 -0.35708167 -0.42716765\n",
            " -0.50023641 -0.55751778 -0.57636729 -0.66355117 -0.62715097 -0.60671176\n",
            " -0.70439305  1.6529113 ]\n"
          ]
        }
      ]
    },
    {
      "cell_type": "code",
      "source": [
        "from sklearn import preprocessing\n",
        "#x1_scaler = preprocessing.StandardScaler().fit(x1_val)\n",
        "#x2_scaler = preprocessing.StandardScaler().fit(x2_val)\n",
        "X1_scaled_val = x1_scaler.transform(test_set)\n",
        "X2_scaled_val = x2_scaler.transform(test_set1)\n",
        "print(X2_scaled_val[0])"
      ],
      "metadata": {
        "colab": {
          "base_uri": "https://localhost:8080/"
        },
        "id": "aJtKDZxbNJT0",
        "outputId": "19068116-a3aa-497a-dd43-ef05302fdfd6"
      },
      "execution_count": 30,
      "outputs": [
        {
          "output_type": "stream",
          "name": "stdout",
          "text": [
            "[ 0.          0.          0.          0.          0.          0.\n",
            "  0.          0.          0.          0.          0.         -0.19498577\n",
            " -0.18983372 -0.2506498  -0.3006588  -0.30153544 -0.28987849 -0.57914142\n",
            " -0.02018847 -0.42686623]\n"
          ]
        }
      ]
    },
    {
      "cell_type": "code",
      "source": [
        "print(x2_scaler.scale_)"
      ],
      "metadata": {
        "colab": {
          "base_uri": "https://localhost:8080/"
        },
        "id": "cpMvzL251CeN",
        "outputId": "bb4bf3b9-1ea6-480c-bdc2-c68863e10ffd"
      },
      "execution_count": 31,
      "outputs": [
        {
          "output_type": "stream",
          "name": "stdout",
          "text": [
            "[ 1.          1.          1.          1.          1.          1.\n",
            "  1.          1.          1.          1.          1.          0.37568809\n",
            "  3.38770438  3.63280635  2.90956738  8.59033218 21.90308556 11.30440369\n",
            " 22.48825202 30.26693387]\n"
          ]
        }
      ]
    },
    {
      "cell_type": "code",
      "source": [
        "print(raw_x1.shape)"
      ],
      "metadata": {
        "colab": {
          "base_uri": "https://localhost:8080/"
        },
        "id": "eIMuYQ3EWad0",
        "outputId": "9625142e-1c21-4e12-b050-d8fe38a2431f"
      },
      "execution_count": 32,
      "outputs": [
        {
          "output_type": "stream",
          "name": "stdout",
          "text": [
            "(1174,)\n"
          ]
        }
      ]
    },
    {
      "cell_type": "code",
      "source": [
        "print(raw_x2.shape)"
      ],
      "metadata": {
        "colab": {
          "base_uri": "https://localhost:8080/"
        },
        "id": "PHeIlmDHWazb",
        "outputId": "227e10bf-89eb-4024-8e09-8ef880e3fa06"
      },
      "execution_count": 33,
      "outputs": [
        {
          "output_type": "stream",
          "name": "stdout",
          "text": [
            "(1174,)\n"
          ]
        }
      ]
    },
    {
      "cell_type": "code",
      "source": [
        "from sklearn.decomposition import PCA"
      ],
      "metadata": {
        "id": "iXE8BfvfC_EP"
      },
      "execution_count": 34,
      "outputs": []
    },
    {
      "cell_type": "code",
      "source": [
        "pca = PCA()\n",
        "pca.fit(X1_scaled)\n",
        "cumsum = np.cumsum(pca.explained_variance_ratio_)\n",
        "d = np.argmax(cumsum >= 0.90) + 1\n",
        "print(d)"
      ],
      "metadata": {
        "colab": {
          "base_uri": "https://localhost:8080/"
        },
        "id": "njrB3fj9C_F3",
        "outputId": "db7509e7-2b95-485d-8b18-2c64e96ec92d"
      },
      "execution_count": 35,
      "outputs": [
        {
          "output_type": "stream",
          "name": "stdout",
          "text": [
            "16\n"
          ]
        }
      ]
    },
    {
      "cell_type": "code",
      "source": [
        "import matplotlib.pyplot as plt\n",
        "\n",
        "def plot_2d_space(X, y, label='Classes'):  \n",
        "  colors = ['#000000',\t'#800000']\n",
        "  markers = ['8', 'X', '*']\n",
        "  plt.figure(figsize=(8,8))\n",
        "  for l, c, m in zip(np.unique(y), colors, markers):\n",
        "    plt.scatter(\n",
        "              X[y==l, 0],\n",
        "              X[y==l, 1],\n",
        "              c=c, label=l ,marker=m,\n",
        "              )  \n",
        "  plt.title(label)\n",
        "  plt.xlabel('Variation of Data')\n",
        "  plt.ylabel('Variation of Data')\n",
        "  plt.legend(fontsize='medium',loc='best')\n",
        "  plt.show()"
      ],
      "metadata": {
        "id": "o-s4lxmUEpd3"
      },
      "execution_count": 36,
      "outputs": []
    },
    {
      "cell_type": "code",
      "source": [
        "from sklearn.decomposition import PCA\n",
        "\n",
        "pca = PCA(n_components=18)\n",
        "X = pca.fit_transform(X1_scaled)\n",
        "plot_2d_space(X, y_train0, 'Imbalanced dataset ')"
      ],
      "metadata": {
        "colab": {
          "base_uri": "https://localhost:8080/",
          "height": 513
        },
        "id": "NPctWAEWFZz_",
        "outputId": "90a55a75-9a68-4c45-ec91-8a1cae830f20"
      },
      "execution_count": 37,
      "outputs": [
        {
          "output_type": "display_data",
          "data": {
            "text/plain": [
              "<Figure size 576x576 with 1 Axes>"
            ],
            "image/png": "[encoded data removed]"
          },
          "metadata": {
            "needs_background": "light"
          }
        }
      ]
    },
    {
      "cell_type": "code",
      "source": [
        "from sklearn.decomposition import PCA\n",
        "\n",
        "pca = PCA(n_components=18)\n",
        "X2 = pca.fit_transform(X2_scaled)\n",
        "plot_2d_space(X2, y_train0, 'Imbalanced dataset ')"
      ],
      "metadata": {
        "colab": {
          "base_uri": "https://localhost:8080/",
          "height": 513
        },
        "id": "9MpQvwLSEpf4",
        "outputId": "972460f0-a552-4855-a26a-e3020a76055a"
      },
      "execution_count": 38,
      "outputs": [
        {
          "output_type": "display_data",
          "data": {
            "text/plain": [
              "<Figure size 576x576 with 1 Axes>"
            ],
            "image/png": "[encoded data removed]"
          },
          "metadata": {
            "needs_background": "light"
          }
        }
      ]
    },
    {
      "cell_type": "code",
      "source": [
        "from sklearn.decomposition import PCA\n",
        "\n",
        "pca = PCA(n_components=18)\n",
        "X3 = pca.fit_transform(X1_scaled_val)\n",
        "plot_2d_space(X3, y_val0, 'Imbalanced dataset ')"
      ],
      "metadata": {
        "colab": {
          "base_uri": "https://localhost:8080/",
          "height": 513
        },
        "id": "XQOH8JSVNe6f",
        "outputId": "ac7cb462-b69e-4999-faf3-3981554db26c"
      },
      "execution_count": 39,
      "outputs": [
        {
          "output_type": "display_data",
          "data": {
            "text/plain": [
              "<Figure size 576x576 with 1 Axes>"
            ],
            "image/png": "[encoded data removed]"
          },
          "metadata": {
            "needs_background": "light"
          }
        }
      ]
    },
    {
      "cell_type": "code",
      "source": [
        "from sklearn.decomposition import PCA\n",
        "\n",
        "pca = PCA(n_components=18)\n",
        "X4 = pca.fit_transform(X2_scaled_val)\n",
        "plot_2d_space(X4, y_val0, 'Imbalanced dataset ')"
      ],
      "metadata": {
        "colab": {
          "base_uri": "https://localhost:8080/",
          "height": 513
        },
        "id": "FqVy7w37N93U",
        "outputId": "b13c116a-3e57-4a03-a155-341c724c344d"
      },
      "execution_count": 40,
      "outputs": [
        {
          "output_type": "display_data",
          "data": {
            "text/plain": [
              "<Figure size 576x576 with 1 Axes>"
            ],
            "image/png": "[encoded data removed]"
          },
          "metadata": {
            "needs_background": "light"
          }
        }
      ]
    },
    {
      "cell_type": "code",
      "source": [
        "X_train_totall = np.array([X, X2])\n",
        "X_valid_totall = np.array([X3, X4])"
      ],
      "metadata": {
        "id": "7pHmiIbANjC9"
      },
      "execution_count": 41,
      "outputs": []
    },
    {
      "cell_type": "code",
      "source": [
        "X_train_totall = X_train_totall.reshape(X_train_totall.shape[1],X_train_totall.shape[0]*X_train_totall.shape[-1])\n"
      ],
      "metadata": {
        "id": "5RdnxhiJMaVd"
      },
      "execution_count": 42,
      "outputs": []
    },
    {
      "cell_type": "code",
      "source": [
        "X_valid_totall = X_valid_totall.reshape(X_valid_totall.shape[1],X_valid_totall.shape[0]*X_valid_totall.shape[-1])"
      ],
      "metadata": {
        "id": "GkKQ8w2wM3kV"
      },
      "execution_count": 43,
      "outputs": []
    },
    {
      "cell_type": "code",
      "source": [
        "print(X_train_totall.shape)\n",
        "print(X_valid_totall.shape)"
      ],
      "metadata": {
        "id": "d1nTp4HuNjEr",
        "colab": {
          "base_uri": "https://localhost:8080/"
        },
        "outputId": "d29a5f5c-39fe-409c-f0a7-d6df0c60f1c0"
      },
      "execution_count": 44,
      "outputs": [
        {
          "output_type": "stream",
          "name": "stdout",
          "text": [
            "(1174, 36)\n",
            "(118, 36)\n"
          ]
        }
      ]
    },
    {
      "cell_type": "code",
      "metadata": {
        "id": "B-4-u1wfVHdi"
      },
      "source": [
        "from sklearn.metrics import roc_curve, auc\n",
        "from sklearn.multiclass import OneVsRestClassifier\n",
        "from sklearn.svm import LinearSVC\n",
        "from sklearn.preprocessing import label_binarize\n",
        "from sklearn.model_selection import train_test_split\n",
        "import matplotlib.pyplot as plt"
      ],
      "execution_count": 45,
      "outputs": []
    },
    {
      "cell_type": "code",
      "metadata": {
        "id": "YgonSw7yWCsx"
      },
      "source": [
        "import time\n",
        "import numpy as np\n",
        "from sklearn.ensemble import BaggingClassifier, RandomForestClassifier\n",
        "from sklearn import datasets\n",
        "from sklearn.multiclass import OneVsRestClassifier\n",
        "from sklearn.svm import SVC\n",
        "import time\n",
        "import numpy as np\n",
        "from sklearn.ensemble import BaggingClassifier, RandomForestClassifier\n",
        "from sklearn import datasets\n",
        "from sklearn.multiclass import OneVsRestClassifier\n",
        "from sklearn.svm import SVC"
      ],
      "execution_count": 46,
      "outputs": []
    },
    {
      "cell_type": "code",
      "metadata": {
        "id": "mDxSALk7W_a6"
      },
      "source": [
        "from sklearn.ensemble import RandomForestClassifier\n",
        "from sklearn.ensemble import VotingClassifier\n",
        "from sklearn.linear_model import LogisticRegression\n",
        "from sklearn.svm import SVC\n",
        "from sklearn.model_selection import GridSearchCV\n",
        "from sklearn.linear_model import LogisticRegression\n",
        "from sklearn.naive_bayes import GaussianNB \n",
        "from sklearn.ensemble import RandomForestClassifier"
      ],
      "execution_count": 47,
      "outputs": []
    },
    {
      "cell_type": "code",
      "source": [
        "from sklearn.metrics import accuracy_score"
      ],
      "metadata": {
        "id": "W72ZqjiLTTMB"
      },
      "execution_count": 48,
      "outputs": []
    },
    {
      "cell_type": "code",
      "metadata": {
        "id": "lvuFnSyYIkUl"
      },
      "source": [
        "RandomForest=RandomForestClassifier(bootstrap= False,max_depth= 110,max_features= 1,min_samples_leaf= 1,min_samples_split= 5,n_estimators= 50)"
      ],
      "execution_count": 49,
      "outputs": []
    },
    {
      "cell_type": "code",
      "source": [
        "RandomForest.fit(X_train_totall, y_train0)\n",
        "y_pred_trainsm_rnd = RandomForest.predict(X_train_totall)\n",
        "y_predsm_rnd = RandomForest.predict(X_valid_totall)\n",
        "accuracy_trainsm = accuracy_score(y_train0, y_pred_trainsm_rnd)\n",
        "accuracysm = accuracy_score(y_val0, y_predsm_rnd)\n",
        "print(\"Accuracysm of random_forest: %.2f%%\" % (accuracysm * 100.0))\n",
        "print(\"Accuracy trainsm of random_forest: %.2f%%\" % (accuracy_trainsm * 100.0))"
      ],
      "metadata": {
        "colab": {
          "base_uri": "https://localhost:8080/"
        },
        "id": "-NDp5XX6N58a",
        "outputId": "8b7477c4-3002-4370-f4cd-71645c263453"
      },
      "execution_count": 50,
      "outputs": [
        {
          "output_type": "stream",
          "name": "stdout",
          "text": [
            "Accuracysm of random_forest: 61.86%\n",
            "Accuracy trainsm of random_forest: 93.70%\n"
          ]
        }
      ]
    },
    {
      "cell_type": "code",
      "metadata": {
        "colab": {
          "base_uri": "https://localhost:8080/"
        },
        "id": "MercEAgaMdLM",
        "outputId": "4eb14de2-ab72-4fea-bb54-45bded68e1ca"
      },
      "source": [
        "!pip install scikit-plot"
      ],
      "execution_count": 51,
      "outputs": [
        {
          "output_type": "stream",
          "name": "stdout",
          "text": [
            "Requirement already satisfied: scikit-plot in /usr/local/lib/python3.7/dist-packages (0.3.7)\n",
            "Requirement already satisfied: scikit-learn>=0.18 in /usr/local/lib/python3.7/dist-packages (from scikit-plot) (1.0.2)\n",
            "Requirement already satisfied: joblib>=0.10 in /usr/local/lib/python3.7/dist-packages (from scikit-plot) (1.1.0)\n",
            "Requirement already satisfied: matplotlib>=1.4.0 in /usr/local/lib/python3.7/dist-packages (from scikit-plot) (3.2.2)\n",
            "Requirement already satisfied: scipy>=0.9 in /usr/local/lib/python3.7/dist-packages (from scikit-plot) (1.4.1)\n",
            "Requirement already satisfied: pyparsing!=2.0.4,!=2.1.2,!=2.1.6,>=2.0.1 in /usr/local/lib/python3.7/dist-packages (from matplotlib>=1.4.0->scikit-plot) (3.0.8)\n",
            "Requirement already satisfied: kiwisolver>=1.0.1 in /usr/local/lib/python3.7/dist-packages (from matplotlib>=1.4.0->scikit-plot) (1.4.2)\n",
            "Requirement already satisfied: numpy>=1.11 in /usr/local/lib/python3.7/dist-packages (from matplotlib>=1.4.0->scikit-plot) (1.21.6)\n",
            "Requirement already satisfied: python-dateutil>=2.1 in /usr/local/lib/python3.7/dist-packages (from matplotlib>=1.4.0->scikit-plot) (2.8.2)\n",
            "Requirement already satisfied: cycler>=0.10 in /usr/local/lib/python3.7/dist-packages (from matplotlib>=1.4.0->scikit-plot) (0.11.0)\n",
            "Requirement already satisfied: typing-extensions in /usr/local/lib/python3.7/dist-packages (from kiwisolver>=1.0.1->matplotlib>=1.4.0->scikit-plot) (4.2.0)\n",
            "Requirement already satisfied: six>=1.5 in /usr/local/lib/python3.7/dist-packages (from python-dateutil>=2.1->matplotlib>=1.4.0->scikit-plot) (1.15.0)\n",
            "Requirement already satisfied: threadpoolctl>=2.0.0 in /usr/local/lib/python3.7/dist-packages (from scikit-learn>=0.18->scikit-plot) (3.1.0)\n"
          ]
        }
      ]
    },
    {
      "cell_type": "code",
      "metadata": {
        "id": "cAoWmME1Maaj"
      },
      "source": [
        "import scikitplot as skplt\n",
        "import matplotlib.pyplot as plt"
      ],
      "execution_count": 52,
      "outputs": []
    },
    {
      "cell_type": "code",
      "metadata": {
        "id": "UiX8cs4raROm"
      },
      "source": [
        "probas = RandomForest.predict_proba(X_valid_totall)"
      ],
      "execution_count": 53,
      "outputs": []
    },
    {
      "cell_type": "code",
      "source": [
        "y_predsm = RandomForest.predict(X_valid_totall)"
      ],
      "metadata": {
        "id": "WBKcLQS4U3Cm"
      },
      "execution_count": 54,
      "outputs": []
    },
    {
      "cell_type": "code",
      "metadata": {
        "id": "zYjStObvZAY0",
        "colab": {
          "base_uri": "https://localhost:8080/"
        },
        "outputId": "55fdaf9b-d73e-4d14-fa2b-9be19af453fd"
      },
      "source": [
        "y_testsm = y_val0.reshape(y_val0.shape[0])\n",
        "y_predsm = y_predsm.reshape(y_testsm.shape[0])\n",
        "print(y_testsm.shape,y_predsm.shape)\n"
      ],
      "execution_count": 55,
      "outputs": [
        {
          "output_type": "stream",
          "name": "stdout",
          "text": [
            "(118,) (118,)\n"
          ]
        }
      ]
    },
    {
      "cell_type": "code",
      "metadata": {
        "id": "VgTUTviOQZxR",
        "colab": {
          "base_uri": "https://localhost:8080/",
          "height": 312
        },
        "outputId": "03ca2e91-ef6b-4f4e-9abe-0a6082672ebb"
      },
      "source": [
        "skplt.metrics.plot_precision_recall(y_testsm,probas)"
      ],
      "execution_count": 56,
      "outputs": [
        {
          "output_type": "execute_result",
          "data": {
            "text/plain": [
              "<matplotlib.axes._subplots.AxesSubplot at 0x7ff572182c10>"
            ]
          },
          "metadata": {},
          "execution_count": 56
        },
        {
          "output_type": "display_data",
          "data": {
            "text/plain": [
              "<Figure size 432x288 with 1 Axes>"
            ],
            "image/png": "[encoded data removed]"
          },
          "metadata": {
            "needs_background": "light"
          }
        }
      ]
    },
    {
      "cell_type": "code",
      "metadata": {
        "id": "ON4XCzMcQvLH",
        "colab": {
          "base_uri": "https://localhost:8080/",
          "height": 295
        },
        "outputId": "59e4d4ff-f8a1-407d-f204-64bf1e5f6d07"
      },
      "source": [
        "skplt.metrics.plot_confusion_matrix(y_testsm,y_predsm, normalize=True, cmap='hot_r')\n",
        "plt.show()\n"
      ],
      "execution_count": 57,
      "outputs": [
        {
          "output_type": "display_data",
          "data": {
            "text/plain": [
              "<Figure size 432x288 with 2 Axes>"
            ],
            "image/png": "[encoded data removed]"
          },
          "metadata": {
            "needs_background": "light"
          }
        }
      ]
    },
    {
      "cell_type": "code",
      "metadata": {
        "id": "qGo1leqKavZc",
        "colab": {
          "base_uri": "https://localhost:8080/",
          "height": 513
        },
        "outputId": "27dfddb5-ec9b-4654-8bf1-7a159dbe5e18"
      },
      "source": [
        "skplt.metrics.plot_roc_curve(y_testsm,probas,title=\"ROC Curves with random forest\", cmap='Blues', figsize=[7,7])\n",
        "plt.show()"
      ],
      "execution_count": 58,
      "outputs": [
        {
          "output_type": "stream",
          "name": "stderr",
          "text": [
            "/usr/local/lib/python3.7/dist-packages/sklearn/utils/deprecation.py:87: FutureWarning: Function plot_roc_curve is deprecated; This will be removed in v0.5.0. Please use scikitplot.metrics.plot_roc instead.\n",
            "  warnings.warn(msg, category=FutureWarning)\n"
          ]
        },
        {
          "output_type": "display_data",
          "data": {
            "text/plain": [
              "<Figure size 504x504 with 1 Axes>"
            ],
            "image/png": "[encoded data removed]"
          },
          "metadata": {
            "needs_background": "light"
          }
        }
      ]
    },
    {
      "cell_type": "code",
      "source": [
        "y_score1 =RandomForest.predict_proba(X_valid_totall)\n",
        "print(y_score1.shape)\n",
        "print(RandomForest.predict(X_valid_totall).shape)"
      ],
      "metadata": {
        "colab": {
          "base_uri": "https://localhost:8080/"
        },
        "id": "Yqq7CTU5WUs6",
        "outputId": "5fc1d02b-3e0d-41c3-ac4c-3a21861c8214"
      },
      "execution_count": 59,
      "outputs": [
        {
          "output_type": "stream",
          "name": "stdout",
          "text": [
            "(118, 2)\n",
            "(118,)\n"
          ]
        }
      ]
    },
    {
      "cell_type": "code",
      "source": [
        "from sklearn.metrics import classification_report\n",
        "target_names = ['class 0', 'class 1']\n",
        "print(classification_report(y_val0, RandomForest.predict(X_valid_totall), target_names=target_names))"
      ],
      "metadata": {
        "colab": {
          "base_uri": "https://localhost:8080/"
        },
        "id": "PUsJtTPKThkd",
        "outputId": "3dd19829-af8f-43cf-c49c-99780ca1cbe4"
      },
      "execution_count": 60,
      "outputs": [
        {
          "output_type": "stream",
          "name": "stdout",
          "text": [
            "              precision    recall  f1-score   support\n",
            "\n",
            "     class 0       0.64      0.93      0.76        76\n",
            "     class 1       0.29      0.05      0.08        42\n",
            "\n",
            "    accuracy                           0.62       118\n",
            "   macro avg       0.46      0.49      0.42       118\n",
            "weighted avg       0.51      0.62      0.52       118\n",
            "\n"
          ]
        }
      ]
    },
    {
      "cell_type": "code",
      "metadata": {
        "id": "zCwtYVlqv906",
        "colab": {
          "base_uri": "https://localhost:8080/"
        },
        "outputId": "54e95ff5-b034-40c3-f299-95d816ad29c1"
      },
      "source": [
        "from sklearn.neighbors import KNeighborsClassifier\n",
        "\n",
        "#Create KNN Classifier\n",
        "knn = KNeighborsClassifier(n_neighbors=3)\n",
        "\n",
        "#Train the model using the training sets\n",
        "knn.fit(X_train_totall, y_train0)"
      ],
      "execution_count": 61,
      "outputs": [
        {
          "output_type": "execute_result",
          "data": {
            "text/plain": [
              "KNeighborsClassifier(n_neighbors=3)"
            ]
          },
          "metadata": {},
          "execution_count": 61
        }
      ]
    },
    {
      "cell_type": "code",
      "metadata": {
        "id": "dPn7MDlb0Z2b"
      },
      "source": [
        "from sklearn.cluster import MiniBatchKMeans\n",
        "n_clusters=3 \n",
        "minibatch_kmeans = MiniBatchKMeans(n_clusters)\n",
        "minibatch_kmeans.fit(X_train_totall)\n",
        "from sklearn.metrics import silhouette_score\n",
        "#print(f'silhouette_score for {n_clusters} of cluster',silhouette_score(X_train_totall, minibatch_kmeans.labels_))\n"
      ],
      "execution_count": 62,
      "outputs": []
    },
    {
      "cell_type": "code",
      "source": [
        "from sklearn import metrics\n",
        "y_pred_test = knn.predict(X_valid_totall)\n",
        "#print(\"Accuracy for train set:\",metrics.accuracy_score(y_train0, y_pred))\n",
        "print(\"Accuracy for test set:\",metrics.accuracy_score(y_val0, y_pred_test))"
      ],
      "metadata": {
        "colab": {
          "base_uri": "https://localhost:8080/"
        },
        "id": "kVGPY8xLN6AZ",
        "outputId": "a174ffe6-0897-4c7a-f79d-74fa242feb51"
      },
      "execution_count": 63,
      "outputs": [
        {
          "output_type": "stream",
          "name": "stdout",
          "text": [
            "Accuracy for test set: 0.5508474576271186\n"
          ]
        }
      ]
    },
    {
      "cell_type": "code",
      "metadata": {
        "id": "I1ftx7f6MFXE"
      },
      "source": [
        "probas = knn.predict_proba(X_valid_totall)"
      ],
      "execution_count": 64,
      "outputs": []
    },
    {
      "cell_type": "code",
      "source": [
        "y_predsm = knn.predict(X_valid_totall)"
      ],
      "metadata": {
        "id": "uZRliJxRZF3Y"
      },
      "execution_count": 65,
      "outputs": []
    },
    {
      "cell_type": "code",
      "metadata": {
        "colab": {
          "base_uri": "https://localhost:8080/"
        },
        "outputId": "93dc2d75-00bd-4bee-8362-761d998aada8",
        "id": "VbD5FhUwZF3p"
      },
      "source": [
        "y_testsm = y_val0.reshape(y_val0.shape[0])\n",
        "y_predsm = y_predsm.reshape(y_testsm.shape[0])\n",
        "print(y_testsm.shape,y_predsm.shape)\n"
      ],
      "execution_count": 66,
      "outputs": [
        {
          "output_type": "stream",
          "name": "stdout",
          "text": [
            "(118,) (118,)\n"
          ]
        }
      ]
    },
    {
      "cell_type": "code",
      "metadata": {
        "id": "ThpQd4FyMmR-",
        "colab": {
          "base_uri": "https://localhost:8080/",
          "height": 312
        },
        "outputId": "21c54937-b7fe-4206-faf5-432985228d0f"
      },
      "source": [
        "skplt.metrics.plot_precision_recall(y_testsm,probas)"
      ],
      "execution_count": 67,
      "outputs": [
        {
          "output_type": "execute_result",
          "data": {
            "text/plain": [
              "<matplotlib.axes._subplots.AxesSubplot at 0x7ff56dee5850>"
            ]
          },
          "metadata": {},
          "execution_count": 67
        },
        {
          "output_type": "display_data",
          "data": {
            "text/plain": [
              "<Figure size 432x288 with 1 Axes>"
            ],
            "image/png": "[encoded data removed]"
          },
          "metadata": {
            "needs_background": "light"
          }
        }
      ]
    },
    {
      "cell_type": "code",
      "metadata": {
        "id": "J4-e7yHfMpmP",
        "colab": {
          "base_uri": "https://localhost:8080/",
          "height": 295
        },
        "outputId": "d221a159-36b5-4e2d-d65f-a36d1c74c461"
      },
      "source": [
        "skplt.metrics.plot_confusion_matrix(y_testsm,y_predsm, normalize=True, cmap='hot_r')\n",
        "plt.show()"
      ],
      "execution_count": 68,
      "outputs": [
        {
          "output_type": "display_data",
          "data": {
            "text/plain": [
              "<Figure size 432x288 with 2 Axes>"
            ],
            "image/png": "[encoded data removed]"
          },
          "metadata": {
            "needs_background": "light"
          }
        }
      ]
    },
    {
      "cell_type": "code",
      "metadata": {
        "id": "40DIpG68MtAq",
        "colab": {
          "base_uri": "https://localhost:8080/",
          "height": 513
        },
        "outputId": "014d43b9-ef63-4ff0-a403-03c89582ad9a"
      },
      "source": [
        "skplt.metrics.plot_roc_curve(y_testsm,probas,title=\"ROC Curves with KNN Classifeir\", cmap='Blues', figsize=[7,7])\n",
        "plt.show()"
      ],
      "execution_count": 69,
      "outputs": [
        {
          "output_type": "stream",
          "name": "stderr",
          "text": [
            "/usr/local/lib/python3.7/dist-packages/sklearn/utils/deprecation.py:87: FutureWarning: Function plot_roc_curve is deprecated; This will be removed in v0.5.0. Please use scikitplot.metrics.plot_roc instead.\n",
            "  warnings.warn(msg, category=FutureWarning)\n"
          ]
        },
        {
          "output_type": "display_data",
          "data": {
            "text/plain": [
              "<Figure size 504x504 with 1 Axes>"
            ],
            "image/png": "[encoded data removed]"
          },
          "metadata": {
            "needs_background": "light"
          }
        }
      ]
    },
    {
      "cell_type": "code",
      "source": [
        "from sklearn.metrics import classification_report\n",
        "target_names = ['class 0', 'class 1']\n",
        "print(classification_report(y_val0, y_predsm, target_names=target_names))"
      ],
      "metadata": {
        "colab": {
          "base_uri": "https://localhost:8080/"
        },
        "id": "Q6c_yO3hN6FT",
        "outputId": "40c42dec-2d62-42ee-ee91-b908a64cf798"
      },
      "execution_count": 70,
      "outputs": [
        {
          "output_type": "stream",
          "name": "stdout",
          "text": [
            "              precision    recall  f1-score   support\n",
            "\n",
            "     class 0       0.64      0.68      0.66        76\n",
            "     class 1       0.35      0.31      0.33        42\n",
            "\n",
            "    accuracy                           0.55       118\n",
            "   macro avg       0.50      0.50      0.50       118\n",
            "weighted avg       0.54      0.55      0.54       118\n",
            "\n"
          ]
        }
      ]
    },
    {
      "cell_type": "code",
      "source": [
        "from imblearn.under_sampling import RandomUnderSampler\n",
        "\n",
        "OS = RandomUnderSampler(sampling_strategy='auto', random_state=0)\n",
        "X_rus, y_rus = OS.fit_resample(X_train_totall, y_train0)\n",
        "print(X_rus.shape, y_rus.shape)"
      ],
      "metadata": {
        "colab": {
          "base_uri": "https://localhost:8080/"
        },
        "id": "dfR0zYwdNw8e",
        "outputId": "ee44cc92-3c2f-456b-b69a-cdc2d3e2f46b"
      },
      "execution_count": 71,
      "outputs": [
        {
          "output_type": "stream",
          "name": "stdout",
          "text": [
            "(848, 36) (848,)\n"
          ]
        }
      ]
    },
    {
      "cell_type": "code",
      "source": [
        "from sklearn.ensemble import AdaBoostClassifier"
      ],
      "metadata": {
        "id": "1axn5kx-gS42"
      },
      "execution_count": 72,
      "outputs": []
    },
    {
      "cell_type": "code",
      "source": [
        "clf = AdaBoostClassifier(n_estimators=100, random_state=0)\n",
        "clf.fit(X_rus, y_rus)"
      ],
      "metadata": {
        "colab": {
          "base_uri": "https://localhost:8080/"
        },
        "id": "Jq3MWXqvgTCX",
        "outputId": "7a57a65d-df23-4b9b-e6a5-9c4ef40ca16d"
      },
      "execution_count": 73,
      "outputs": [
        {
          "output_type": "execute_result",
          "data": {
            "text/plain": [
              "AdaBoostClassifier(n_estimators=100, random_state=0)"
            ]
          },
          "metadata": {},
          "execution_count": 73
        }
      ]
    },
    {
      "cell_type": "code",
      "source": [
        "y_pred_trainsm_rnd = clf.predict(X_rus)\n",
        "y_predsm_rnd = clf.predict(X_valid_totall)\n",
        "accuracy_trainsm = accuracy_score(y_rus, y_pred_trainsm_rnd)\n",
        "accuracysm = accuracy_score(y_val0, y_predsm_rnd)\n",
        "print(\"Accuracysm of random_forest: %.2f%%\" % (accuracysm * 100.0))\n",
        "print(\"Accuracy trainsm of random_forest: %.2f%%\" % (accuracy_trainsm * 100.0))"
      ],
      "metadata": {
        "colab": {
          "base_uri": "https://localhost:8080/"
        },
        "id": "d-IlmqG7ghKF",
        "outputId": "aabd83a8-110a-4135-c6b8-f5aff99ab247"
      },
      "execution_count": 74,
      "outputs": [
        {
          "output_type": "stream",
          "name": "stdout",
          "text": [
            "Accuracysm of random_forest: 50.85%\n",
            "Accuracy trainsm of random_forest: 75.00%\n"
          ]
        }
      ]
    },
    {
      "cell_type": "code",
      "metadata": {
        "id": "0Hs69oH-hoAz"
      },
      "source": [
        "probas = clf.predict_proba(X_valid_totall)"
      ],
      "execution_count": 75,
      "outputs": []
    },
    {
      "cell_type": "code",
      "source": [
        "y_predsm = clf.predict(X_valid_totall)"
      ],
      "metadata": {
        "id": "7iINWcvfhoAz"
      },
      "execution_count": 76,
      "outputs": []
    },
    {
      "cell_type": "code",
      "metadata": {
        "colab": {
          "base_uri": "https://localhost:8080/"
        },
        "outputId": "ffe7e321-1bb7-437e-f126-667fceb788c0",
        "id": "tEhoYZyvhoAz"
      },
      "source": [
        "y_testsm = y_val0.reshape(y_val0.shape[0])\n",
        "y_predsm = y_predsm.reshape(y_testsm.shape[0])\n",
        "print(y_testsm.shape,y_predsm.shape)\n"
      ],
      "execution_count": 77,
      "outputs": [
        {
          "output_type": "stream",
          "name": "stdout",
          "text": [
            "(118,) (118,)\n"
          ]
        }
      ]
    },
    {
      "cell_type": "code",
      "metadata": {
        "colab": {
          "base_uri": "https://localhost:8080/",
          "height": 312
        },
        "outputId": "ca26c4b7-e55c-4e26-b7ce-44c4b75b4421",
        "id": "C9k4si6OhoAz"
      },
      "source": [
        "skplt.metrics.plot_precision_recall(y_testsm,probas)"
      ],
      "execution_count": 78,
      "outputs": [
        {
          "output_type": "execute_result",
          "data": {
            "text/plain": [
              "<matplotlib.axes._subplots.AxesSubplot at 0x7ff56dcd3190>"
            ]
          },
          "metadata": {},
          "execution_count": 78
        },
        {
          "output_type": "display_data",
          "data": {
            "text/plain": [
              "<Figure size 432x288 with 1 Axes>"
            ],
            "image/png": "[encoded data removed]"
          },
          "metadata": {
            "needs_background": "light"
          }
        }
      ]
    },
    {
      "cell_type": "code",
      "metadata": {
        "colab": {
          "base_uri": "https://localhost:8080/",
          "height": 295
        },
        "outputId": "d57cb70e-c652-45f6-d72f-4c56c70daf35",
        "id": "jLw99q_khoA0"
      },
      "source": [
        "skplt.metrics.plot_confusion_matrix(y_testsm,y_predsm, normalize=True, cmap='Dark2')\n",
        "plt.show()"
      ],
      "execution_count": 79,
      "outputs": [
        {
          "output_type": "display_data",
          "data": {
            "text/plain": [
              "<Figure size 432x288 with 2 Axes>"
            ],
            "image/png": "[encoded data removed]"
          },
          "metadata": {
            "needs_background": "light"
          }
        }
      ]
    },
    {
      "cell_type": "code",
      "metadata": {
        "colab": {
          "base_uri": "https://localhost:8080/",
          "height": 513
        },
        "outputId": "436de1ff-ba06-4679-8af1-1632c71418b1",
        "id": "AwfXhsXXhoA0"
      },
      "source": [
        "skplt.metrics.plot_roc_curve(y_testsm,probas,title=\"ROC Curves with adaboost Classifeir\", cmap='Blues', figsize=[7,7])\n",
        "plt.show()"
      ],
      "execution_count": 80,
      "outputs": [
        {
          "output_type": "stream",
          "name": "stderr",
          "text": [
            "/usr/local/lib/python3.7/dist-packages/sklearn/utils/deprecation.py:87: FutureWarning: Function plot_roc_curve is deprecated; This will be removed in v0.5.0. Please use scikitplot.metrics.plot_roc instead.\n",
            "  warnings.warn(msg, category=FutureWarning)\n"
          ]
        },
        {
          "output_type": "display_data",
          "data": {
            "text/plain": [
              "<Figure size 504x504 with 1 Axes>"
            ],
            "image/png": "[encoded data removed]"
          },
          "metadata": {
            "needs_background": "light"
          }
        }
      ]
    },
    {
      "cell_type": "code",
      "source": [
        "from sklearn.metrics import classification_report\n",
        "target_names = ['class 0', 'class 1']\n",
        "print(classification_report(y_val0, y_predsm, target_names=target_names))"
      ],
      "metadata": {
        "colab": {
          "base_uri": "https://localhost:8080/"
        },
        "outputId": "ec4fbf52-2eee-4141-8307-6a99eaed4e9e",
        "id": "qi4tteOuhoA0"
      },
      "execution_count": 81,
      "outputs": [
        {
          "output_type": "stream",
          "name": "stdout",
          "text": [
            "              precision    recall  f1-score   support\n",
            "\n",
            "     class 0       0.70      0.41      0.52        76\n",
            "     class 1       0.39      0.69      0.50        42\n",
            "\n",
            "    accuracy                           0.51       118\n",
            "   macro avg       0.55      0.55      0.51       118\n",
            "weighted avg       0.59      0.51      0.51       118\n",
            "\n"
          ]
        }
      ]
    },
    {
      "cell_type": "code",
      "source": [
        "from keras import Input\n",
        "from keras.layers import Embedding,LSTM, concatenate, Dense\n",
        "from keras.models import Model"
      ],
      "metadata": {
        "id": "UAj2QCY4XoLU"
      },
      "execution_count": 82,
      "outputs": []
    },
    {
      "cell_type": "code",
      "source": [
        "class_n = 3\n",
        "word_max = 2000\n",
        "Sequn_len = 20\n",
        "Emb_d = 256\n",
        "Hid_un = 128"
      ],
      "metadata": {
        "id": "ywiD6Oc9X2OK"
      },
      "execution_count": 83,
      "outputs": []
    },
    {
      "cell_type": "code",
      "execution_count": 84,
      "metadata": {
        "colab": {
          "base_uri": "https://localhost:8080/"
        },
        "id": "DIhpQ0wlHVA-",
        "outputId": "6ab36d61-f226-4b7f-cbfa-a289747b457e"
      },
      "outputs": [
        {
          "output_type": "stream",
          "name": "stdout",
          "text": [
            "Model: \"model\"\n",
            "__________________________________________________________________________________________________\n",
            " Layer (type)                   Output Shape         Param #     Connected to                     \n",
            "==================================================================================================\n",
            " input_1 (InputLayer)           [(None, 20)]         0           []                               \n",
            "                                                                                                  \n",
            " input_2 (InputLayer)           [(None, 20)]         0           []                               \n",
            "                                                                                                  \n",
            " embedding (Embedding)          (None, 20, 256)      2560000     ['input_1[0][0]',                \n",
            "                                                                  'input_2[0][0]']                \n",
            "                                                                                                  \n",
            " lstm (LSTM)                    (None, 128)          197120      ['embedding[0][0]',              \n",
            "                                                                  'embedding[1][0]']              \n",
            "                                                                                                  \n",
            " concatenate (Concatenate)      (None, 256)          0           ['lstm[0][0]',                   \n",
            "                                                                  'lstm[1][0]']                   \n",
            "                                                                                                  \n",
            " dense (Dense)                  (None, 2)            514         ['concatenate[0][0]']            \n",
            "                                                                                                  \n",
            "==================================================================================================\n",
            "Total params: 2,757,634\n",
            "Trainable params: 2,757,634\n",
            "Non-trainable params: 0\n",
            "__________________________________________________________________________________________________\n"
          ]
        }
      ],
      "source": [
        "\n",
        "from keras import Input\n",
        "from keras.layers import Embedding,LSTM, concatenate, Dense\n",
        "from keras.models import Model\n",
        "\n",
        "tp = Input(\n",
        "    shape=(20, ), \n",
        "    dtype='int32')\n",
        "bp = Input(\n",
        "    shape=(20, ), \n",
        "    dtype='int32')\n",
        "\n",
        "e__m = Embedding(\n",
        "    10000, 256)\n",
        "t_e = e__m(\n",
        "    tp)\n",
        "b_e= e__m(\n",
        "    bp)\n",
        "\n",
        "ls = LSTM(128)\n",
        "t_o= ls(t_e)\n",
        "b_o = ls(b_e)\n",
        "\n",
        "mer = concatenate(\n",
        "    [t_o, b_o], \n",
        "    axis=-1)\n",
        "\n",
        "d =  Dense(\n",
        "    units=2, \n",
        "    activation='softmax')\n",
        "out = d(mer)\n",
        "\n",
        "model = Model(\n",
        "    inputs=[tp, bp], \n",
        "    outputs=out)\n",
        "\n",
        "model.summary()"
      ]
    },
    {
      "cell_type": "code",
      "execution_count": 85,
      "metadata": {
        "colab": {
          "base_uri": "https://localhost:8080/"
        },
        "id": "3il7ou8aGyCg",
        "outputId": "510e464a-4473-48d4-9cff-7ebff5af4d8f"
      },
      "outputs": [
        {
          "output_type": "stream",
          "name": "stderr",
          "text": [
            "/usr/local/lib/python3.7/dist-packages/keras/optimizer_v2/adam.py:105: UserWarning: The `lr` argument is deprecated, use `learning_rate` instead.\n",
            "  super(Adam, self).__init__(name, **kwargs)\n"
          ]
        }
      ],
      "source": [
        "from tensorflow.keras.optimizers import Adam\n",
        "learn = 1e-3\n",
        "opt = Adam(lr=learn, decay=0.01)\n",
        "model.compile(\n",
        "    optimizer=opt,\n",
        "    loss='categorical_crossentropy',\n",
        "    metrics=['accuracy'])"
      ]
    },
    {
      "cell_type": "code",
      "execution_count": 86,
      "metadata": {
        "colab": {
          "base_uri": "https://localhost:8080/"
        },
        "id": "3fR-sGvJGe4U",
        "outputId": "8aebf51a-a614-4ae7-86ad-67466328730d"
      },
      "outputs": [
        {
          "output_type": "stream",
          "name": "stdout",
          "text": [
            "Epoch 1/50\n",
            "37/37 [==============================] - 9s 62ms/step - loss: 0.6473 - accuracy: 0.6320 - val_loss: 0.5964 - val_accuracy: 0.6441\n",
            "Epoch 2/50\n",
            "37/37 [==============================] - 1s 19ms/step - loss: 0.5663 - accuracy: 0.6976 - val_loss: 0.5058 - val_accuracy: 0.7542\n",
            "Epoch 3/50\n",
            "37/37 [==============================] - 1s 18ms/step - loss: 0.5049 - accuracy: 0.7530 - val_loss: 0.4411 - val_accuracy: 0.7797\n",
            "Epoch 4/50\n",
            "37/37 [==============================] - 1s 18ms/step - loss: 0.4599 - accuracy: 0.7700 - val_loss: 0.3993 - val_accuracy: 0.8051\n",
            "Epoch 5/50\n",
            "37/37 [==============================] - 1s 16ms/step - loss: 0.4319 - accuracy: 0.7956 - val_loss: 0.3700 - val_accuracy: 0.8051\n",
            "Epoch 6/50\n",
            "37/37 [==============================] - 1s 16ms/step - loss: 0.4166 - accuracy: 0.7922 - val_loss: 0.3517 - val_accuracy: 0.8051\n",
            "Epoch 7/50\n",
            "37/37 [==============================] - 1s 19ms/step - loss: 0.4114 - accuracy: 0.7981 - val_loss: 0.3524 - val_accuracy: 0.8475\n",
            "Epoch 8/50\n",
            "37/37 [==============================] - 1s 22ms/step - loss: 0.3875 - accuracy: 0.8066 - val_loss: 0.3285 - val_accuracy: 0.8475\n",
            "Epoch 9/50\n",
            "37/37 [==============================] - 1s 19ms/step - loss: 0.3764 - accuracy: 0.8041 - val_loss: 0.3223 - val_accuracy: 0.8390\n",
            "Epoch 10/50\n",
            "37/37 [==============================] - 1s 18ms/step - loss: 0.3729 - accuracy: 0.8083 - val_loss: 0.3123 - val_accuracy: 0.8475\n",
            "Epoch 11/50\n",
            "37/37 [==============================] - 1s 24ms/step - loss: 0.3608 - accuracy: 0.8228 - val_loss: 0.2974 - val_accuracy: 0.8390\n",
            "Epoch 12/50\n",
            "37/37 [==============================] - 1s 17ms/step - loss: 0.3571 - accuracy: 0.8203 - val_loss: 0.2926 - val_accuracy: 0.8390\n",
            "Epoch 13/50\n",
            "37/37 [==============================] - 1s 20ms/step - loss: 0.3477 - accuracy: 0.8271 - val_loss: 0.2885 - val_accuracy: 0.8475\n",
            "Epoch 14/50\n",
            "37/37 [==============================] - 1s 17ms/step - loss: 0.3475 - accuracy: 0.8245 - val_loss: 0.2771 - val_accuracy: 0.8644\n",
            "Epoch 15/50\n",
            "37/37 [==============================] - 1s 18ms/step - loss: 0.3389 - accuracy: 0.8339 - val_loss: 0.2763 - val_accuracy: 0.8559\n",
            "Epoch 16/50\n",
            "37/37 [==============================] - 1s 19ms/step - loss: 0.3364 - accuracy: 0.8382 - val_loss: 0.2751 - val_accuracy: 0.8729\n",
            "Epoch 17/50\n",
            "37/37 [==============================] - 1s 22ms/step - loss: 0.3330 - accuracy: 0.8330 - val_loss: 0.2640 - val_accuracy: 0.8729\n",
            "Epoch 18/50\n",
            "37/37 [==============================] - 1s 24ms/step - loss: 0.3273 - accuracy: 0.8390 - val_loss: 0.2695 - val_accuracy: 0.8983\n",
            "Epoch 19/50\n",
            "37/37 [==============================] - 1s 20ms/step - loss: 0.3243 - accuracy: 0.8450 - val_loss: 0.2663 - val_accuracy: 0.8814\n",
            "Epoch 20/50\n",
            "37/37 [==============================] - 1s 20ms/step - loss: 0.3252 - accuracy: 0.8407 - val_loss: 0.2569 - val_accuracy: 0.8814\n",
            "Epoch 21/50\n",
            "37/37 [==============================] - 1s 24ms/step - loss: 0.3237 - accuracy: 0.8407 - val_loss: 0.2521 - val_accuracy: 0.8814\n",
            "Epoch 22/50\n",
            "37/37 [==============================] - 1s 19ms/step - loss: 0.3157 - accuracy: 0.8509 - val_loss: 0.2664 - val_accuracy: 0.8729\n",
            "Epoch 23/50\n",
            "37/37 [==============================] - 1s 22ms/step - loss: 0.3218 - accuracy: 0.8424 - val_loss: 0.2525 - val_accuracy: 0.8983\n",
            "Epoch 24/50\n",
            "37/37 [==============================] - 1s 23ms/step - loss: 0.3122 - accuracy: 0.8526 - val_loss: 0.2445 - val_accuracy: 0.9068\n",
            "Epoch 25/50\n",
            "37/37 [==============================] - 1s 18ms/step - loss: 0.3091 - accuracy: 0.8518 - val_loss: 0.2484 - val_accuracy: 0.8898\n",
            "Epoch 26/50\n",
            "37/37 [==============================] - 1s 20ms/step - loss: 0.3074 - accuracy: 0.8492 - val_loss: 0.2429 - val_accuracy: 0.9068\n",
            "Epoch 27/50\n",
            "37/37 [==============================] - 1s 19ms/step - loss: 0.3054 - accuracy: 0.8484 - val_loss: 0.2369 - val_accuracy: 0.9153\n",
            "Epoch 28/50\n",
            "37/37 [==============================] - 1s 18ms/step - loss: 0.3030 - accuracy: 0.8509 - val_loss: 0.2380 - val_accuracy: 0.9068\n",
            "Epoch 29/50\n",
            "37/37 [==============================] - 1s 20ms/step - loss: 0.3060 - accuracy: 0.8518 - val_loss: 0.2355 - val_accuracy: 0.9068\n",
            "Epoch 30/50\n",
            "37/37 [==============================] - 1s 19ms/step - loss: 0.2985 - accuracy: 0.8560 - val_loss: 0.2340 - val_accuracy: 0.8983\n",
            "Epoch 31/50\n",
            "37/37 [==============================] - 1s 22ms/step - loss: 0.2977 - accuracy: 0.8552 - val_loss: 0.2295 - val_accuracy: 0.8983\n",
            "Epoch 32/50\n",
            "37/37 [==============================] - 1s 22ms/step - loss: 0.2943 - accuracy: 0.8629 - val_loss: 0.2269 - val_accuracy: 0.9068\n",
            "Epoch 33/50\n",
            "37/37 [==============================] - 1s 18ms/step - loss: 0.2950 - accuracy: 0.8603 - val_loss: 0.2274 - val_accuracy: 0.9068\n",
            "Epoch 34/50\n",
            "37/37 [==============================] - 1s 18ms/step - loss: 0.2925 - accuracy: 0.8552 - val_loss: 0.2299 - val_accuracy: 0.9068\n",
            "Epoch 35/50\n",
            "37/37 [==============================] - 1s 20ms/step - loss: 0.2915 - accuracy: 0.8586 - val_loss: 0.2218 - val_accuracy: 0.9068\n",
            "Epoch 36/50\n",
            "37/37 [==============================] - 1s 23ms/step - loss: 0.2919 - accuracy: 0.8569 - val_loss: 0.2233 - val_accuracy: 0.9153\n",
            "Epoch 37/50\n",
            "37/37 [==============================] - 1s 19ms/step - loss: 0.2899 - accuracy: 0.8620 - val_loss: 0.2213 - val_accuracy: 0.9068\n",
            "Epoch 38/50\n",
            "37/37 [==============================] - 1s 18ms/step - loss: 0.2864 - accuracy: 0.8629 - val_loss: 0.2190 - val_accuracy: 0.9068\n",
            "Epoch 39/50\n",
            "37/37 [==============================] - 1s 18ms/step - loss: 0.2853 - accuracy: 0.8688 - val_loss: 0.2207 - val_accuracy: 0.9237\n",
            "Epoch 40/50\n",
            "37/37 [==============================] - 1s 22ms/step - loss: 0.2836 - accuracy: 0.8688 - val_loss: 0.2207 - val_accuracy: 0.9237\n",
            "Epoch 41/50\n",
            "37/37 [==============================] - 1s 19ms/step - loss: 0.2817 - accuracy: 0.8688 - val_loss: 0.2195 - val_accuracy: 0.9068\n",
            "Epoch 42/50\n",
            "37/37 [==============================] - 1s 19ms/step - loss: 0.2823 - accuracy: 0.8663 - val_loss: 0.2139 - val_accuracy: 0.9237\n",
            "Epoch 43/50\n",
            "37/37 [==============================] - 1s 20ms/step - loss: 0.2845 - accuracy: 0.8637 - val_loss: 0.2188 - val_accuracy: 0.9068\n",
            "Epoch 44/50\n",
            "37/37 [==============================] - 1s 19ms/step - loss: 0.2783 - accuracy: 0.8688 - val_loss: 0.2146 - val_accuracy: 0.9237\n",
            "Epoch 45/50\n",
            "37/37 [==============================] - 1s 18ms/step - loss: 0.2783 - accuracy: 0.8629 - val_loss: 0.2123 - val_accuracy: 0.9153\n",
            "Epoch 46/50\n",
            "37/37 [==============================] - 1s 19ms/step - loss: 0.2769 - accuracy: 0.8756 - val_loss: 0.2120 - val_accuracy: 0.9068\n",
            "Epoch 47/50\n",
            "37/37 [==============================] - 1s 20ms/step - loss: 0.2777 - accuracy: 0.8612 - val_loss: 0.2218 - val_accuracy: 0.8898\n",
            "Epoch 48/50\n",
            "37/37 [==============================] - 1s 19ms/step - loss: 0.2740 - accuracy: 0.8688 - val_loss: 0.2100 - val_accuracy: 0.9237\n",
            "Epoch 49/50\n",
            "37/37 [==============================] - 1s 17ms/step - loss: 0.2728 - accuracy: 0.8790 - val_loss: 0.2126 - val_accuracy: 0.9068\n",
            "Epoch 50/50\n",
            "37/37 [==============================] - 1s 16ms/step - loss: 0.2739 - accuracy: 0.8688 - val_loss: 0.2067 - val_accuracy: 0.9237\n"
          ]
        }
      ],
      "source": [
        "\n",
        "\n",
        "history = model.fit(\n",
        "    x=[x1_train, x2_train], \n",
        "    y=y_train,\n",
        "    batch_size=32,\n",
        "    epochs=50,\n",
        "    validation_data=(\n",
        "        [test_set, test_set1], \n",
        "        target_test\n",
        "    ),\n",
        "    shuffle=True\n",
        ")"
      ]
    },
    {
      "cell_type": "code",
      "source": [
        "y_val0 = []\n",
        "for x in target_test:\n",
        "  y_val0.append(np.argmax(x))\n",
        "y_val0 = np.array(y_val0)"
      ],
      "metadata": {
        "id": "vehEpFM1ijh3"
      },
      "execution_count": 87,
      "outputs": []
    },
    {
      "cell_type": "code",
      "source": [
        "pred = model.predict([test_set, test_set1])\n",
        "pred1 =[]\n",
        "for x in pred:\n",
        "  pred1.append(np.argmax(x))\n",
        "pred1 = np.array(pred1)  "
      ],
      "metadata": {
        "id": "6ayhpdtAmgp1"
      },
      "execution_count": 88,
      "outputs": []
    },
    {
      "cell_type": "code",
      "source": [
        "from sklearn.metrics import classification_report\n",
        "target_names = ['class 0', 'class 1']\n",
        "print(classification_report(y_val0,  pred1, target_names=target_names))"
      ],
      "metadata": {
        "colab": {
          "base_uri": "https://localhost:8080/"
        },
        "id": "GfoxfLLHiTjK",
        "outputId": "9193662d-7f02-4d9d-e72a-7cf2c24bbb4e"
      },
      "execution_count": 89,
      "outputs": [
        {
          "output_type": "stream",
          "name": "stdout",
          "text": [
            "              precision    recall  f1-score   support\n",
            "\n",
            "     class 0       0.92      0.96      0.94        76\n",
            "     class 1       0.92      0.86      0.89        42\n",
            "\n",
            "    accuracy                           0.92       118\n",
            "   macro avg       0.92      0.91      0.92       118\n",
            "weighted avg       0.92      0.92      0.92       118\n",
            "\n"
          ]
        }
      ]
    },
    {
      "cell_type": "code",
      "source": [
        "!pip install scikit-plot"
      ],
      "metadata": {
        "id": "ogTSgmARqYUg",
        "colab": {
          "base_uri": "https://localhost:8080/"
        },
        "outputId": "994b75cd-ba42-4812-ade5-cd6bed69be24"
      },
      "execution_count": 90,
      "outputs": [
        {
          "output_type": "stream",
          "name": "stdout",
          "text": [
            "Requirement already satisfied: scikit-plot in /usr/local/lib/python3.7/dist-packages (0.3.7)\n",
            "Requirement already satisfied: joblib>=0.10 in /usr/local/lib/python3.7/dist-packages (from scikit-plot) (1.1.0)\n",
            "Requirement already satisfied: scikit-learn>=0.18 in /usr/local/lib/python3.7/dist-packages (from scikit-plot) (1.0.2)\n",
            "Requirement already satisfied: matplotlib>=1.4.0 in /usr/local/lib/python3.7/dist-packages (from scikit-plot) (3.2.2)\n",
            "Requirement already satisfied: scipy>=0.9 in /usr/local/lib/python3.7/dist-packages (from scikit-plot) (1.4.1)\n",
            "Requirement already satisfied: cycler>=0.10 in /usr/local/lib/python3.7/dist-packages (from matplotlib>=1.4.0->scikit-plot) (0.11.0)\n",
            "Requirement already satisfied: python-dateutil>=2.1 in /usr/local/lib/python3.7/dist-packages (from matplotlib>=1.4.0->scikit-plot) (2.8.2)\n",
            "Requirement already satisfied: pyparsing!=2.0.4,!=2.1.2,!=2.1.6,>=2.0.1 in /usr/local/lib/python3.7/dist-packages (from matplotlib>=1.4.0->scikit-plot) (3.0.8)\n",
            "Requirement already satisfied: kiwisolver>=1.0.1 in /usr/local/lib/python3.7/dist-packages (from matplotlib>=1.4.0->scikit-plot) (1.4.2)\n",
            "Requirement already satisfied: numpy>=1.11 in /usr/local/lib/python3.7/dist-packages (from matplotlib>=1.4.0->scikit-plot) (1.21.6)\n",
            "Requirement already satisfied: typing-extensions in /usr/local/lib/python3.7/dist-packages (from kiwisolver>=1.0.1->matplotlib>=1.4.0->scikit-plot) (4.2.0)\n",
            "Requirement already satisfied: six>=1.5 in /usr/local/lib/python3.7/dist-packages (from python-dateutil>=2.1->matplotlib>=1.4.0->scikit-plot) (1.15.0)\n",
            "Requirement already satisfied: threadpoolctl>=2.0.0 in /usr/local/lib/python3.7/dist-packages (from scikit-learn>=0.18->scikit-plot) (3.1.0)\n"
          ]
        }
      ]
    },
    {
      "cell_type": "code",
      "source": [
        "import scikitplot as skplt\n",
        "import matplotlib.pyplot as plt"
      ],
      "metadata": {
        "id": "EMcZGrYaqcwo"
      },
      "execution_count": 91,
      "outputs": []
    },
    {
      "cell_type": "code",
      "source": [
        "skplt.metrics.plot_roc_curve(y_val0,pred,title=\"ROC Curves with LSTM\", cmap='Blues', figsize=[7,7])\n",
        "plt.show()"
      ],
      "metadata": {
        "colab": {
          "base_uri": "https://localhost:8080/",
          "height": 513
        },
        "id": "S3kxmdBDqdoj",
        "outputId": "e6a993c3-6f1d-497a-fa48-74095c3cd84f"
      },
      "execution_count": 92,
      "outputs": [
        {
          "output_type": "stream",
          "name": "stderr",
          "text": [
            "/usr/local/lib/python3.7/dist-packages/sklearn/utils/deprecation.py:87: FutureWarning: Function plot_roc_curve is deprecated; This will be removed in v0.5.0. Please use scikitplot.metrics.plot_roc instead.\n",
            "  warnings.warn(msg, category=FutureWarning)\n"
          ]
        },
        {
          "output_type": "display_data",
          "data": {
            "text/plain": [
              "<Figure size 504x504 with 1 Axes>"
            ],
            "image/png": "[encoded data removed]"
          },
          "metadata": {
            "needs_background": "light"
          }
        }
      ]
    },
    {
      "cell_type": "code",
      "source": [
        "\n",
        "from keras import Input\n",
        "from keras.layers import Embedding,LSTM, concatenate, Dense,Conv1D,Flatten\n",
        "from keras.models import Model\n",
        "\n",
        "tp = Input(\n",
        "    shape=(20, ), \n",
        "    dtype='int32')\n",
        "bp = Input(\n",
        "    shape=(20, ), \n",
        "    dtype='int32')\n",
        "\n",
        "e__m = Embedding(\n",
        "    10000, 256)\n",
        "t_e = e__m(\n",
        "    tp)\n",
        "b_e= e__m(\n",
        "    bp)\n",
        "\n",
        "c = Conv1D(kernel_size=3,padding='same',filters=256,activation='relu')\n",
        "t_o= c(t_e)\n",
        "b_o = c(b_e)\n",
        "\n",
        "mer = concatenate(\n",
        "    [t_o, b_o], \n",
        "    axis=-1)\n",
        "mer = Flatten()(mer)\n",
        "d =  Dense(\n",
        "    units=2, \n",
        "    activation='softmax')\n",
        "out = d(mer)\n",
        "\n",
        "model1 = Model(\n",
        "    inputs=[tp, bp], \n",
        "    outputs=out)\n",
        "\n",
        "model1.summary()"
      ],
      "metadata": {
        "colab": {
          "base_uri": "https://localhost:8080/"
        },
        "id": "LXBmzsVBfrjy",
        "outputId": "a680f33b-b452-4da7-a91b-ebeeea638146"
      },
      "execution_count": 93,
      "outputs": [
        {
          "output_type": "stream",
          "name": "stdout",
          "text": [
            "Model: \"model_1\"\n",
            "__________________________________________________________________________________________________\n",
            " Layer (type)                   Output Shape         Param #     Connected to                     \n",
            "==================================================================================================\n",
            " input_3 (InputLayer)           [(None, 20)]         0           []                               \n",
            "                                                                                                  \n",
            " input_4 (InputLayer)           [(None, 20)]         0           []                               \n",
            "                                                                                                  \n",
            " embedding_1 (Embedding)        (None, 20, 256)      2560000     ['input_3[0][0]',                \n",
            "                                                                  'input_4[0][0]']                \n",
            "                                                                                                  \n",
            " conv1d (Conv1D)                (None, 20, 256)      196864      ['embedding_1[0][0]',            \n",
            "                                                                  'embedding_1[1][0]']            \n",
            "                                                                                                  \n",
            " concatenate_1 (Concatenate)    (None, 20, 512)      0           ['conv1d[0][0]',                 \n",
            "                                                                  'conv1d[1][0]']                 \n",
            "                                                                                                  \n",
            " flatten (Flatten)              (None, 10240)        0           ['concatenate_1[0][0]']          \n",
            "                                                                                                  \n",
            " dense_1 (Dense)                (None, 2)            20482       ['flatten[0][0]']                \n",
            "                                                                                                  \n",
            "==================================================================================================\n",
            "Total params: 2,777,346\n",
            "Trainable params: 2,777,346\n",
            "Non-trainable params: 0\n",
            "__________________________________________________________________________________________________\n"
          ]
        }
      ]
    },
    {
      "cell_type": "code",
      "execution_count": 94,
      "metadata": {
        "colab": {
          "base_uri": "https://localhost:8080/"
        },
        "id": "dBAq16FdLu6i",
        "outputId": "021fda71-be33-4758-96bb-00463b9914ef"
      },
      "outputs": [
        {
          "output_type": "stream",
          "name": "stderr",
          "text": [
            "/usr/local/lib/python3.7/dist-packages/keras/optimizer_v2/adam.py:105: UserWarning: The `lr` argument is deprecated, use `learning_rate` instead.\n",
            "  super(Adam, self).__init__(name, **kwargs)\n"
          ]
        }
      ],
      "source": [
        "from tensorflow.keras.optimizers import Adam\n",
        "learn = 1e-3\n",
        "opt = Adam(lr=learn, decay=0.01)\n",
        "model1.compile(\n",
        "    optimizer=opt,\n",
        "    loss='categorical_crossentropy',\n",
        "    metrics=['accuracy'])"
      ]
    },
    {
      "cell_type": "code",
      "execution_count": 95,
      "metadata": {
        "colab": {
          "base_uri": "https://localhost:8080/"
        },
        "id": "iPXYoAz_LWxD",
        "outputId": "67ac367f-7239-45ec-dc19-49dfdebfc6d3"
      },
      "outputs": [
        {
          "output_type": "stream",
          "name": "stdout",
          "text": [
            "Epoch 1/50\n",
            "37/37 [==============================] - 3s 23ms/step - loss: 0.6211 - accuracy: 0.6499 - val_loss: 0.5308 - val_accuracy: 0.6949\n",
            "Epoch 2/50\n",
            "37/37 [==============================] - 0s 6ms/step - loss: 0.5016 - accuracy: 0.7581 - val_loss: 0.4155 - val_accuracy: 0.8051\n",
            "Epoch 3/50\n",
            "37/37 [==============================] - 0s 6ms/step - loss: 0.4398 - accuracy: 0.8032 - val_loss: 0.3543 - val_accuracy: 0.8644\n",
            "Epoch 4/50\n",
            "37/37 [==============================] - 0s 10ms/step - loss: 0.3969 - accuracy: 0.8160 - val_loss: 0.3085 - val_accuracy: 0.8898\n",
            "Epoch 5/50\n",
            "37/37 [==============================] - 0s 8ms/step - loss: 0.3574 - accuracy: 0.8416 - val_loss: 0.2727 - val_accuracy: 0.9322\n",
            "Epoch 6/50\n",
            "37/37 [==============================] - 0s 7ms/step - loss: 0.3235 - accuracy: 0.8637 - val_loss: 0.2554 - val_accuracy: 0.9322\n",
            "Epoch 7/50\n",
            "37/37 [==============================] - 0s 7ms/step - loss: 0.2975 - accuracy: 0.8705 - val_loss: 0.2276 - val_accuracy: 0.9407\n",
            "Epoch 8/50\n",
            "37/37 [==============================] - 0s 7ms/step - loss: 0.2774 - accuracy: 0.8893 - val_loss: 0.2097 - val_accuracy: 0.9576\n",
            "Epoch 9/50\n",
            "37/37 [==============================] - 0s 6ms/step - loss: 0.2616 - accuracy: 0.8969 - val_loss: 0.2027 - val_accuracy: 0.9576\n",
            "Epoch 10/50\n",
            "37/37 [==============================] - 0s 6ms/step - loss: 0.2455 - accuracy: 0.9029 - val_loss: 0.1883 - val_accuracy: 0.9576\n",
            "Epoch 11/50\n",
            "37/37 [==============================] - 0s 7ms/step - loss: 0.2337 - accuracy: 0.9106 - val_loss: 0.1828 - val_accuracy: 0.9576\n",
            "Epoch 12/50\n",
            "37/37 [==============================] - 0s 6ms/step - loss: 0.2206 - accuracy: 0.9148 - val_loss: 0.1711 - val_accuracy: 0.9661\n",
            "Epoch 13/50\n",
            "37/37 [==============================] - 0s 6ms/step - loss: 0.2125 - accuracy: 0.9131 - val_loss: 0.1682 - val_accuracy: 0.9661\n",
            "Epoch 14/50\n",
            "37/37 [==============================] - 0s 6ms/step - loss: 0.2049 - accuracy: 0.9199 - val_loss: 0.1630 - val_accuracy: 0.9576\n",
            "Epoch 15/50\n",
            "37/37 [==============================] - 0s 7ms/step - loss: 0.1967 - accuracy: 0.9267 - val_loss: 0.1594 - val_accuracy: 0.9661\n",
            "Epoch 16/50\n",
            "37/37 [==============================] - 0s 6ms/step - loss: 0.1927 - accuracy: 0.9267 - val_loss: 0.1568 - val_accuracy: 0.9492\n",
            "Epoch 17/50\n",
            "37/37 [==============================] - 0s 6ms/step - loss: 0.1834 - accuracy: 0.9327 - val_loss: 0.1486 - val_accuracy: 0.9661\n",
            "Epoch 18/50\n",
            "37/37 [==============================] - 0s 6ms/step - loss: 0.1794 - accuracy: 0.9344 - val_loss: 0.1479 - val_accuracy: 0.9576\n",
            "Epoch 19/50\n",
            "37/37 [==============================] - 0s 7ms/step - loss: 0.1746 - accuracy: 0.9327 - val_loss: 0.1477 - val_accuracy: 0.9661\n",
            "Epoch 20/50\n",
            "37/37 [==============================] - 0s 6ms/step - loss: 0.1722 - accuracy: 0.9387 - val_loss: 0.1463 - val_accuracy: 0.9576\n",
            "Epoch 21/50\n",
            "37/37 [==============================] - 0s 6ms/step - loss: 0.1656 - accuracy: 0.9387 - val_loss: 0.1393 - val_accuracy: 0.9576\n",
            "Epoch 22/50\n",
            "37/37 [==============================] - 0s 7ms/step - loss: 0.1616 - accuracy: 0.9421 - val_loss: 0.1376 - val_accuracy: 0.9576\n",
            "Epoch 23/50\n",
            "37/37 [==============================] - 0s 9ms/step - loss: 0.1588 - accuracy: 0.9429 - val_loss: 0.1409 - val_accuracy: 0.9576\n",
            "Epoch 24/50\n",
            "37/37 [==============================] - 0s 7ms/step - loss: 0.1569 - accuracy: 0.9429 - val_loss: 0.1333 - val_accuracy: 0.9576\n",
            "Epoch 25/50\n",
            "37/37 [==============================] - 0s 7ms/step - loss: 0.1525 - accuracy: 0.9480 - val_loss: 0.1339 - val_accuracy: 0.9576\n",
            "Epoch 26/50\n",
            "37/37 [==============================] - 0s 6ms/step - loss: 0.1517 - accuracy: 0.9429 - val_loss: 0.1330 - val_accuracy: 0.9576\n",
            "Epoch 27/50\n",
            "37/37 [==============================] - 0s 6ms/step - loss: 0.1479 - accuracy: 0.9446 - val_loss: 0.1319 - val_accuracy: 0.9576\n",
            "Epoch 28/50\n",
            "37/37 [==============================] - 0s 7ms/step - loss: 0.1457 - accuracy: 0.9506 - val_loss: 0.1289 - val_accuracy: 0.9661\n",
            "Epoch 29/50\n",
            "37/37 [==============================] - 0s 6ms/step - loss: 0.1444 - accuracy: 0.9523 - val_loss: 0.1280 - val_accuracy: 0.9576\n",
            "Epoch 30/50\n",
            "37/37 [==============================] - 0s 6ms/step - loss: 0.1410 - accuracy: 0.9506 - val_loss: 0.1263 - val_accuracy: 0.9661\n",
            "Epoch 31/50\n",
            "37/37 [==============================] - 0s 6ms/step - loss: 0.1400 - accuracy: 0.9506 - val_loss: 0.1255 - val_accuracy: 0.9576\n",
            "Epoch 32/50\n",
            "37/37 [==============================] - 0s 6ms/step - loss: 0.1377 - accuracy: 0.9489 - val_loss: 0.1232 - val_accuracy: 0.9576\n",
            "Epoch 33/50\n",
            "37/37 [==============================] - 0s 6ms/step - loss: 0.1356 - accuracy: 0.9532 - val_loss: 0.1244 - val_accuracy: 0.9661\n",
            "Epoch 34/50\n",
            "37/37 [==============================] - 0s 6ms/step - loss: 0.1352 - accuracy: 0.9523 - val_loss: 0.1219 - val_accuracy: 0.9576\n",
            "Epoch 35/50\n",
            "37/37 [==============================] - 0s 7ms/step - loss: 0.1326 - accuracy: 0.9532 - val_loss: 0.1225 - val_accuracy: 0.9576\n",
            "Epoch 36/50\n",
            "37/37 [==============================] - 0s 6ms/step - loss: 0.1313 - accuracy: 0.9532 - val_loss: 0.1223 - val_accuracy: 0.9576\n",
            "Epoch 37/50\n",
            "37/37 [==============================] - 0s 6ms/step - loss: 0.1296 - accuracy: 0.9532 - val_loss: 0.1203 - val_accuracy: 0.9576\n",
            "Epoch 38/50\n",
            "37/37 [==============================] - 0s 6ms/step - loss: 0.1291 - accuracy: 0.9566 - val_loss: 0.1184 - val_accuracy: 0.9661\n",
            "Epoch 39/50\n",
            "37/37 [==============================] - 0s 6ms/step - loss: 0.1275 - accuracy: 0.9523 - val_loss: 0.1165 - val_accuracy: 0.9661\n",
            "Epoch 40/50\n",
            "37/37 [==============================] - 0s 6ms/step - loss: 0.1264 - accuracy: 0.9557 - val_loss: 0.1169 - val_accuracy: 0.9661\n",
            "Epoch 41/50\n",
            "37/37 [==============================] - 0s 6ms/step - loss: 0.1253 - accuracy: 0.9549 - val_loss: 0.1154 - val_accuracy: 0.9576\n",
            "Epoch 42/50\n",
            "37/37 [==============================] - 0s 6ms/step - loss: 0.1249 - accuracy: 0.9583 - val_loss: 0.1160 - val_accuracy: 0.9661\n",
            "Epoch 43/50\n",
            "37/37 [==============================] - 0s 6ms/step - loss: 0.1243 - accuracy: 0.9549 - val_loss: 0.1157 - val_accuracy: 0.9661\n",
            "Epoch 44/50\n",
            "37/37 [==============================] - 0s 6ms/step - loss: 0.1219 - accuracy: 0.9600 - val_loss: 0.1131 - val_accuracy: 0.9661\n",
            "Epoch 45/50\n",
            "37/37 [==============================] - 0s 6ms/step - loss: 0.1214 - accuracy: 0.9591 - val_loss: 0.1141 - val_accuracy: 0.9661\n",
            "Epoch 46/50\n",
            "37/37 [==============================] - 0s 6ms/step - loss: 0.1196 - accuracy: 0.9583 - val_loss: 0.1119 - val_accuracy: 0.9661\n",
            "Epoch 47/50\n",
            "37/37 [==============================] - 0s 6ms/step - loss: 0.1189 - accuracy: 0.9600 - val_loss: 0.1120 - val_accuracy: 0.9576\n",
            "Epoch 48/50\n",
            "37/37 [==============================] - 0s 10ms/step - loss: 0.1184 - accuracy: 0.9591 - val_loss: 0.1107 - val_accuracy: 0.9661\n",
            "Epoch 49/50\n",
            "37/37 [==============================] - 0s 9ms/step - loss: 0.1176 - accuracy: 0.9583 - val_loss: 0.1101 - val_accuracy: 0.9661\n",
            "Epoch 50/50\n",
            "37/37 [==============================] - 0s 12ms/step - loss: 0.1165 - accuracy: 0.9608 - val_loss: 0.1102 - val_accuracy: 0.9661\n"
          ]
        }
      ],
      "source": [
        "hi = model1.fit(\n",
        "    x=[x1_train, x2_train], \n",
        "    y=y_train,\n",
        "    batch_size=32,\n",
        "    epochs=50,\n",
        "    validation_data=(\n",
        "        [test_set, test_set1], \n",
        "        target_test\n",
        "    ))"
      ]
    },
    {
      "cell_type": "code",
      "source": [
        "pred = model1.predict([test_set, test_set1])\n",
        "pred1 =[]\n",
        "for x in pred:\n",
        "  pred1.append(np.argmax(x))\n",
        "pred1 = np.array(pred1)  "
      ],
      "metadata": {
        "id": "8ig7O85hm5gq"
      },
      "execution_count": 96,
      "outputs": []
    },
    {
      "cell_type": "code",
      "source": [
        "skplt.metrics.plot_roc_curve(y_val0,pred,title=\"ROC Curves with CNN\", cmap='Blues', figsize=[7,7])\n",
        "plt.show()"
      ],
      "metadata": {
        "colab": {
          "base_uri": "https://localhost:8080/",
          "height": 513
        },
        "id": "Be3i-N5arfHd",
        "outputId": "cbc30e39-183e-463e-f661-28cf04b1687a"
      },
      "execution_count": 97,
      "outputs": [
        {
          "output_type": "stream",
          "name": "stderr",
          "text": [
            "/usr/local/lib/python3.7/dist-packages/sklearn/utils/deprecation.py:87: FutureWarning: Function plot_roc_curve is deprecated; This will be removed in v0.5.0. Please use scikitplot.metrics.plot_roc instead.\n",
            "  warnings.warn(msg, category=FutureWarning)\n"
          ]
        },
        {
          "output_type": "display_data",
          "data": {
            "text/plain": [
              "<Figure size 504x504 with 1 Axes>"
            ],
            "image/png": "[encoded data removed]"
          },
          "metadata": {
            "needs_background": "light"
          }
        }
      ]
    },
    {
      "cell_type": "code",
      "execution_count": 98,
      "metadata": {
        "id": "PPLks4HoFd1_",
        "colab": {
          "base_uri": "https://localhost:8080/"
        },
        "outputId": "e4f735e7-68e9-430b-83e4-38d0b15625ba"
      },
      "outputs": [
        {
          "output_type": "stream",
          "name": "stdout",
          "text": [
            "              precision    recall  f1-score   support\n",
            "\n",
            "     class 0       0.96      0.99      0.97        76\n",
            "     class 1       0.97      0.93      0.95        42\n",
            "\n",
            "    accuracy                           0.97       118\n",
            "   macro avg       0.97      0.96      0.96       118\n",
            "weighted avg       0.97      0.97      0.97       118\n",
            "\n"
          ]
        }
      ],
      "source": [
        "from sklearn.metrics import classification_report\n",
        "target_names = ['class 0', 'class 1']\n",
        "print(classification_report(y_val0,  pred1, target_names=target_names))"
      ]
    }
  ]
}